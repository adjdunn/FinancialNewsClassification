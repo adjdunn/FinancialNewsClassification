{
 "cells": [
  {
   "cell_type": "markdown",
   "id": "c86310c9",
   "metadata": {},
   "source": [
    "# Financial News Release Classification"
   ]
  },
  {
   "cell_type": "markdown",
   "id": "920f6703",
   "metadata": {},
   "source": [
    "This is a natural language processing, multi-class, text classification project on financial news data. The project will test 3 machine learning algorithms (AdaBoost, Logistic Regression and Support Vector Machines) to classify financial news release titles into 5 different categories (financial release, earnings announcement, acquisition, dividend, dividend increase and misc). \n",
    "\n",
    "The goal of this project is to improve the ease and efficiency of reading through financial news releases. Financial analysts and investors use news releases to stay informed and make assessments regarding a company's future financial performance and investment return potential. In any given day, thousands of news releases can be distributed with only a small portion containing useful information. Classifying news releases saves time and improves outcomes by filtering noise and focusing attention on important information. Classification can also be the first step before additional ML and NLP technique are applied, including text summarization, sentiment analysis and information extraction. \n",
    "\n",
    "The dataset was personally created by me for the purpose of researching NLP techniques on financial news and related data. I created this dataset by web scraping new release headlines from various public RSS feeds of news release providers. I then personally annotated each sample as belonging to 1 of 6 different classes. \n",
    "\n",
    "The categories Financials, Increased Dividend and Acquisition contain information which can be relevant to the future financial and investment performance of a company. The categories Dividend, Earnings Announcement and Misc, generally contain information which is already known or not relevant to future performance.\n",
    "\n",
    "\n",
    "| Category             | Description                                                       | Important Information |   \n",
    "|----------------------|-------------------------------------------------------------------|-----------------------|\n",
    "|Financials            | Quarter and annual financial reporting and outlook.               |         Yes           |\n",
    "|Increased Dividend    | Dividend or distribution increase annoucement.                    |         Yes           |\n",
    "|Acquisition           | Acquisition or major asset purchase annoucement.                  |         Yes           |\n",
    "|Dividend              | Declaration of existing, regular dividend.                        |          No           |\n",
    "|Earnings Announcement | Announcement of financial results to be released at future date.  |          No           |\n",
    "|Misc                  | Lawsuits, conferences, management changes, regulatory, etc.       |          No           |\n",
    "\n",
    "                    "
   ]
  },
  {
   "cell_type": "code",
   "execution_count": 1,
   "id": "0b1125d6",
   "metadata": {},
   "outputs": [],
   "source": [
    "#import libraries\n",
    "import pandas as pd\n",
    "import numpy as np\n",
    "from matplotlib import pyplot as plt\n",
    "from nltk.tokenize import word_tokenize\n",
    "from collections import Counter\n",
    "import string\n",
    "import re\n",
    "import calendar\n",
    "from nltk.corpus import stopwords\n",
    "from sklearn.feature_extraction.text import CountVectorizer\n",
    "from sklearn.feature_extraction.text import TfidfVectorizer\n",
    "from sklearn.model_selection import train_test_split\n",
    "from sklearn.metrics import classification_report\n",
    "from sklearn.metrics import confusion_matrix, ConfusionMatrixDisplay\n",
    "from sklearn.ensemble import AdaBoostClassifier\n",
    "from sklearn.linear_model import LogisticRegression\n",
    "from sklearn.tree import DecisionTreeClassifier\n",
    "from sklearn.svm import SVC"
   ]
  },
  {
   "cell_type": "markdown",
   "id": "3c3132f0",
   "metadata": {},
   "source": [
    "## Load and Inspect Data "
   ]
  },
  {
   "cell_type": "code",
   "execution_count": 2,
   "id": "9512a75a",
   "metadata": {},
   "outputs": [],
   "source": [
    "data = pd.read_csv('data.csv', encoding_errors='ignore')"
   ]
  },
  {
   "cell_type": "code",
   "execution_count": 3,
   "id": "5b24b2c1",
   "metadata": {},
   "outputs": [
    {
     "data": {
      "text/html": [
       "<div>\n",
       "<style scoped>\n",
       "    .dataframe tbody tr th:only-of-type {\n",
       "        vertical-align: middle;\n",
       "    }\n",
       "\n",
       "    .dataframe tbody tr th {\n",
       "        vertical-align: top;\n",
       "    }\n",
       "\n",
       "    .dataframe thead th {\n",
       "        text-align: right;\n",
       "    }\n",
       "</style>\n",
       "<table border=\"1\" class=\"dataframe\">\n",
       "  <thead>\n",
       "    <tr style=\"text-align: right;\">\n",
       "      <th></th>\n",
       "      <th>Category</th>\n",
       "      <th>Title</th>\n",
       "    </tr>\n",
       "  </thead>\n",
       "  <tbody>\n",
       "    <tr>\n",
       "      <th>0</th>\n",
       "      <td>Acquisition</td>\n",
       "      <td>indie Semiconductor Enters Definitive Agreemen...</td>\n",
       "    </tr>\n",
       "    <tr>\n",
       "      <th>1</th>\n",
       "      <td>Misc</td>\n",
       "      <td>Virtuoso Acquisition Corp. Announces Effective...</td>\n",
       "    </tr>\n",
       "    <tr>\n",
       "      <th>2</th>\n",
       "      <td>Acquisition</td>\n",
       "      <td>Dawson Geophysical Announces Merger Agreement ...</td>\n",
       "    </tr>\n",
       "    <tr>\n",
       "      <th>3</th>\n",
       "      <td>Acquisition</td>\n",
       "      <td>Hydrofarm Signs Agreement to Acquire Innovativ...</td>\n",
       "    </tr>\n",
       "    <tr>\n",
       "      <th>4</th>\n",
       "      <td>Acquisition</td>\n",
       "      <td>Crestwood to Acquire Oasis Midstream Partners ...</td>\n",
       "    </tr>\n",
       "  </tbody>\n",
       "</table>\n",
       "</div>"
      ],
      "text/plain": [
       "      Category                                              Title\n",
       "0  Acquisition  indie Semiconductor Enters Definitive Agreemen...\n",
       "1         Misc  Virtuoso Acquisition Corp. Announces Effective...\n",
       "2  Acquisition  Dawson Geophysical Announces Merger Agreement ...\n",
       "3  Acquisition  Hydrofarm Signs Agreement to Acquire Innovativ...\n",
       "4  Acquisition  Crestwood to Acquire Oasis Midstream Partners ..."
      ]
     },
     "execution_count": 3,
     "metadata": {},
     "output_type": "execute_result"
    }
   ],
   "source": [
    "data.head()"
   ]
  },
  {
   "cell_type": "code",
   "execution_count": 4,
   "id": "95dba03a",
   "metadata": {
    "scrolled": true
   },
   "outputs": [
    {
     "name": "stdout",
     "output_type": "stream",
     "text": [
      "<class 'pandas.core.frame.DataFrame'>\n",
      "RangeIndex: 11896 entries, 0 to 11895\n",
      "Data columns (total 2 columns):\n",
      " #   Column    Non-Null Count  Dtype \n",
      "---  ------    --------------  ----- \n",
      " 0   Category  11896 non-null  object\n",
      " 1   Title     11896 non-null  object\n",
      "dtypes: object(2)\n",
      "memory usage: 186.0+ KB\n"
     ]
    }
   ],
   "source": [
    "data.info()"
   ]
  },
  {
   "cell_type": "markdown",
   "id": "00e08bc1",
   "metadata": {},
   "source": [
    "The dataset contains 11896 samples with zero null values. There are two columns which both contain str data. "
   ]
  },
  {
   "cell_type": "code",
   "execution_count": 5,
   "id": "56328fa3",
   "metadata": {},
   "outputs": [
    {
     "data": {
      "text/html": [
       "<div>\n",
       "<style scoped>\n",
       "    .dataframe tbody tr th:only-of-type {\n",
       "        vertical-align: middle;\n",
       "    }\n",
       "\n",
       "    .dataframe tbody tr th {\n",
       "        vertical-align: top;\n",
       "    }\n",
       "\n",
       "    .dataframe thead th {\n",
       "        text-align: right;\n",
       "    }\n",
       "</style>\n",
       "<table border=\"1\" class=\"dataframe\">\n",
       "  <thead>\n",
       "    <tr style=\"text-align: right;\">\n",
       "      <th></th>\n",
       "      <th>Title</th>\n",
       "    </tr>\n",
       "    <tr>\n",
       "      <th>Category</th>\n",
       "      <th></th>\n",
       "    </tr>\n",
       "  </thead>\n",
       "  <tbody>\n",
       "    <tr>\n",
       "      <th>Acquisition</th>\n",
       "      <td>151</td>\n",
       "    </tr>\n",
       "    <tr>\n",
       "      <th>Dividends</th>\n",
       "      <td>314</td>\n",
       "    </tr>\n",
       "    <tr>\n",
       "      <th>Earnings Announcement</th>\n",
       "      <td>961</td>\n",
       "    </tr>\n",
       "    <tr>\n",
       "      <th>Financials</th>\n",
       "      <td>1458</td>\n",
       "    </tr>\n",
       "    <tr>\n",
       "      <th>Increased Dividend</th>\n",
       "      <td>99</td>\n",
       "    </tr>\n",
       "    <tr>\n",
       "      <th>Misc</th>\n",
       "      <td>8913</td>\n",
       "    </tr>\n",
       "  </tbody>\n",
       "</table>\n",
       "</div>"
      ],
      "text/plain": [
       "                       Title\n",
       "Category                    \n",
       "Acquisition              151\n",
       "Dividends                314\n",
       "Earnings Announcement    961\n",
       "Financials              1458\n",
       "Increased Dividend        99\n",
       "Misc                    8913"
      ]
     },
     "execution_count": 5,
     "metadata": {},
     "output_type": "execute_result"
    }
   ],
   "source": [
    "#View category/class counts.\n",
    "data.groupby('Category').count()"
   ]
  },
  {
   "cell_type": "code",
   "execution_count": 6,
   "id": "2bbd917e",
   "metadata": {
    "scrolled": true
   },
   "outputs": [
    {
     "data": {
      "image/png": "[encoded data removed]",
      "text/plain": [
       "<Figure size 432x288 with 1 Axes>"
      ]
     },
     "metadata": {
      "needs_background": "light"
     },
     "output_type": "display_data"
    }
   ],
   "source": [
    "#Bar chart of class counts.\n",
    "data.groupby('Category').count().plot(kind='bar', title='Sample Counts by Category')\n",
    "plt.ylabel(\"Samples per Category\")\n",
    "plt.xticks(rotation=30, horizontalalignment=\"right\")\n",
    "plt.show()"
   ]
  },
  {
   "cell_type": "markdown",
   "id": "86c51917",
   "metadata": {},
   "source": [
    "The category column contains 6 different possible values. There is a substantial class imbalance in the categories which will need to be addressed for classification and validation. "
   ]
  },
  {
   "cell_type": "markdown",
   "id": "57ccf2b6",
   "metadata": {},
   "source": [
    "## Exploratory Data Analysis  "
   ]
  },
  {
   "cell_type": "markdown",
   "id": "91fdfffa",
   "metadata": {},
   "source": [
    "### View Random Samples for Each Category "
   ]
  },
  {
   "cell_type": "markdown",
   "id": "2614c4d4",
   "metadata": {},
   "source": [
    "The view_samples function below will display a specified (n) number of samples from a specified category. Inspecting individual samples from each category helps to build knowledge of the type of information contained in the samples and how the categories may differ."
   ]
  },
  {
   "cell_type": "code",
   "execution_count": 7,
   "id": "9ef508f1",
   "metadata": {},
   "outputs": [],
   "source": [
    "#Function to view n numbers of samples per class. \n",
    "def view_samples(category, num_samples=5):\n",
    "    \"\"\"Category is a str and can be any value from the Category column of the dataset.\n",
    "       num_samples is an int and specifies the number of random samples to view from the specified Category.\n",
    "    \"\"\"\n",
    "    \n",
    "    sample_data = data[data.Category == category].sample(num_samples).Title.values\n",
    "    \n",
    "    for sample in sample_data:\n",
    "        print(sample)\n",
    "        print()\n",
    "        \n",
    "    return\n",
    "    "
   ]
  },
  {
   "cell_type": "code",
   "execution_count": 8,
   "id": "fa658b49",
   "metadata": {},
   "outputs": [
    {
     "name": "stdout",
     "output_type": "stream",
     "text": [
      "Masimo to Report Fourth Quarter and Full Year 2020 Financial Results after Market Close on Tuesday, February 23\n",
      "\n",
      "Plug Power to Announce 2020 Fourth Quarter and Year End Results\n",
      "\n",
      "LiveXLive Media to Announce Third Quarter Fiscal 2021 Financial Results on Thursday, February 11th\n",
      "\n",
      "Ambarella Announces Fourth Quarter and Fiscal Year 2021 Earnings Conference Call to be Held March 2, 2021\n",
      "\n",
      "ACV to Report Third Quarter 2021 Financial Results on November 10, 2021\n",
      "\n",
      "Novanta Inc. Schedules Earnings Release and Conference Call for Monday, March 01, 2021\n",
      "\n",
      "SBA Communications Corporation Sets Date for Fourth Quarter 2020 Earnings Release\n",
      "\n",
      "Mr. Cooper Group Inc. to Discuss Fourth Quarter 2020 Financial Results on February 23, 2021\n",
      "\n",
      "Ekso Bionics® to Report Fourth Quarter and Full Year 2020 Financial Results on February 25, 2021\n",
      "\n",
      "Ramaco Resources, Inc. to Release Fourth Quarter 2020 Financial Results on Thursday, February 18, 2021 and Host Conference Call and Webcast on Friday, February 19, 2021\n",
      "\n"
     ]
    }
   ],
   "source": [
    "#View random samples from any category to gain an understanding of the data.\n",
    "view_samples('Earnings Announcement', num_samples=10)"
   ]
  },
  {
   "cell_type": "markdown",
   "id": "64112b93",
   "metadata": {},
   "source": [
    "### Explore Length of Text per Sample "
   ]
  },
  {
   "cell_type": "code",
   "execution_count": 9,
   "id": "107e4be6",
   "metadata": {},
   "outputs": [],
   "source": [
    "#Tokenize text data.\n",
    "data['tokenized_text'] = data.Title.apply(lambda x: word_tokenize(x))"
   ]
  },
  {
   "cell_type": "code",
   "execution_count": 10,
   "id": "22681411",
   "metadata": {},
   "outputs": [
    {
     "data": {
      "text/plain": [
       "count    11896.000000\n",
       "mean        15.588685\n",
       "std          7.818068\n",
       "min          2.000000\n",
       "25%         10.000000\n",
       "50%         14.000000\n",
       "75%         19.000000\n",
       "max         60.000000\n",
       "Name: text_length, dtype: float64"
      ]
     },
     "execution_count": 10,
     "metadata": {},
     "output_type": "execute_result"
    }
   ],
   "source": [
    "#Compute average number of tokens per sample.\n",
    "data['text_length'] = data.tokenized_text.apply(lambda x: len(x))\n",
    "data.text_length.describe()"
   ]
  },
  {
   "cell_type": "markdown",
   "id": "f6f8db0e",
   "metadata": {},
   "source": [
    "The average number of tokens (including words, symbols, numbers and punctuation) is approximately 16 per sample. The shortest sample has 2 tokens and the largest longest sample has 60 tokens. The interquartile range is between 10 and 19 tokens per sample. "
   ]
  },
  {
   "cell_type": "code",
   "execution_count": 11,
   "id": "493f740e",
   "metadata": {},
   "outputs": [
    {
     "data": {
      "text/plain": [
       "Category\n",
       "Acquisition              12.834437\n",
       "Dividends                 9.124204\n",
       "Earnings Announcement    15.323621\n",
       "Financials               11.882716\n",
       "Increased Dividend       11.909091\n",
       "Misc                     16.538764\n",
       "Name: text_length, dtype: float64"
      ]
     },
     "execution_count": 11,
     "metadata": {},
     "output_type": "execute_result"
    }
   ],
   "source": [
    "#Average number of tokens by category.\n",
    "data.groupby('Category').text_length.mean()"
   ]
  },
  {
   "cell_type": "code",
   "execution_count": 12,
   "id": "95b827e5",
   "metadata": {},
   "outputs": [
    {
     "data": {
      "image/png": "[encoded data removed]",
      "text/plain": [
       "<Figure size 432x288 with 1 Axes>"
      ]
     },
     "metadata": {
      "needs_background": "light"
     },
     "output_type": "display_data"
    }
   ],
   "source": [
    "#Bar chart for average tokens per Category.\n",
    "data.groupby('Category').text_length.mean().plot(kind='bar', title='Average Number of Tokens by Category')\n",
    "plt.ylabel(\"Average Tokens per Category\")\n",
    "plt.xticks(rotation=30, horizontalalignment=\"right\")\n",
    "plt.show()"
   ]
  },
  {
   "cell_type": "markdown",
   "id": "62813854",
   "metadata": {},
   "source": [
    "There does not appear to be a significant difference in the number average number of words between most of the Categories."
   ]
  },
  {
   "cell_type": "markdown",
   "id": "ce938ab9",
   "metadata": {},
   "source": [
    "### Explore Special Tokens (Symbols, Punctuation and Numbers) "
   ]
  },
  {
   "cell_type": "code",
   "execution_count": 13,
   "id": "9ea50658",
   "metadata": {},
   "outputs": [],
   "source": [
    "#Create column for special tokens (includes symbols, puncuation and numbers).\n",
    "data['special_tokens'] = data.tokenized_text.apply(lambda x: [token for token in x if not token.isalpha()])"
   ]
  },
  {
   "cell_type": "code",
   "execution_count": 14,
   "id": "9fef534d",
   "metadata": {},
   "outputs": [
    {
     "data": {
      "text/plain": [
       "count    11896.000000\n",
       "mean         2.487895\n",
       "std          2.342765\n",
       "min          0.000000\n",
       "25%          1.000000\n",
       "50%          2.000000\n",
       "75%          4.000000\n",
       "max         23.000000\n",
       "Name: special_token_length, dtype: float64"
      ]
     },
     "execution_count": 14,
     "metadata": {},
     "output_type": "execute_result"
    }
   ],
   "source": [
    "#Compute average number of special tokens per sample.\n",
    "data['special_token_length'] = data.special_tokens.apply(lambda x: len(x))\n",
    "data.special_token_length.describe()"
   ]
  },
  {
   "cell_type": "raw",
   "id": "8d810d45",
   "metadata": {},
   "source": [
    "The average number of special tokens per sample is approximately 2.5. The interquartile range is between 1 and 4 special tokens per sample. "
   ]
  },
  {
   "cell_type": "code",
   "execution_count": 15,
   "id": "c2dd9f7d",
   "metadata": {},
   "outputs": [
    {
     "data": {
      "text/plain": [
       "Category\n",
       "Acquisition              1.721854\n",
       "Dividends                1.251592\n",
       "Earnings Announcement    3.407908\n",
       "Financials               2.131687\n",
       "Increased Dividend       2.363636\n",
       "Misc                     2.504881\n",
       "Name: special_token_length, dtype: float64"
      ]
     },
     "execution_count": 15,
     "metadata": {},
     "output_type": "execute_result"
    }
   ],
   "source": [
    "#Average number of special tokens per sample by category.\n",
    "data.groupby('Category').special_token_length.mean()"
   ]
  },
  {
   "cell_type": "code",
   "execution_count": 16,
   "id": "23003844",
   "metadata": {},
   "outputs": [
    {
     "data": {
      "image/png": "[encoded data removed]",
      "text/plain": [
       "<Figure size 432x288 with 1 Axes>"
      ]
     },
     "metadata": {
      "needs_background": "light"
     },
     "output_type": "display_data"
    }
   ],
   "source": [
    "#Bar chart for average tokens per Category.\n",
    "data.groupby('Category').special_token_length.mean().plot(kind='bar', title='Average Number of Special Tokens by Category')\n",
    "plt.ylabel(\"Average Special Tokens per Category\")\n",
    "plt.xticks(rotation=30, horizontalalignment=\"right\")\n",
    "plt.show()"
   ]
  },
  {
   "cell_type": "markdown",
   "id": "f7953f62",
   "metadata": {},
   "source": [
    "There does appear to be a more significant difference in the average number of special tokens in some Categories (Earnings Annoucement and Dividends). "
   ]
  },
  {
   "cell_type": "code",
   "execution_count": 17,
   "id": "cf79cd3d",
   "metadata": {},
   "outputs": [],
   "source": [
    "#View special tokens\n",
    "special_tokens_list_of_lists = data.special_tokens.values.tolist()\n",
    "special_tokens_list = [token for sublist in special_tokens_list_of_lists for token in sublist]"
   ]
  },
  {
   "cell_type": "code",
   "execution_count": 18,
   "id": "8e6e0e79",
   "metadata": {},
   "outputs": [],
   "source": [
    "#Compute the frequency of special tokens.\n",
    "spec_tokens = Counter()\n",
    "\n",
    "for token in special_tokens_list:\n",
    "    if token in spec_tokens:\n",
    "        spec_tokens[token] += 1\n",
    "    else:\n",
    "        spec_tokens[token] = 1"
   ]
  },
  {
   "cell_type": "code",
   "execution_count": 19,
   "id": "7ef9b870",
   "metadata": {},
   "outputs": [
    {
     "data": {
      "text/plain": [
       "2482"
      ]
     },
     "execution_count": 19,
     "metadata": {},
     "output_type": "execute_result"
    }
   ],
   "source": [
    "#Number of unique special tokens in the dataset.\n",
    "len(spec_tokens)"
   ]
  },
  {
   "cell_type": "markdown",
   "id": "ed029378",
   "metadata": {},
   "source": [
    "There are 2,482 unique special tokens in the dataset. Most of these are different numbers.  "
   ]
  },
  {
   "cell_type": "code",
   "execution_count": 20,
   "id": "2cfc2595",
   "metadata": {},
   "outputs": [
    {
     "data": {
      "text/plain": [
       "[(',', 6332),\n",
       " ('2021', 2212),\n",
       " (':', 1856),\n",
       " ('2020', 1618),\n",
       " ('Inc.', 1505),\n",
       " ('$', 1317),\n",
       " ('.', 1140),\n",
       " ('&', 1036),\n",
       " ('(', 845),\n",
       " (')', 845),\n",
       " ('-', 792),\n",
       " (\"'s\", 661),\n",
       " ('Corp.', 325),\n",
       " ('100,000', 312),\n",
       " (';', 280),\n",
       " ('%', 234),\n",
       " (\"'\", 156),\n",
       " ('COVID-19', 128),\n",
       " ('2', 127),\n",
       " ('Full-Year', 115)]"
      ]
     },
     "execution_count": 20,
     "metadata": {},
     "output_type": "execute_result"
    }
   ],
   "source": [
    "#Most common special tokens. \n",
    "spec_tokens.most_common(20)"
   ]
  },
  {
   "cell_type": "markdown",
   "id": "49b3001e",
   "metadata": {},
   "source": [
    "Punctuation and years are the most common special tokens which is not a suprise. The dollar and percentage signs are also very common and could potentially be useful. "
   ]
  },
  {
   "cell_type": "code",
   "execution_count": 21,
   "id": "10ca49c7",
   "metadata": {},
   "outputs": [],
   "source": [
    "#Create new columns which count the number of $ and % symbols. \n",
    "data['dollar_symbol'] = data.special_tokens.apply(lambda x: x.count('$'))\n",
    "data['percentage_symbol'] = data.special_tokens.apply(lambda x: x.count('%'))"
   ]
  },
  {
   "cell_type": "code",
   "execution_count": 22,
   "id": "00aa0ec6",
   "metadata": {},
   "outputs": [
    {
     "data": {
      "text/plain": [
       "Category\n",
       "Acquisition              0.158940\n",
       "Dividends                0.108280\n",
       "Earnings Announcement    0.000000\n",
       "Financials               0.095336\n",
       "Increased Dividend       0.111111\n",
       "Misc                     0.124425\n",
       "Name: dollar_symbol, dtype: float64"
      ]
     },
     "execution_count": 22,
     "metadata": {},
     "output_type": "execute_result"
    }
   ],
   "source": [
    "#View average $ special tokens per sample by category.\n",
    "data.groupby('Category').dollar_symbol.mean() "
   ]
  },
  {
   "cell_type": "markdown",
   "id": "a6942b3c",
   "metadata": {},
   "source": [
    "Earnings Announcement samples do not contain dollar sign symbols. The other Categories contain a simlilar amount of dollar sign symbols on average."
   ]
  },
  {
   "cell_type": "code",
   "execution_count": 23,
   "id": "5d5c8328",
   "metadata": {},
   "outputs": [
    {
     "data": {
      "text/plain": [
       "Category\n",
       "Acquisition              0.052980\n",
       "Dividends                0.025478\n",
       "Earnings Announcement    0.000000\n",
       "Financials               0.037037\n",
       "Increased Dividend       0.454545\n",
       "Misc                     0.013351\n",
       "Name: percentage_symbol, dtype: float64"
      ]
     },
     "execution_count": 23,
     "metadata": {},
     "output_type": "execute_result"
    }
   ],
   "source": [
    "#View average % special tokens per sample by category.\n",
    "data.groupby('Category').percentage_symbol.mean()"
   ]
  },
  {
   "cell_type": "markdown",
   "id": "41d5def9",
   "metadata": {},
   "source": [
    "The Earnings Annoucement class has no samples containing \\% symbols. The Increased Dividend class has a very high percentage of samples that include the \\% symbol. "
   ]
  },
  {
   "cell_type": "markdown",
   "id": "20d4f336",
   "metadata": {},
   "source": [
    "### View Most Common NGrams "
   ]
  },
  {
   "cell_type": "code",
   "execution_count": 24,
   "id": "5c7eefaa",
   "metadata": {},
   "outputs": [],
   "source": [
    "#Function to create ngrams.\n",
    "#Source: The generate_N_grams function is modified code from \n",
    "#https://www.analyticsvidhya.com/blog/2021/09/what-are-n-grams-and-how-to-implement-them-in-python/\n",
    "def generate_N_grams(token_list, ngram=2):\n",
    "  temp =zip(*[token_list[i:] for i in range(0,ngram)])\n",
    "  ans=[' '.join(ngram) for ngram in temp]\n",
    "  return ans\n",
    "\n",
    "\n",
    "#Function to display most ngrams.\n",
    "def display_most_common(category, num_most_common=10, ngram=1, show_chart=True, title=None):\n",
    "    \"\"\"Category is a str and can be any value from the Category column of the dataset.\n",
    "       num_most_common is an int and specifies the number of most common ngrams to view.\n",
    "       ngram is an int and specifies the length of the ngrams.\n",
    "       show_chart is a boolean and specifies is a chart of most frequent ngrams will be displayed.\n",
    "    \"\"\"\n",
    "    \n",
    "    counter = Counter()\n",
    "    \n",
    "    tokens = data[data.Category == category]['tokenized_text'].values.tolist() #All all samples from a specified category.\n",
    "    tokens_list = [token for sublist in tokens for token in sublist]\n",
    "    \n",
    "    ngram_list = generate_N_grams(tokens_list, ngram=ngram) #Convert the individual tokens into ngrams.\n",
    "    \n",
    "    #Add ngram tokens to Counter object.\n",
    "    for token in ngram_list:\n",
    "        if token in counter:\n",
    "            counter[token] += 1\n",
    "        else:\n",
    "            counter[token] = 1\n",
    "            \n",
    "    common_words = counter.most_common(num_most_common) #Get the most common ngrams and frequencies.\n",
    "    \n",
    "    #Display chart of ngram frequencies.\n",
    "    if show_chart == True:\n",
    "    \n",
    "        df = pd.DataFrame(common_words, columns=['token', 'count'])\n",
    "        df = df.set_index('token')\n",
    "    \n",
    "        df.plot(kind='bar', title=title, xlabel='NGrams', ylabel='Frequency')\n",
    "        plt.show()\n",
    "    \n",
    "    return common_words\n",
    "    \n",
    "    \n",
    "    "
   ]
  },
  {
   "cell_type": "markdown",
   "id": "4af69fec",
   "metadata": {},
   "source": [
    "#### Most Common Unigrams by Category "
   ]
  },
  {
   "cell_type": "code",
   "execution_count": 25,
   "id": "c8959e29",
   "metadata": {},
   "outputs": [
    {
     "data": {
      "image/png": "[encoded data removed]",
      "text/plain": [
       "<Figure size 432x288 with 1 Axes>"
      ]
     },
     "metadata": {
      "needs_background": "light"
     },
     "output_type": "display_data"
    }
   ],
   "source": [
    "#Most common words for Financials class.\n",
    "fin_most_common = display_most_common('Financials', \n",
    "                                      num_most_common=20, ngram=1, \n",
    "                                      title='Most Common Unigrams - Financials')"
   ]
  },
  {
   "cell_type": "code",
   "execution_count": 26,
   "id": "89c0e6ca",
   "metadata": {},
   "outputs": [
    {
     "data": {
      "image/png": "[encoded data removed]",
      "text/plain": [
       "<Figure size 432x288 with 1 Axes>"
      ]
     },
     "metadata": {
      "needs_background": "light"
     },
     "output_type": "display_data"
    }
   ],
   "source": [
    "#Most common words for Earnings Annoucement class.\n",
    "announce_most_common = display_most_common('Earnings Announcement', \n",
    "                                           num_most_common=20, ngram=1, \n",
    "                                           title='Most Common Unigrams - Earnings Annoucement')"
   ]
  },
  {
   "cell_type": "code",
   "execution_count": 27,
   "id": "cc237451",
   "metadata": {},
   "outputs": [
    {
     "data": {
      "image/png": "[encoded data removed]",
      "text/plain": [
       "<Figure size 432x288 with 1 Axes>"
      ]
     },
     "metadata": {
      "needs_background": "light"
     },
     "output_type": "display_data"
    }
   ],
   "source": [
    "#Most common words for Dividends class.\n",
    "div_most_common = display_most_common('Dividends', num_most_common=20, ngram=1, \n",
    "                                           title='Most Common Unigrams - Dividends')"
   ]
  },
  {
   "cell_type": "code",
   "execution_count": 28,
   "id": "3a09c9af",
   "metadata": {},
   "outputs": [
    {
     "data": {
      "image/png": "[encoded data removed]",
      "text/plain": [
       "<Figure size 432x288 with 1 Axes>"
      ]
     },
     "metadata": {
      "needs_background": "light"
     },
     "output_type": "display_data"
    }
   ],
   "source": [
    "#Most common words for Increased Dividend class.\n",
    "increase_most_common = display_most_common('Increased Dividend', num_most_common=20, ngram=1, \n",
    "                                           title='Most Common Unigrams - Increased Dividend')"
   ]
  },
  {
   "cell_type": "code",
   "execution_count": 29,
   "id": "5a34f9f9",
   "metadata": {},
   "outputs": [
    {
     "data": {
      "image/png": "[encoded data removed]",
      "text/plain": [
       "<Figure size 432x288 with 1 Axes>"
      ]
     },
     "metadata": {
      "needs_background": "light"
     },
     "output_type": "display_data"
    }
   ],
   "source": [
    "#Most common words for Acquisition class.\n",
    "acq_most_common = display_most_common('Acquisition', num_most_common=20, ngram=1, \n",
    "                                           title='Most Common Unigrams - Acquisition')"
   ]
  },
  {
   "cell_type": "code",
   "execution_count": 30,
   "id": "0b963e58",
   "metadata": {},
   "outputs": [
    {
     "data": {
      "image/png": "[encoded data removed]",
      "text/plain": [
       "<Figure size 432x288 with 1 Axes>"
      ]
     },
     "metadata": {
      "needs_background": "light"
     },
     "output_type": "display_data"
    }
   ],
   "source": [
    "#Most common words for Misc class.\n",
    "misc_most_common = display_most_common('Misc', num_most_common=30, ngram=1, \n",
    "                                           title='Most Common Unigrams - Misc')"
   ]
  },
  {
   "cell_type": "markdown",
   "id": "cddc7f44",
   "metadata": {},
   "source": [
    "#### Most Common Bigrams by Category"
   ]
  },
  {
   "cell_type": "code",
   "execution_count": 31,
   "id": "726aa04a",
   "metadata": {},
   "outputs": [
    {
     "data": {
      "image/png": "[encoded data removed]",
      "text/plain": [
       "<Figure size 432x288 with 1 Axes>"
      ]
     },
     "metadata": {
      "needs_background": "light"
     },
     "output_type": "display_data"
    }
   ],
   "source": [
    "#Most common bigrams for Financials class.\n",
    "fin_most_common = display_most_common('Financials', \n",
    "                                      num_most_common=20, ngram=2, \n",
    "                                      title='Most Common Bigrams - Financials')"
   ]
  },
  {
   "cell_type": "code",
   "execution_count": 32,
   "id": "99b66afd",
   "metadata": {},
   "outputs": [
    {
     "data": {
      "image/png": "[encoded data removed]",
      "text/plain": [
       "<Figure size 432x288 with 1 Axes>"
      ]
     },
     "metadata": {
      "needs_background": "light"
     },
     "output_type": "display_data"
    }
   ],
   "source": [
    "#Most common bigrams for Earnings Annoucement class.\n",
    "announce_most_common = display_most_common('Earnings Announcement', \n",
    "                                           num_most_common=20, ngram=2, \n",
    "                                           title='Most Common Bigrams - Earnings Annoucement')"
   ]
  },
  {
   "cell_type": "code",
   "execution_count": 33,
   "id": "f7ea3232",
   "metadata": {},
   "outputs": [
    {
     "data": {
      "image/png": "[encoded data removed]",
      "text/plain": [
       "<Figure size 432x288 with 1 Axes>"
      ]
     },
     "metadata": {
      "needs_background": "light"
     },
     "output_type": "display_data"
    }
   ],
   "source": [
    "#Most common bigrams for Dividends class.\n",
    "div_most_common = display_most_common('Dividends', num_most_common=20, ngram=2, \n",
    "                                           title='Most Common Bigrams - Dividends')"
   ]
  },
  {
   "cell_type": "code",
   "execution_count": 34,
   "id": "d0082429",
   "metadata": {},
   "outputs": [
    {
     "data": {
      "image/png": "[encoded data removed]",
      "text/plain": [
       "<Figure size 432x288 with 1 Axes>"
      ]
     },
     "metadata": {
      "needs_background": "light"
     },
     "output_type": "display_data"
    }
   ],
   "source": [
    "#Most common bigrams for Increased Dividend class.\n",
    "increase_most_common = display_most_common('Increased Dividend', num_most_common=20, ngram=2, \n",
    "                                           title='Most Common Bigrams - Increased Dividend')"
   ]
  },
  {
   "cell_type": "code",
   "execution_count": 35,
   "id": "906a78a6",
   "metadata": {},
   "outputs": [
    {
     "data": {
      "image/png": "[encoded data removed]",
      "text/plain": [
       "<Figure size 432x288 with 1 Axes>"
      ]
     },
     "metadata": {
      "needs_background": "light"
     },
     "output_type": "display_data"
    }
   ],
   "source": [
    "#Most common bigrams for Acquisition class.\n",
    "acq_most_common = display_most_common('Acquisition', num_most_common=20, ngram=2, \n",
    "                                           title='Most Common Bigrams - Acquisition')"
   ]
  },
  {
   "cell_type": "code",
   "execution_count": 36,
   "id": "bfb5073a",
   "metadata": {},
   "outputs": [
    {
     "data": {
      "image/png": "[encoded data removed]",
      "text/plain": [
       "<Figure size 432x288 with 1 Axes>"
      ]
     },
     "metadata": {
      "needs_background": "light"
     },
     "output_type": "display_data"
    }
   ],
   "source": [
    "#Most common bigrams for Misc class.\n",
    "misc_most_common = display_most_common('Misc', num_most_common=20, ngram=2, \n",
    "                                           title='Most Common Bigrams - Misc')"
   ]
  },
  {
   "cell_type": "code",
   "execution_count": 37,
   "id": "5ff7ebad",
   "metadata": {},
   "outputs": [],
   "source": [
    "#Function to produce table with most common ngrams for all categories.\n",
    "def most_common_table(ngram=1, num_most_common=10):\n",
    "    \"\"\"\n",
    "    ngram is an int and specifies the length of the ngrams.\n",
    "    num_most_common is an int and specifies the number of most common ngrams to view.\n",
    "    \n",
    "    Returns a dataframe containing most common ngrams for all Categories.\n",
    "       \n",
    "    \"\"\"\n",
    "    #List of Categories in data.\n",
    "    categories = ['Financials', 'Earnings Announcement', 'Dividends', 'Increased Dividend', 'Acquisition', 'Misc']\n",
    "    \n",
    "    table_data = []\n",
    "    \n",
    "    #Loop through each category to get most common ngrams.\n",
    "    for cat in categories:\n",
    "        #Get most common ngrams dict for specified category.\n",
    "        cat_words = display_most_common(cat, num_most_common=num_most_common, ngram=ngram, show_chart=False)\n",
    "        words = [word for word, _ in cat_words] #Convert dict to list.\n",
    "        table_data.append(words)\n",
    "        \n",
    "    df = pd.DataFrame(np.array(table_data).T, columns=categories) #DataFrame containing most common ngrams for all categories.\n",
    "    df = df.style.set_properties(**{'text-align': 'Center', 'border': '1.3px solid black'}) #Format table\n",
    "    \n",
    "    \n",
    "    return df\n",
    "          "
   ]
  },
  {
   "cell_type": "markdown",
   "id": "293645af",
   "metadata": {},
   "source": [
    "#### Table of Unigrams for All Categories "
   ]
  },
  {
   "cell_type": "code",
   "execution_count": 38,
   "id": "7bed1790",
   "metadata": {},
   "outputs": [
    {
     "data": {
      "text/html": [
       "<style type=\"text/css\">\n",
       "#T_a607e_row0_col0, #T_a607e_row0_col1, #T_a607e_row0_col2, #T_a607e_row0_col3, #T_a607e_row0_col4, #T_a607e_row0_col5, #T_a607e_row1_col0, #T_a607e_row1_col1, #T_a607e_row1_col2, #T_a607e_row1_col3, #T_a607e_row1_col4, #T_a607e_row1_col5, #T_a607e_row2_col0, #T_a607e_row2_col1, #T_a607e_row2_col2, #T_a607e_row2_col3, #T_a607e_row2_col4, #T_a607e_row2_col5, #T_a607e_row3_col0, #T_a607e_row3_col1, #T_a607e_row3_col2, #T_a607e_row3_col3, #T_a607e_row3_col4, #T_a607e_row3_col5, #T_a607e_row4_col0, #T_a607e_row4_col1, #T_a607e_row4_col2, #T_a607e_row4_col3, #T_a607e_row4_col4, #T_a607e_row4_col5, #T_a607e_row5_col0, #T_a607e_row5_col1, #T_a607e_row5_col2, #T_a607e_row5_col3, #T_a607e_row5_col4, #T_a607e_row5_col5, #T_a607e_row6_col0, #T_a607e_row6_col1, #T_a607e_row6_col2, #T_a607e_row6_col3, #T_a607e_row6_col4, #T_a607e_row6_col5, #T_a607e_row7_col0, #T_a607e_row7_col1, #T_a607e_row7_col2, #T_a607e_row7_col3, #T_a607e_row7_col4, #T_a607e_row7_col5, #T_a607e_row8_col0, #T_a607e_row8_col1, #T_a607e_row8_col2, #T_a607e_row8_col3, #T_a607e_row8_col4, #T_a607e_row8_col5, #T_a607e_row9_col0, #T_a607e_row9_col1, #T_a607e_row9_col2, #T_a607e_row9_col3, #T_a607e_row9_col4, #T_a607e_row9_col5, #T_a607e_row10_col0, #T_a607e_row10_col1, #T_a607e_row10_col2, #T_a607e_row10_col3, #T_a607e_row10_col4, #T_a607e_row10_col5, #T_a607e_row11_col0, #T_a607e_row11_col1, #T_a607e_row11_col2, #T_a607e_row11_col3, #T_a607e_row11_col4, #T_a607e_row11_col5, #T_a607e_row12_col0, #T_a607e_row12_col1, #T_a607e_row12_col2, #T_a607e_row12_col3, #T_a607e_row12_col4, #T_a607e_row12_col5, #T_a607e_row13_col0, #T_a607e_row13_col1, #T_a607e_row13_col2, #T_a607e_row13_col3, #T_a607e_row13_col4, #T_a607e_row13_col5, #T_a607e_row14_col0, #T_a607e_row14_col1, #T_a607e_row14_col2, #T_a607e_row14_col3, #T_a607e_row14_col4, #T_a607e_row14_col5, #T_a607e_row15_col0, #T_a607e_row15_col1, #T_a607e_row15_col2, #T_a607e_row15_col3, #T_a607e_row15_col4, #T_a607e_row15_col5, #T_a607e_row16_col0, #T_a607e_row16_col1, #T_a607e_row16_col2, #T_a607e_row16_col3, #T_a607e_row16_col4, #T_a607e_row16_col5, #T_a607e_row17_col0, #T_a607e_row17_col1, #T_a607e_row17_col2, #T_a607e_row17_col3, #T_a607e_row17_col4, #T_a607e_row17_col5, #T_a607e_row18_col0, #T_a607e_row18_col1, #T_a607e_row18_col2, #T_a607e_row18_col3, #T_a607e_row18_col4, #T_a607e_row18_col5, #T_a607e_row19_col0, #T_a607e_row19_col1, #T_a607e_row19_col2, #T_a607e_row19_col3, #T_a607e_row19_col4, #T_a607e_row19_col5 {\n",
       "  text-align: Center;\n",
       "  border: 1.3px solid black;\n",
       "}\n",
       "</style>\n",
       "<table id=\"T_a607e_\">\n",
       "  <thead>\n",
       "    <tr>\n",
       "      <th class=\"blank level0\" >&nbsp;</th>\n",
       "      <th class=\"col_heading level0 col0\" >Financials</th>\n",
       "      <th class=\"col_heading level0 col1\" >Earnings Announcement</th>\n",
       "      <th class=\"col_heading level0 col2\" >Dividends</th>\n",
       "      <th class=\"col_heading level0 col3\" >Increased Dividend</th>\n",
       "      <th class=\"col_heading level0 col4\" >Acquisition</th>\n",
       "      <th class=\"col_heading level0 col5\" >Misc</th>\n",
       "    </tr>\n",
       "  </thead>\n",
       "  <tbody>\n",
       "    <tr>\n",
       "      <th id=\"T_a607e_level0_row0\" class=\"row_heading level0 row0\" >0</th>\n",
       "      <td id=\"T_a607e_row0_col0\" class=\"data row0 col0\" >Results</td>\n",
       "      <td id=\"T_a607e_row0_col1\" class=\"data row0 col1\" >Quarter</td>\n",
       "      <td id=\"T_a607e_row0_col2\" class=\"data row0 col2\" >Dividend</td>\n",
       "      <td id=\"T_a607e_row0_col3\" class=\"data row0 col3\" >Dividend</td>\n",
       "      <td id=\"T_a607e_row0_col4\" class=\"data row0 col4\" >of</td>\n",
       "      <td id=\"T_a607e_row0_col5\" class=\"data row0 col5\" >of</td>\n",
       "    </tr>\n",
       "    <tr>\n",
       "      <th id=\"T_a607e_level0_row1\" class=\"row_heading level0 row1\" >1</th>\n",
       "      <td id=\"T_a607e_row1_col0\" class=\"data row1 col0\" >Quarter</td>\n",
       "      <td id=\"T_a607e_row1_col1\" class=\"data row1 col1\" >and</td>\n",
       "      <td id=\"T_a607e_row1_col2\" class=\"data row1 col2\" >Declares</td>\n",
       "      <td id=\"T_a607e_row1_col3\" class=\"data row1 col3\" >Increase</td>\n",
       "      <td id=\"T_a607e_row1_col4\" class=\"data row1 col4\" >to</td>\n",
       "      <td id=\"T_a607e_row1_col5\" class=\"data row1 col5\" >,</td>\n",
       "    </tr>\n",
       "    <tr>\n",
       "      <th id=\"T_a607e_level0_row2\" class=\"row_heading level0 row2\" >2</th>\n",
       "      <td id=\"T_a607e_row2_col0\" class=\"data row2 col0\" >and</td>\n",
       "      <td id=\"T_a607e_row2_col1\" class=\"data row2 col1\" >,</td>\n",
       "      <td id=\"T_a607e_row2_col2\" class=\"data row2 col2\" >Announces</td>\n",
       "      <td id=\"T_a607e_row2_col3\" class=\"data row2 col3\" >%</td>\n",
       "      <td id=\"T_a607e_row2_col4\" class=\"data row2 col4\" >,</td>\n",
       "      <td id=\"T_a607e_row2_col5\" class=\"data row2 col5\" >to</td>\n",
       "    </tr>\n",
       "    <tr>\n",
       "      <th id=\"T_a607e_level0_row3\" class=\"row_heading level0 row3\" >3</th>\n",
       "      <td id=\"T_a607e_row3_col0\" class=\"data row3 col0\" >Reports</td>\n",
       "      <td id=\"T_a607e_row3_col1\" class=\"data row3 col1\" >2021</td>\n",
       "      <td id=\"T_a607e_row3_col2\" class=\"data row3 col2\" >Quarterly</td>\n",
       "      <td id=\"T_a607e_row3_col3\" class=\"data row3 col3\" >Announces</td>\n",
       "      <td id=\"T_a607e_row3_col4\" class=\"data row3 col4\" >Acquire</td>\n",
       "      <td id=\"T_a607e_row3_col5\" class=\"data row3 col5\" >and</td>\n",
       "    </tr>\n",
       "    <tr>\n",
       "      <th id=\"T_a607e_level0_row4\" class=\"row_heading level0 row4\" >4</th>\n",
       "      <td id=\"T_a607e_row4_col0\" class=\"data row4 col0\" >2020</td>\n",
       "      <td id=\"T_a607e_row4_col1\" class=\"data row4 col1\" >Results</td>\n",
       "      <td id=\"T_a607e_row4_col2\" class=\"data row4 col2\" >Cash</td>\n",
       "      <td id=\"T_a607e_row4_col3\" class=\"data row4 col3\" >Quarterly</td>\n",
       "      <td id=\"T_a607e_row4_col4\" class=\"data row4 col4\" >Acquisition</td>\n",
       "      <td id=\"T_a607e_row4_col5\" class=\"data row4 col5\" >the</td>\n",
       "    </tr>\n",
       "    <tr>\n",
       "      <th id=\"T_a607e_level0_row5\" class=\"row_heading level0 row5\" >5</th>\n",
       "      <td id=\"T_a607e_row5_col0\" class=\"data row5 col0\" >Financial</td>\n",
       "      <td id=\"T_a607e_row5_col1\" class=\"data row5 col1\" >2020</td>\n",
       "      <td id=\"T_a607e_row5_col2\" class=\"data row5 col2\" >2021</td>\n",
       "      <td id=\"T_a607e_row5_col3\" class=\"data row5 col3\" >and</td>\n",
       "      <td id=\"T_a607e_row5_col4\" class=\"data row5 col4\" >Announces</td>\n",
       "      <td id=\"T_a607e_row5_col5\" class=\"data row5 col5\" >Announces</td>\n",
       "    </tr>\n",
       "    <tr>\n",
       "      <th id=\"T_a607e_level0_row6\" class=\"row_heading level0 row6\" >6</th>\n",
       "      <td id=\"T_a607e_row6_col0\" class=\"data row6 col0\" >Fourth</td>\n",
       "      <td id=\"T_a607e_row6_col1\" class=\"data row6 col1\" >to</td>\n",
       "      <td id=\"T_a607e_row6_col2\" class=\"data row6 col2\" >,</td>\n",
       "      <td id=\"T_a607e_row6_col3\" class=\"data row6 col3\" >Increases</td>\n",
       "      <td id=\"T_a607e_row6_col4\" class=\"data row6 col4\" >and</td>\n",
       "      <td id=\"T_a607e_row6_col5\" class=\"data row6 col5\" >in</td>\n",
       "    </tr>\n",
       "    <tr>\n",
       "      <th id=\"T_a607e_level0_row7\" class=\"row_heading level0 row7\" >7</th>\n",
       "      <td id=\"T_a607e_row7_col0\" class=\"data row7 col0\" >2021</td>\n",
       "      <td id=\"T_a607e_row7_col1\" class=\"data row7 col1\" >Fourth</td>\n",
       "      <td id=\"T_a607e_row7_col2\" class=\"data row7 col2\" >February</td>\n",
       "      <td id=\"T_a607e_row7_col3\" class=\"data row7 col3\" >in</td>\n",
       "      <td id=\"T_a607e_row7_col4\" class=\"data row7 col4\" >.</td>\n",
       "      <td id=\"T_a607e_row7_col5\" class=\"data row7 col5\" >:</td>\n",
       "    </tr>\n",
       "    <tr>\n",
       "      <th id=\"T_a607e_level0_row8\" class=\"row_heading level0 row8\" >8</th>\n",
       "      <td id=\"T_a607e_row8_col0\" class=\"data row8 col0\" >Year</td>\n",
       "      <td id=\"T_a607e_row8_col1\" class=\"data row8 col1\" >Financial</td>\n",
       "      <td id=\"T_a607e_row8_col2\" class=\"data row8 col2\" >of</td>\n",
       "      <td id=\"T_a607e_row8_col3\" class=\"data row8 col3\" >to</td>\n",
       "      <td id=\"T_a607e_row8_col4\" class=\"data row8 col4\" >in</td>\n",
       "      <td id=\"T_a607e_row8_col5\" class=\"data row8 col5\" >Investors</td>\n",
       "    </tr>\n",
       "    <tr>\n",
       "      <th id=\"T_a607e_level0_row9\" class=\"row_heading level0 row9\" >9</th>\n",
       "      <td id=\"T_a607e_row9_col0\" class=\"data row9 col0\" >Announces</td>\n",
       "      <td id=\"T_a607e_row9_col1\" class=\"data row9 col1\" >on</td>\n",
       "      <td id=\"T_a607e_row9_col2\" class=\"data row9 col2\" >Distribution</td>\n",
       "      <td id=\"T_a607e_row9_col3\" class=\"data row9 col3\" >,</td>\n",
       "      <td id=\"T_a607e_row9_col4\" class=\"data row9 col4\" >$</td>\n",
       "      <td id=\"T_a607e_row9_col5\" class=\"data row9 col5\" >with</td>\n",
       "    </tr>\n",
       "    <tr>\n",
       "      <th id=\"T_a607e_level0_row10\" class=\"row_heading level0 row10\" >10</th>\n",
       "      <td id=\"T_a607e_row10_col0\" class=\"data row10 col0\" >,</td>\n",
       "      <td id=\"T_a607e_row10_col1\" class=\"data row10 col1\" >Call</td>\n",
       "      <td id=\"T_a607e_row10_col2\" class=\"data row10 col2\" >for</td>\n",
       "      <td id=\"T_a607e_row10_col3\" class=\"data row10 col3\" >Declares</td>\n",
       "      <td id=\"T_a607e_row10_col4\" class=\"data row10 col4\" >Agreement</td>\n",
       "      <td id=\"T_a607e_row10_col5\" class=\"data row10 col5\" >for</td>\n",
       "    </tr>\n",
       "    <tr>\n",
       "      <th id=\"T_a607e_level0_row11\" class=\"row_heading level0 row11\" >11</th>\n",
       "      <td id=\"T_a607e_row11_col0\" class=\"data row11 col0\" >Third</td>\n",
       "      <td id=\"T_a607e_row11_col1\" class=\"data row11 col1\" >Conference</td>\n",
       "      <td id=\"T_a607e_row11_col2\" class=\"data row11 col2\" >.</td>\n",
       "      <td id=\"T_a607e_row11_col3\" class=\"data row11 col3\" >Cash</td>\n",
       "      <td id=\"T_a607e_row11_col4\" class=\"data row11 col4\" >the</td>\n",
       "      <td id=\"T_a607e_row11_col5\" class=\"data row11 col5\" >Class</td>\n",
       "    </tr>\n",
       "    <tr>\n",
       "      <th id=\"T_a607e_level0_row12\" class=\"row_heading level0 row12\" >12</th>\n",
       "      <td id=\"T_a607e_row12_col0\" class=\"data row12 col0\" >Full</td>\n",
       "      <td id=\"T_a607e_row12_col1\" class=\"data row12 col1\" >Year</td>\n",
       "      <td id=\"T_a607e_row12_col2\" class=\"data row12 col2\" >Share</td>\n",
       "      <td id=\"T_a607e_row12_col3\" class=\"data row12 col3\" >for</td>\n",
       "      <td id=\"T_a607e_row12_col4\" class=\"data row12 col4\" >Acquires</td>\n",
       "      <td id=\"T_a607e_row12_col5\" class=\"data row12 col5\" >Firm</td>\n",
       "    </tr>\n",
       "    <tr>\n",
       "      <th id=\"T_a607e_level0_row13\" class=\"row_heading level0 row13\" >13</th>\n",
       "      <td id=\"T_a607e_row13_col0\" class=\"data row13 col0\" >Fiscal</td>\n",
       "      <td id=\"T_a607e_row13_col1\" class=\"data row13 col1\" >Full</td>\n",
       "      <td id=\"T_a607e_row13_col2\" class=\"data row13 col2\" >Monthly</td>\n",
       "      <td id=\"T_a607e_row13_col3\" class=\"data row13 col3\" >dividend</td>\n",
       "      <td id=\"T_a607e_row13_col4\" class=\"data row13 col4\" >Inc</td>\n",
       "      <td id=\"T_a607e_row13_col5\" class=\"data row13 col5\" >Inc.</td>\n",
       "    </tr>\n",
       "    <tr>\n",
       "      <th id=\"T_a607e_level0_row14\" class=\"row_heading level0 row14\" >14</th>\n",
       "      <td id=\"T_a607e_row14_col0\" class=\"data row14 col0\" >for</td>\n",
       "      <td id=\"T_a607e_row14_col1\" class=\"data row14 col1\" >February</td>\n",
       "      <td id=\"T_a607e_row14_col2\" class=\"data row14 col2\" >Inc.</td>\n",
       "      <td id=\"T_a607e_row14_col3\" class=\"data row14 col3\" >.</td>\n",
       "      <td id=\"T_a607e_row14_col4\" class=\"data row14 col4\" >a</td>\n",
       "      <td id=\"T_a607e_row14_col5\" class=\"data row14 col5\" >a</td>\n",
       "    </tr>\n",
       "    <tr>\n",
       "      <th id=\"T_a607e_level0_row15\" class=\"row_heading level0 row15\" >15</th>\n",
       "      <td id=\"T_a607e_row15_col0\" class=\"data row15 col0\" >of</td>\n",
       "      <td id=\"T_a607e_row15_col1\" class=\"data row15 col1\" >Report</td>\n",
       "      <td id=\"T_a607e_row15_col2\" class=\"data row15 col2\" >$</td>\n",
       "      <td id=\"T_a607e_row15_col3\" class=\"data row15 col3\" >by</td>\n",
       "      <td id=\"T_a607e_row15_col4\" class=\"data row15 col4\" >Completes</td>\n",
       "      <td id=\"T_a607e_row15_col5\" class=\"data row15 col5\" >Action</td>\n",
       "    </tr>\n",
       "    <tr>\n",
       "      <th id=\"T_a607e_level0_row16\" class=\"row_heading level0 row16\" >16</th>\n",
       "      <td id=\"T_a607e_row16_col0\" class=\"data row16 col0\" >Provides</td>\n",
       "      <td id=\"T_a607e_row16_col1\" class=\"data row16 col1\" >Earnings</td>\n",
       "      <td id=\"T_a607e_row16_col2\" class=\"data row16 col2\" >and</td>\n",
       "      <td id=\"T_a607e_row16_col3\" class=\"data row16 col3\" >of</td>\n",
       "      <td id=\"T_a607e_row16_col4\" class=\"data row16 col4\" >for</td>\n",
       "      <td id=\"T_a607e_row16_col5\" class=\"data row16 col5\" >$</td>\n",
       "    </tr>\n",
       "    <tr>\n",
       "      <th id=\"T_a607e_level0_row17\" class=\"row_heading level0 row17\" >17</th>\n",
       "      <td id=\"T_a607e_row17_col0\" class=\"data row17 col0\" >$</td>\n",
       "      <td id=\"T_a607e_row17_col1\" class=\"data row17 col1\" >Release</td>\n",
       "      <td id=\"T_a607e_row17_col2\" class=\"data row17 col2\" >Corporation</td>\n",
       "      <td id=\"T_a607e_row17_col3\" class=\"data row17 col3\" >$</td>\n",
       "      <td id=\"T_a607e_row17_col4\" class=\"data row17 col4\" >Corporation</td>\n",
       "      <td id=\"T_a607e_row17_col5\" class=\"data row17 col5\" >&</td>\n",
       "    </tr>\n",
       "    <tr>\n",
       "      <th id=\"T_a607e_level0_row18\" class=\"row_heading level0 row18\" >18</th>\n",
       "      <td id=\"T_a607e_row18_col0\" class=\"data row18 col0\" >Update</td>\n",
       "      <td id=\"T_a607e_row18_col1\" class=\"data row18 col1\" >March</td>\n",
       "      <td id=\"T_a607e_row18_col2\" class=\"data row18 col2\" >Preferred</td>\n",
       "      <td id=\"T_a607e_row18_col3\" class=\"data row18 col3\" >Share</td>\n",
       "      <td id=\"T_a607e_row18_col4\" class=\"data row18 col4\" >Inc.</td>\n",
       "      <td id=\"T_a607e_row18_col5\" class=\"data row18 col5\" >2021</td>\n",
       "    </tr>\n",
       "    <tr>\n",
       "      <th id=\"T_a607e_level0_row19\" class=\"row_heading level0 row19\" >19</th>\n",
       "      <td id=\"T_a607e_row19_col0\" class=\"data row19 col0\" >Inc.</td>\n",
       "      <td id=\"T_a607e_row19_col1\" class=\"data row19 col1\" >Third</td>\n",
       "      <td id=\"T_a607e_row19_col2\" class=\"data row19 col2\" >Quarter</td>\n",
       "      <td id=\"T_a607e_row19_col3\" class=\"data row19 col3\" >2021</td>\n",
       "      <td id=\"T_a607e_row19_col4\" class=\"data row19 col4\" >Transaction</td>\n",
       "      <td id=\"T_a607e_row19_col5\" class=\"data row19 col5\" >ALERT</td>\n",
       "    </tr>\n",
       "  </tbody>\n",
       "</table>\n"
      ],
      "text/plain": [
       "<pandas.io.formats.style.Styler at 0x1de9efadf40>"
      ]
     },
     "execution_count": 38,
     "metadata": {},
     "output_type": "execute_result"
    }
   ],
   "source": [
    "#View most common unigrams for all categories.\n",
    "most_common_table(ngram=1, num_most_common=20)"
   ]
  },
  {
   "cell_type": "markdown",
   "id": "490bac6a",
   "metadata": {},
   "source": [
    "#### Table of Bigrams for All Categories "
   ]
  },
  {
   "cell_type": "code",
   "execution_count": 39,
   "id": "93b484f1",
   "metadata": {},
   "outputs": [
    {
     "data": {
      "text/html": [
       "<style type=\"text/css\">\n",
       "#T_b1768_row0_col0, #T_b1768_row0_col1, #T_b1768_row0_col2, #T_b1768_row0_col3, #T_b1768_row0_col4, #T_b1768_row0_col5, #T_b1768_row1_col0, #T_b1768_row1_col1, #T_b1768_row1_col2, #T_b1768_row1_col3, #T_b1768_row1_col4, #T_b1768_row1_col5, #T_b1768_row2_col0, #T_b1768_row2_col1, #T_b1768_row2_col2, #T_b1768_row2_col3, #T_b1768_row2_col4, #T_b1768_row2_col5, #T_b1768_row3_col0, #T_b1768_row3_col1, #T_b1768_row3_col2, #T_b1768_row3_col3, #T_b1768_row3_col4, #T_b1768_row3_col5, #T_b1768_row4_col0, #T_b1768_row4_col1, #T_b1768_row4_col2, #T_b1768_row4_col3, #T_b1768_row4_col4, #T_b1768_row4_col5, #T_b1768_row5_col0, #T_b1768_row5_col1, #T_b1768_row5_col2, #T_b1768_row5_col3, #T_b1768_row5_col4, #T_b1768_row5_col5, #T_b1768_row6_col0, #T_b1768_row6_col1, #T_b1768_row6_col2, #T_b1768_row6_col3, #T_b1768_row6_col4, #T_b1768_row6_col5, #T_b1768_row7_col0, #T_b1768_row7_col1, #T_b1768_row7_col2, #T_b1768_row7_col3, #T_b1768_row7_col4, #T_b1768_row7_col5, #T_b1768_row8_col0, #T_b1768_row8_col1, #T_b1768_row8_col2, #T_b1768_row8_col3, #T_b1768_row8_col4, #T_b1768_row8_col5, #T_b1768_row9_col0, #T_b1768_row9_col1, #T_b1768_row9_col2, #T_b1768_row9_col3, #T_b1768_row9_col4, #T_b1768_row9_col5, #T_b1768_row10_col0, #T_b1768_row10_col1, #T_b1768_row10_col2, #T_b1768_row10_col3, #T_b1768_row10_col4, #T_b1768_row10_col5, #T_b1768_row11_col0, #T_b1768_row11_col1, #T_b1768_row11_col2, #T_b1768_row11_col3, #T_b1768_row11_col4, #T_b1768_row11_col5, #T_b1768_row12_col0, #T_b1768_row12_col1, #T_b1768_row12_col2, #T_b1768_row12_col3, #T_b1768_row12_col4, #T_b1768_row12_col5, #T_b1768_row13_col0, #T_b1768_row13_col1, #T_b1768_row13_col2, #T_b1768_row13_col3, #T_b1768_row13_col4, #T_b1768_row13_col5, #T_b1768_row14_col0, #T_b1768_row14_col1, #T_b1768_row14_col2, #T_b1768_row14_col3, #T_b1768_row14_col4, #T_b1768_row14_col5, #T_b1768_row15_col0, #T_b1768_row15_col1, #T_b1768_row15_col2, #T_b1768_row15_col3, #T_b1768_row15_col4, #T_b1768_row15_col5, #T_b1768_row16_col0, #T_b1768_row16_col1, #T_b1768_row16_col2, #T_b1768_row16_col3, #T_b1768_row16_col4, #T_b1768_row16_col5, #T_b1768_row17_col0, #T_b1768_row17_col1, #T_b1768_row17_col2, #T_b1768_row17_col3, #T_b1768_row17_col4, #T_b1768_row17_col5, #T_b1768_row18_col0, #T_b1768_row18_col1, #T_b1768_row18_col2, #T_b1768_row18_col3, #T_b1768_row18_col4, #T_b1768_row18_col5, #T_b1768_row19_col0, #T_b1768_row19_col1, #T_b1768_row19_col2, #T_b1768_row19_col3, #T_b1768_row19_col4, #T_b1768_row19_col5, #T_b1768_row20_col0, #T_b1768_row20_col1, #T_b1768_row20_col2, #T_b1768_row20_col3, #T_b1768_row20_col4, #T_b1768_row20_col5, #T_b1768_row21_col0, #T_b1768_row21_col1, #T_b1768_row21_col2, #T_b1768_row21_col3, #T_b1768_row21_col4, #T_b1768_row21_col5, #T_b1768_row22_col0, #T_b1768_row22_col1, #T_b1768_row22_col2, #T_b1768_row22_col3, #T_b1768_row22_col4, #T_b1768_row22_col5, #T_b1768_row23_col0, #T_b1768_row23_col1, #T_b1768_row23_col2, #T_b1768_row23_col3, #T_b1768_row23_col4, #T_b1768_row23_col5, #T_b1768_row24_col0, #T_b1768_row24_col1, #T_b1768_row24_col2, #T_b1768_row24_col3, #T_b1768_row24_col4, #T_b1768_row24_col5, #T_b1768_row25_col0, #T_b1768_row25_col1, #T_b1768_row25_col2, #T_b1768_row25_col3, #T_b1768_row25_col4, #T_b1768_row25_col5, #T_b1768_row26_col0, #T_b1768_row26_col1, #T_b1768_row26_col2, #T_b1768_row26_col3, #T_b1768_row26_col4, #T_b1768_row26_col5, #T_b1768_row27_col0, #T_b1768_row27_col1, #T_b1768_row27_col2, #T_b1768_row27_col3, #T_b1768_row27_col4, #T_b1768_row27_col5, #T_b1768_row28_col0, #T_b1768_row28_col1, #T_b1768_row28_col2, #T_b1768_row28_col3, #T_b1768_row28_col4, #T_b1768_row28_col5, #T_b1768_row29_col0, #T_b1768_row29_col1, #T_b1768_row29_col2, #T_b1768_row29_col3, #T_b1768_row29_col4, #T_b1768_row29_col5 {\n",
       "  text-align: Center;\n",
       "  border: 1.3px solid black;\n",
       "}\n",
       "</style>\n",
       "<table id=\"T_b1768_\">\n",
       "  <thead>\n",
       "    <tr>\n",
       "      <th class=\"blank level0\" >&nbsp;</th>\n",
       "      <th class=\"col_heading level0 col0\" >Financials</th>\n",
       "      <th class=\"col_heading level0 col1\" >Earnings Announcement</th>\n",
       "      <th class=\"col_heading level0 col2\" >Dividends</th>\n",
       "      <th class=\"col_heading level0 col3\" >Increased Dividend</th>\n",
       "      <th class=\"col_heading level0 col4\" >Acquisition</th>\n",
       "      <th class=\"col_heading level0 col5\" >Misc</th>\n",
       "    </tr>\n",
       "  </thead>\n",
       "  <tbody>\n",
       "    <tr>\n",
       "      <th id=\"T_b1768_level0_row0\" class=\"row_heading level0 row0\" >0</th>\n",
       "      <td id=\"T_b1768_row0_col0\" class=\"data row0 col0\" >Financial Results</td>\n",
       "      <td id=\"T_b1768_row0_col1\" class=\"data row0 col1\" >Fourth Quarter</td>\n",
       "      <td id=\"T_b1768_row0_col2\" class=\"data row0 col2\" >Cash Dividend</td>\n",
       "      <td id=\"T_b1768_row0_col3\" class=\"data row0 col3\" >Dividend Increase</td>\n",
       "      <td id=\"T_b1768_row0_col4\" class=\"data row0 col4\" >to Acquire</td>\n",
       "      <td id=\"T_b1768_row0_col5\" class=\"data row0 col5\" >Class Action</td>\n",
       "    </tr>\n",
       "    <tr>\n",
       "      <th id=\"T_b1768_level0_row1\" class=\"row_heading level0 row1\" >1</th>\n",
       "      <td id=\"T_b1768_row1_col0\" class=\"data row1 col0\" >Fourth Quarter</td>\n",
       "      <td id=\"T_b1768_row1_col1\" class=\"data row1 col1\" >Financial Results</td>\n",
       "      <td id=\"T_b1768_row1_col2\" class=\"data row1 col2\" >Quarterly Dividend</td>\n",
       "      <td id=\"T_b1768_row1_col3\" class=\"data row1 col3\" >Quarterly Dividend</td>\n",
       "      <td id=\"T_b1768_row1_col4\" class=\"data row1 col4\" >Acquisition of</td>\n",
       "      <td id=\"T_b1768_row1_col5\" class=\"data row1 col5\" >, Inc.</td>\n",
       "    </tr>\n",
       "    <tr>\n",
       "      <th id=\"T_b1768_level0_row2\" class=\"row_heading level0 row2\" >2</th>\n",
       "      <td id=\"T_b1768_row2_col0\" class=\"data row2 col0\" >Quarter and</td>\n",
       "      <td id=\"T_b1768_row2_col1\" class=\"data row2 col1\" >, 2021</td>\n",
       "      <td id=\"T_b1768_row2_col2\" class=\"data row2 col2\" >Declares Quarterly</td>\n",
       "      <td id=\"T_b1768_row2_col3\" class=\"data row2 col3\" >Cash Dividend</td>\n",
       "      <td id=\"T_b1768_row2_col4\" class=\"data row2 col4\" >Inc .</td>\n",
       "      <td id=\"T_b1768_row2_col5\" class=\"data row2 col5\" >ALERT :</td>\n",
       "    </tr>\n",
       "    <tr>\n",
       "      <th id=\"T_b1768_level0_row3\" class=\"row_heading level0 row3\" >3</th>\n",
       "      <td id=\"T_b1768_row3_col0\" class=\"data row3 col0\" >Third Quarter</td>\n",
       "      <td id=\"T_b1768_row3_col1\" class=\"data row3 col1\" >Conference Call</td>\n",
       "      <td id=\"T_b1768_row3_col2\" class=\"data row3 col2\" >February 2021</td>\n",
       "      <td id=\"T_b1768_row3_col3\" class=\"data row3 col3\" >Increase in</td>\n",
       "      <td id=\"T_b1768_row3_col4\" class=\"data row3 col4\" >Agreement to</td>\n",
       "      <td id=\"T_b1768_row3_col5\" class=\"data row3 col5\" >Action Lawsuit</td>\n",
       "    </tr>\n",
       "    <tr>\n",
       "      <th id=\"T_b1768_level0_row4\" class=\"row_heading level0 row4\" >4</th>\n",
       "      <td id=\"T_b1768_row4_col0\" class=\"data row4 col0\" >Full Year</td>\n",
       "      <td id=\"T_b1768_row4_col1\" class=\"data row4 col1\" >Quarter and</td>\n",
       "      <td id=\"T_b1768_row4_col2\" class=\"data row4 col2\" >Quarterly Cash</td>\n",
       "      <td id=\"T_b1768_row4_col3\" class=\"data row4 col3\" >Increases Dividend</td>\n",
       "      <td id=\"T_b1768_row4_col4\" class=\"data row4 col4\" >Completes Acquisition</td>\n",
       "      <td id=\"T_b1768_row4_col5\" class=\"data row4 col5\" >Law Firm</td>\n",
       "    </tr>\n",
       "    <tr>\n",
       "      <th id=\"T_b1768_level0_row5\" class=\"row_heading level0 row5\" >5</th>\n",
       "      <td id=\"T_b1768_row5_col0\" class=\"data row5 col0\" >Year 2020</td>\n",
       "      <td id=\"T_b1768_row5_col1\" class=\"data row5 col1\" >Year 2020</td>\n",
       "      <td id=\"T_b1768_row5_col2\" class=\"data row5 col2\" >. Announces</td>\n",
       "      <td id=\"T_b1768_row5_col3\" class=\"data row5 col3\" >Quarterly Cash</td>\n",
       "      <td id=\"T_b1768_row5_col4\" class=\"data row5 col4\" >. Announces</td>\n",
       "      <td id=\"T_b1768_row5_col5\" class=\"data row5 col5\" >to Contact</td>\n",
       "    </tr>\n",
       "    <tr>\n",
       "      <th id=\"T_b1768_level0_row6\" class=\"row_heading level0 row6\" >6</th>\n",
       "      <td id=\"T_b1768_row6_col0\" class=\"data row6 col0\" >and Full</td>\n",
       "      <td id=\"T_b1768_row6_col1\" class=\"data row6 col1\" >Results on</td>\n",
       "      <td id=\"T_b1768_row6_col2\" class=\"data row6 col2\" >Inc. Declares</td>\n",
       "      <td id=\"T_b1768_row6_col3\" class=\"data row6 col3\" >% Increase</td>\n",
       "      <td id=\"T_b1768_row6_col4\" class=\"data row6 col4\" >, Inc</td>\n",
       "      <td id=\"T_b1768_row6_col5\" class=\"data row6 col5\" >the Firm</td>\n",
       "    </tr>\n",
       "    <tr>\n",
       "      <th id=\"T_b1768_level0_row7\" class=\"row_heading level0 row7\" >7</th>\n",
       "      <td id=\"T_b1768_row7_col0\" class=\"data row7 col0\" >2020 Financial</td>\n",
       "      <td id=\"T_b1768_row7_col1\" class=\"data row7 col1\" >2020 Financial</td>\n",
       "      <td id=\"T_b1768_row7_col2\" class=\"data row7 col2\" >Announces February</td>\n",
       "      <td id=\"T_b1768_row7_col3\" class=\"data row7 col3\" >to $</td>\n",
       "      <td id=\"T_b1768_row7_col4\" class=\"data row7 col4\" >for $</td>\n",
       "      <td id=\"T_b1768_row7_col5\" class=\"data row7 col5\" >Contact the</td>\n",
       "    </tr>\n",
       "    <tr>\n",
       "      <th id=\"T_b1768_level0_row8\" class=\"row_heading level0 row8\" >8</th>\n",
       "      <td id=\"T_b1768_row8_col0\" class=\"data row8 col0\" >Reports Fourth</td>\n",
       "      <td id=\"T_b1768_row8_col1\" class=\"data row8 col1\" >Full Year</td>\n",
       "      <td id=\"T_b1768_row8_col2\" class=\"data row8 col2\" >, Inc.</td>\n",
       "      <td id=\"T_b1768_row8_col3\" class=\"data row8 col3\" >Increases Quarterly</td>\n",
       "      <td id=\"T_b1768_row8_col4\" class=\"data row8 col4\" >Announces Acquisition</td>\n",
       "      <td id=\"T_b1768_row8_col5\" class=\"data row8 col5\" >Investors with</td>\n",
       "    </tr>\n",
       "    <tr>\n",
       "      <th id=\"T_b1768_level0_row9\" class=\"row_heading level0 row9\" >9</th>\n",
       "      <td id=\"T_b1768_row9_col0\" class=\"data row9 col0\" >Quarter 2021</td>\n",
       "      <td id=\"T_b1768_row9_col1\" class=\"data row9 col1\" >and Full</td>\n",
       "      <td id=\"T_b1768_row9_col2\" class=\"data row9 col2\" >Announces Quarterly</td>\n",
       "      <td id=\"T_b1768_row9_col3\" class=\"data row9 col3\" >. Announces</td>\n",
       "      <td id=\"T_b1768_row9_col4\" class=\"data row9 col4\" >, Inc.</td>\n",
       "      <td id=\"T_b1768_row9_col5\" class=\"data row9 col5\" >of $</td>\n",
       "    </tr>\n",
       "    <tr>\n",
       "      <th id=\"T_b1768_level0_row10\" class=\"row_heading level0 row10\" >10</th>\n",
       "      <td id=\"T_b1768_row10_col0\" class=\"data row10 col0\" >2020 Results</td>\n",
       "      <td id=\"T_b1768_row10_col1\" class=\"data row10 col1\" >to Report</td>\n",
       "      <td id=\"T_b1768_row10_col2\" class=\"data row10 col2\" >of $</td>\n",
       "      <td id=\"T_b1768_row10_col3\" class=\"data row10 col3\" >% Dividend</td>\n",
       "      <td id=\"T_b1768_row10_col4\" class=\"data row10 col4\" >Definitive Agreement</td>\n",
       "      <td id=\"T_b1768_row10_col5\" class=\"data row10 col5\" >with Losses</td>\n",
       "    </tr>\n",
       "    <tr>\n",
       "      <th id=\"T_b1768_level0_row11\" class=\"row_heading level0 row11\" >11</th>\n",
       "      <td id=\"T_b1768_row11_col0\" class=\"data row11 col0\" >2021 Financial</td>\n",
       "      <td id=\"T_b1768_row11_col1\" class=\"data row11 col1\" >Third Quarter</td>\n",
       "      <td id=\"T_b1768_row11_col2\" class=\"data row11 col2\" >Dividend of</td>\n",
       "      <td id=\"T_b1768_row11_col3\" class=\"data row11 col3\" >Dividend by</td>\n",
       "      <td id=\"T_b1768_row11_col4\" class=\"data row11 col4\" >, a</td>\n",
       "      <td id=\"T_b1768_row11_col5\" class=\"data row11 col5\" >Lawsuit Against</td>\n",
       "    </tr>\n",
       "    <tr>\n",
       "      <th id=\"T_b1768_level0_row12\" class=\"row_heading level0 row12\" >12</th>\n",
       "      <td id=\"T_b1768_row12_col0\" class=\"data row12 col0\" >Results and</td>\n",
       "      <td id=\"T_b1768_row12_col1\" class=\"data row12 col1\" >on February</td>\n",
       "      <td id=\"T_b1768_row12_col2\" class=\"data row12 col2\" >Inc .</td>\n",
       "      <td id=\"T_b1768_row12_col3\" class=\"data row12 col3\" >Dividend and</td>\n",
       "      <td id=\"T_b1768_row12_col4\" class=\"data row12 col4\" >Exchange Income</td>\n",
       "      <td id=\"T_b1768_row12_col5\" class=\"data row12 col5\" >and Encourages</td>\n",
       "    </tr>\n",
       "    <tr>\n",
       "      <th id=\"T_b1768_level0_row13\" class=\"row_heading level0 row13\" >13</th>\n",
       "      <td id=\"T_b1768_row13_col0\" class=\"data row13 col0\" >Reports Third</td>\n",
       "      <td id=\"T_b1768_row13_col1\" class=\"data row13 col1\" >to Announce</td>\n",
       "      <td id=\"T_b1768_row13_col2\" class=\"data row13 col2\" >Per Share</td>\n",
       "      <td id=\"T_b1768_row13_col3\" class=\"data row13 col3\" >Increase and</td>\n",
       "      <td id=\"T_b1768_row13_col4\" class=\"data row13 col4\" >Income Corporation</td>\n",
       "      <td id=\"T_b1768_row13_col5\" class=\"data row13 col5\" >: The</td>\n",
       "    </tr>\n",
       "    <tr>\n",
       "      <th id=\"T_b1768_level0_row14\" class=\"row_heading level0 row14\" >14</th>\n",
       "      <td id=\"T_b1768_row14_col0\" class=\"data row14 col0\" >Announces Fourth</td>\n",
       "      <td id=\"T_b1768_row14_col1\" class=\"data row14 col1\" >Quarter 2021</td>\n",
       "      <td id=\"T_b1768_row14_col2\" class=\"data row14 col2\" >Monthly Dividend</td>\n",
       "      <td id=\"T_b1768_row14_col3\" class=\"data row14 col3\" >25 %</td>\n",
       "      <td id=\"T_b1768_row14_col4\" class=\"data row14 col4\" >Brookfield Infrastructure</td>\n",
       "      <td id=\"T_b1768_row14_col5\" class=\"data row14 col5\" >of a</td>\n",
       "    </tr>\n",
       "    <tr>\n",
       "      <th id=\"T_b1768_level0_row15\" class=\"row_heading level0 row15\" >15</th>\n",
       "      <td id=\"T_b1768_row15_col0\" class=\"data row15 col0\" >Results for</td>\n",
       "      <td id=\"T_b1768_row15_col1\" class=\"data row15 col1\" >Report Fourth</td>\n",
       "      <td id=\"T_b1768_row15_col2\" class=\"data row15 col2\" >Declares Dividend</td>\n",
       "      <td id=\"T_b1768_row15_col3\" class=\"data row15 col3\" >quarterly dividend</td>\n",
       "      <td id=\"T_b1768_row15_col4\" class=\"data row15 col4\" >of the</td>\n",
       "      <td id=\"T_b1768_row15_col5\" class=\"data row15 col5\" >Encourages Investors</td>\n",
       "    </tr>\n",
       "    <tr>\n",
       "      <th id=\"T_b1768_level0_row16\" class=\"row_heading level0 row16\" >16</th>\n",
       "      <td id=\"T_b1768_row16_col0\" class=\"data row16 col0\" >Inc. Reports</td>\n",
       "      <td id=\"T_b1768_row16_col1\" class=\"data row16 col1\" >Results and</td>\n",
       "      <td id=\"T_b1768_row16_col2\" class=\"data row16 col2\" >Corporation Announces</td>\n",
       "      <td id=\"T_b1768_row16_col3\" class=\"data row16 col3\" >Announces Dividend</td>\n",
       "      <td id=\"T_b1768_row16_col4\" class=\"data row16 col4\" >Announces Agreement</td>\n",
       "      <td id=\"T_b1768_row16_col5\" class=\"data row16 col5\" >a Class</td>\n",
       "    </tr>\n",
       "    <tr>\n",
       "      <th id=\"T_b1768_level0_row17\" class=\"row_heading level0 row17\" >17</th>\n",
       "      <td id=\"T_b1768_row17_col0\" class=\"data row17 col0\" >2021 Results</td>\n",
       "      <td id=\"T_b1768_row17_col1\" class=\"data row17 col1\" >on March</td>\n",
       "      <td id=\"T_b1768_row17_col2\" class=\"data row17 col2\" >2021 Dividend</td>\n",
       "      <td id=\"T_b1768_row17_col3\" class=\"data row17 col3\" >and Declares</td>\n",
       "      <td id=\"T_b1768_row17_col4\" class=\"data row17 col4\" >Interest in</td>\n",
       "      <td id=\"T_b1768_row17_col5\" class=\"data row17 col5\" >Inc .</td>\n",
       "    </tr>\n",
       "    <tr>\n",
       "      <th id=\"T_b1768_level0_row18\" class=\"row_heading level0 row18\" >18</th>\n",
       "      <td id=\"T_b1768_row18_col0\" class=\"data row18 col0\" >and Provides</td>\n",
       "      <td id=\"T_b1768_row18_col1\" class=\"data row18 col1\" >Quarter 2020</td>\n",
       "      <td id=\"T_b1768_row18_col2\" class=\"data row18 col2\" >, Inc</td>\n",
       "      <td id=\"T_b1768_row18_col3\" class=\"data row18 col3\" >Declares Dividend</td>\n",
       "      <td id=\"T_b1768_row18_col4\" class=\"data row18 col4\" >Inc. ,</td>\n",
       "      <td id=\"T_b1768_row18_col5\" class=\"data row18 col5\" >. Announces</td>\n",
       "    </tr>\n",
       "    <tr>\n",
       "      <th id=\"T_b1768_level0_row19\" class=\"row_heading level0 row19\" >19</th>\n",
       "      <td id=\"T_b1768_row19_col0\" class=\"data row19 col0\" >Fiscal 2021</td>\n",
       "      <td id=\"T_b1768_row19_col1\" class=\"data row19 col1\" >2021 Financial</td>\n",
       "      <td id=\"T_b1768_row19_col2\" class=\"data row19 col2\" >Announces Cash</td>\n",
       "      <td id=\"T_b1768_row19_col3\" class=\"data row19 col3\" >% to</td>\n",
       "      <td id=\"T_b1768_row19_col4\" class=\"data row19 col4\" >in the</td>\n",
       "      <td id=\"T_b1768_row19_col5\" class=\"data row19 col5\" >Investors of</td>\n",
       "    </tr>\n",
       "    <tr>\n",
       "      <th id=\"T_b1768_level0_row20\" class=\"row_heading level0 row20\" >20</th>\n",
       "      <td id=\"T_b1768_row20_col0\" class=\"data row20 col0\" >, Inc.</td>\n",
       "      <td id=\"T_b1768_row20_col1\" class=\"data row20 col1\" >2020 Results</td>\n",
       "      <td id=\"T_b1768_row20_col2\" class=\"data row20 col2\" >Corp .</td>\n",
       "      <td id=\"T_b1768_row20_col3\" class=\"data row20 col3\" >Common Stock</td>\n",
       "      <td id=\"T_b1768_row20_col4\" class=\"data row20 col4\" >C $</td>\n",
       "      <td id=\"T_b1768_row20_col5\" class=\"data row20 col5\" >to Present</td>\n",
       "    </tr>\n",
       "    <tr>\n",
       "      <th id=\"T_b1768_level0_row21\" class=\"row_heading level0 row21\" >21</th>\n",
       "      <td id=\"T_b1768_row21_col0\" class=\"data row21 col0\" >Quarter 2020</td>\n",
       "      <td id=\"T_b1768_row21_col1\" class=\"data row21 col1\" >and Conference</td>\n",
       "      <td id=\"T_b1768_row21_col2\" class=\"data row21 col2\" >Dividend on</td>\n",
       "      <td id=\"T_b1768_row21_col3\" class=\"data row21 col3\" >9 %</td>\n",
       "      <td id=\"T_b1768_row21_col4\" class=\"data row21 col4\" >Inter Pipeline</td>\n",
       "      <td id=\"T_b1768_row21_col5\" class=\"data row21 col5\" >Firm Announces</td>\n",
       "    </tr>\n",
       "    <tr>\n",
       "      <th id=\"T_b1768_level0_row22\" class=\"row_heading level0 row22\" >22</th>\n",
       "      <td id=\"T_b1768_row22_col0\" class=\"data row22 col0\" >for the</td>\n",
       "      <td id=\"T_b1768_row22_col1\" class=\"data row22 col1\" >2020 Earnings</td>\n",
       "      <td id=\"T_b1768_row22_col2\" class=\"data row22 col2\" >Preferred Stock</td>\n",
       "      <td id=\"T_b1768_row22_col3\" class=\"data row22 col3\" >Inc .</td>\n",
       "      <td id=\"T_b1768_row22_col4\" class=\"data row22 col4\" >to acquire</td>\n",
       "      <td id=\"T_b1768_row22_col5\" class=\"data row22 col5\" >Present at</td>\n",
       "    </tr>\n",
       "    <tr>\n",
       "      <th id=\"T_b1768_level0_row23\" class=\"row_heading level0 row23\" >23</th>\n",
       "      <td id=\"T_b1768_row23_col0\" class=\"data row23 col0\" >Fiscal Year</td>\n",
       "      <td id=\"T_b1768_row23_col1\" class=\"data row23 col1\" >Earnings Release</td>\n",
       "      <td id=\"T_b1768_row23_col2\" class=\"data row23 col2\" >Monthly Distribution</td>\n",
       "      <td id=\"T_b1768_row23_col3\" class=\"data row23 col3\" >in Quarterly</td>\n",
       "      <td id=\"T_b1768_row23_col4\" class=\"data row23 col4\" >Castor Maritime</td>\n",
       "      <td id=\"T_b1768_row23_col5\" class=\"data row23 col5\" >Announces the</td>\n",
       "    </tr>\n",
       "    <tr>\n",
       "      <th id=\"T_b1768_level0_row24\" class=\"row_heading level0 row24\" >24</th>\n",
       "      <td id=\"T_b1768_row24_col0\" class=\"data row24 col0\" >First Quarter</td>\n",
       "      <td id=\"T_b1768_row24_col1\" class=\"data row24 col1\" >Fiscal Year</td>\n",
       "      <td id=\"T_b1768_row24_col2\" class=\"data row24 col2\" >Corporation Declares</td>\n",
       "      <td id=\"T_b1768_row24_col3\" class=\"data row24 col3\" >dividend by</td>\n",
       "      <td id=\"T_b1768_row24_col4\" class=\"data row24 col4\" >Maritime Inc</td>\n",
       "      <td id=\"T_b1768_row24_col5\" class=\"data row24 col5\" >SHAREHOLDER ALERT</td>\n",
       "    </tr>\n",
       "    <tr>\n",
       "      <th id=\"T_b1768_level0_row25\" class=\"row_heading level0 row25\" >25</th>\n",
       "      <td id=\"T_b1768_row25_col0\" class=\"data row25 col0\" >. Announces</td>\n",
       "      <td id=\"T_b1768_row25_col1\" class=\"data row25 col1\" >Call on</td>\n",
       "      <td id=\"T_b1768_row25_col2\" class=\"data row25 col2\" >First Quarter</td>\n",
       "      <td id=\"T_b1768_row25_col3\" class=\"data row25 col3\" >Increase of</td>\n",
       "      <td id=\"T_b1768_row25_col4\" class=\"data row25 col4\" >, Creating</td>\n",
       "      <td id=\"T_b1768_row25_col5\" class=\"data row25 col5\" >, 2021</td>\n",
       "    </tr>\n",
       "    <tr>\n",
       "      <th id=\"T_b1768_level0_row26\" class=\"row_heading level0 row26\" >26</th>\n",
       "      <td id=\"T_b1768_row26_col0\" class=\"data row26 col0\" >of $</td>\n",
       "      <td id=\"T_b1768_row26_col1\" class=\"data row26 col1\" >Announce Fourth</td>\n",
       "      <td id=\"T_b1768_row26_col2\" class=\"data row26 col2\" >Distributions for</td>\n",
       "      <td id=\"T_b1768_row26_col3\" class=\"data row26 col3\" >Increase to</td>\n",
       "      <td id=\"T_b1768_row26_col4\" class=\"data row26 col4\" >of Acquisition</td>\n",
       "      <td id=\"T_b1768_row26_col5\" class=\"data row26 col5\" >Public Offering</td>\n",
       "    </tr>\n",
       "    <tr>\n",
       "      <th id=\"T_b1768_level0_row27\" class=\"row_heading level0 row27\" >27</th>\n",
       "      <td id=\"T_b1768_row27_col0\" class=\"data row27 col0\" >Quarter Fiscal</td>\n",
       "      <td id=\"T_b1768_row27_col1\" class=\"data row27 col1\" >and Fiscal</td>\n",
       "      <td id=\"T_b1768_row27_col2\" class=\"data row27 col2\" >Declares Cash</td>\n",
       "      <td id=\"T_b1768_row27_col3\" class=\"data row27 col3\" >and Announces</td>\n",
       "      <td id=\"T_b1768_row27_col4\" class=\"data row27 col4\" >Agrees to</td>\n",
       "      <td id=\"T_b1768_row27_col5\" class=\"data row27 col5\" >in the</td>\n",
       "    </tr>\n",
       "    <tr>\n",
       "      <th id=\"T_b1768_level0_row28\" class=\"row_heading level0 row28\" >28</th>\n",
       "      <td id=\"T_b1768_row28_col0\" class=\"data row28 col0\" >Inc .</td>\n",
       "      <td id=\"T_b1768_row28_col1\" class=\"data row28 col1\" >Inc. to</td>\n",
       "      <td id=\"T_b1768_row28_col2\" class=\"data row28 col2\" >2021 Distribution</td>\n",
       "      <td id=\"T_b1768_row28_col3\" class=\"data row28 col3\" >Repurchase Program</td>\n",
       "      <td id=\"T_b1768_row28_col4\" class=\"data row28 col4\" >Corporation Completes</td>\n",
       "      <td id=\"T_b1768_row28_col5\" class=\"data row28 col5\" >The Schall</td>\n",
       "    </tr>\n",
       "    <tr>\n",
       "      <th id=\"T_b1768_level0_row29\" class=\"row_heading level0 row29\" >29</th>\n",
       "      <td id=\"T_b1768_row29_col0\" class=\"data row29 col0\" >Second Quarter</td>\n",
       "      <td id=\"T_b1768_row29_col1\" class=\"data row29 col1\" >February 25</td>\n",
       "      <td id=\"T_b1768_row29_col2\" class=\"data row29 col2\" >Income Fund</td>\n",
       "      <td id=\"T_b1768_row29_col3\" class=\"data row29 col3\" >Per Share</td>\n",
       "      <td id=\"T_b1768_row29_col4\" class=\"data row29 col4\" >to Sell</td>\n",
       "      <td id=\"T_b1768_row29_col5\" class=\"data row29 col5\" >Schall Law</td>\n",
       "    </tr>\n",
       "  </tbody>\n",
       "</table>\n"
      ],
      "text/plain": [
       "<pandas.io.formats.style.Styler at 0x1de9f2d45e0>"
      ]
     },
     "execution_count": 39,
     "metadata": {},
     "output_type": "execute_result"
    }
   ],
   "source": [
    "#View most common bigrams for all categories.\n",
    "most_common_table(ngram=2, num_most_common=30)"
   ]
  },
  {
   "cell_type": "markdown",
   "id": "df0dd3e9",
   "metadata": {},
   "source": [
    "### Exploratory Data Analysis Discussion and Conclusions "
   ]
  },
  {
   "cell_type": "markdown",
   "id": "1c3d1247",
   "metadata": {},
   "source": [
    "Average sentence length and the number of special symbols appear similar enough across the classes that they are likely of limited use for classification. \n",
    "\n",
    "Specific special symbols, such as the dollar and percentage sign, do show up more or less frequently in some classes. This may make them useful for classification. \n",
    "\n",
    "Some categories share similar words. For example, Financials and Earnings Announcement have many similar words. Financials refers to news releases that contain financial performance data while Earnings Announcement are new releases that specify that these financial reports will be released in the future. Although these classes share many words, there are a number of words that show up in the Earnings Announcement class only (such as \"results on\", \"to report\", and \"will announcement\") which indicate that the sample is referring to information being released on a future date. Stop words such as \"on\", \"to\", and \"will\" may be important features for classifying these two groups. \n",
    "\n",
    "Two other Categories that share many words are Dividend (which refers to the planned payment of current dividends) and Increased Dividend (which refers to the increase of the current dividend). The Increased Dividend class includes the term \"increase\" or \"increased\" more frequently and also contains the percentage sign token much more frequently. \n",
    "\n",
    "Using most frequent bigrams appears to increase the differences between the most similar categories (such as Financials and Earnings Announcement and Dividend and Increased Dividend). \n",
    "\n",
    "The class labels are highly imbalanced with the largest class (Misc) accounting for 75 percent of total samples and the smallest class Dividend Increase accounting for 0.8 percent. Undersampling the Misc class may be necessary to prevent it from dominating the classification. Validation metrics such as Precision, Recall, and F1 Score will be more appropriate than Accuracy for imbalanced classes. "
   ]
  },
  {
   "cell_type": "markdown",
   "id": "25b72c1d",
   "metadata": {},
   "source": [
    "## Data Cleaning and Preprocessing "
   ]
  },
  {
   "cell_type": "markdown",
   "id": "ee4c2868",
   "metadata": {},
   "source": [
    "#### Remove punctuation and symbols (keep $ and %)"
   ]
  },
  {
   "cell_type": "code",
   "execution_count": 40,
   "id": "48629626",
   "metadata": {},
   "outputs": [
    {
     "data": {
      "text/plain": [
       "'!\"#$%&\\'()*+,-./:;<=>?@[\\\\]^_`{|}~'"
      ]
     },
     "execution_count": 40,
     "metadata": {},
     "output_type": "execute_result"
    }
   ],
   "source": [
    "#Check punctuation in string library\n",
    "string.punctuation"
   ]
  },
  {
   "cell_type": "code",
   "execution_count": 41,
   "id": "3f3f6c95",
   "metadata": {},
   "outputs": [
    {
     "data": {
      "text/plain": [
       "'!\"#&\\'()*+,-./:;<=>?@[\\\\]^_`{|}~'"
      ]
     },
     "execution_count": 41,
     "metadata": {},
     "output_type": "execute_result"
    }
   ],
   "source": [
    "#Modify to retain $ and % symbols\n",
    "modified_puncuation = string.punctuation.replace('$', '').replace('%', '')\n",
    "modified_puncuation"
   ]
  },
  {
   "cell_type": "code",
   "execution_count": 42,
   "id": "afe09c45",
   "metadata": {},
   "outputs": [],
   "source": [
    "#Remove punctuation and symbols and create new column for preprocessed tokens\n",
    "data['preprocessed_tokens'] = data.tokenized_text.apply(lambda x: [token for token in x if token not in modified_puncuation])"
   ]
  },
  {
   "cell_type": "markdown",
   "id": "fb68e27a",
   "metadata": {},
   "source": [
    "#### Convert text to lower case "
   ]
  },
  {
   "cell_type": "code",
   "execution_count": 43,
   "id": "6b8b35ac",
   "metadata": {},
   "outputs": [],
   "source": [
    "#Convert to lower case\n",
    "data['preprocessed_tokens'] = data.preprocessed_tokens.apply(lambda x: [token.lower() for token in x])"
   ]
  },
  {
   "cell_type": "markdown",
   "id": "654b105e",
   "metadata": {},
   "source": [
    "#### Replace specified words "
   ]
  },
  {
   "cell_type": "code",
   "execution_count": 44,
   "id": "33a53a97",
   "metadata": {},
   "outputs": [],
   "source": [
    "#Replace words first, second, third, and fourth with [quarter]\n",
    "words_to_replace = ['first', 'second', 'third', 'fourth']\n",
    "data['preprocessed_tokens'] = data.preprocessed_tokens.apply(lambda x: [token if token not in words_to_replace else '[quarter]' for token in x])"
   ]
  },
  {
   "cell_type": "code",
   "execution_count": 45,
   "id": "35773a6e",
   "metadata": {},
   "outputs": [],
   "source": [
    "#Replace all months of the year with [month]\n",
    "months = [calendar.month_name[i].lower() for i in range(1, 12)]\n",
    "data['preprocessed_tokens'] = data.preprocessed_tokens.apply(lambda x: [token if token not in months else '[month]' for token in x])"
   ]
  },
  {
   "cell_type": "markdown",
   "id": "9436910f",
   "metadata": {},
   "source": [
    "#### Remove Stopwords "
   ]
  },
  {
   "cell_type": "code",
   "execution_count": 46,
   "id": "f0ad3824",
   "metadata": {},
   "outputs": [],
   "source": [
    "#Remove stopwords with the exception of the words \"to\" and \"on\".\n",
    "stops = stopwords.words('english')"
   ]
  },
  {
   "cell_type": "code",
   "execution_count": 47,
   "id": "757cc0c2",
   "metadata": {},
   "outputs": [
    {
     "name": "stdout",
     "output_type": "stream",
     "text": [
      "False\n",
      "False\n"
     ]
    }
   ],
   "source": [
    "#Check that to and on were removed from stopwords list.\n",
    "stops.remove('to')\n",
    "stops.remove('on')\n",
    "print('to' in stops)\n",
    "print('on' in stops)"
   ]
  },
  {
   "cell_type": "code",
   "execution_count": 48,
   "id": "deb36926",
   "metadata": {},
   "outputs": [],
   "source": [
    "#Remove stopwords from dataset.\n",
    "data['preprocessed_tokens'] = data.preprocessed_tokens.apply(lambda x: [token for token in x if token not in stops ])"
   ]
  },
  {
   "cell_type": "code",
   "execution_count": 49,
   "id": "0303146e",
   "metadata": {},
   "outputs": [
    {
     "data": {
      "text/plain": [
       "0        [indie, semiconductor, enters, definitive, agr...\n",
       "1        [virtuoso, acquisition, corp, announces, effec...\n",
       "2        [dawson, geophysical, announces, merger, agree...\n",
       "3        [hydrofarm, signs, agreement, to, acquire, inn...\n",
       "4        [crestwood, to, acquire, oasis, midstream, par...\n",
       "                               ...                        \n",
       "11891    [abbott, increases, quarterly, dividend, 50th,...\n",
       "11892             [autoliv, announces, dividend, increase]\n",
       "11893    [cisco, raises, quarterly, dividend, 3, %, to,...\n",
       "11894    [quebecor, inc, announces, 9, %, increase, qua...\n",
       "11895    [taitron, announces, quarterly, cash, dividend...\n",
       "Name: preprocessed_tokens, Length: 11896, dtype: object"
      ]
     },
     "execution_count": 49,
     "metadata": {},
     "output_type": "execute_result"
    }
   ],
   "source": [
    "#Check data samples.\n",
    "data.preprocessed_tokens"
   ]
  },
  {
   "cell_type": "code",
   "execution_count": 50,
   "id": "303365b9",
   "metadata": {},
   "outputs": [
    {
     "data": {
      "text/plain": [
       "['adamas',\n",
       " 'to',\n",
       " 'announce',\n",
       " '[quarter]',\n",
       " 'quarter',\n",
       " 'year-end',\n",
       " '2020',\n",
       " 'financial',\n",
       " 'results',\n",
       " 'host',\n",
       " 'conference',\n",
       " 'call',\n",
       " 'on',\n",
       " '[month]',\n",
       " '23',\n",
       " '2021']"
      ]
     },
     "execution_count": 50,
     "metadata": {},
     "output_type": "execute_result"
    }
   ],
   "source": [
    "data['preprocessed_tokens'][1000]"
   ]
  },
  {
   "cell_type": "markdown",
   "id": "8cf45a1c",
   "metadata": {},
   "source": [
    "#### Replace numeric years (fourth digit numbers) with the str [year] "
   ]
  },
  {
   "cell_type": "code",
   "execution_count": 51,
   "id": "1f2b4f9c",
   "metadata": {},
   "outputs": [],
   "source": [
    "#Replace all 4 digit numbers with [year]\n",
    "data['preprocessed_tokens'] = data.preprocessed_tokens.apply(lambda x: [token if re.match(r'[0-9]{4}$', token) == None else '[year]' for token in x])"
   ]
  },
  {
   "cell_type": "code",
   "execution_count": 52,
   "id": "32861337",
   "metadata": {},
   "outputs": [
    {
     "data": {
      "text/plain": [
       "['adamas',\n",
       " 'to',\n",
       " 'announce',\n",
       " '[quarter]',\n",
       " 'quarter',\n",
       " 'year-end',\n",
       " '[year]',\n",
       " 'financial',\n",
       " 'results',\n",
       " 'host',\n",
       " 'conference',\n",
       " 'call',\n",
       " 'on',\n",
       " '[month]',\n",
       " '23',\n",
       " '[year]']"
      ]
     },
     "execution_count": 52,
     "metadata": {},
     "output_type": "execute_result"
    }
   ],
   "source": [
    "#Check sample\n",
    "data['preprocessed_tokens'][1000]"
   ]
  },
  {
   "cell_type": "markdown",
   "id": "9d9e0687",
   "metadata": {},
   "source": [
    "#### Remove all non 4 digit numbers. "
   ]
  },
  {
   "cell_type": "code",
   "execution_count": 53,
   "id": "b8123600",
   "metadata": {},
   "outputs": [],
   "source": [
    "#Remove all numbers that don't have 4 digits with [num]\n",
    "#data['preprocessed_text'] = data.preprocessed_text.str.replace(r'[0-9]{}', '', regex=True)\n",
    "data['preprocessed_tokens'] = data.preprocessed_tokens.apply(lambda x: [token for token in x if re.match(r'[0-9]+', token) == None])"
   ]
  },
  {
   "cell_type": "code",
   "execution_count": 54,
   "id": "c8e1c6db",
   "metadata": {},
   "outputs": [
    {
     "data": {
      "text/plain": [
       "['adamas',\n",
       " 'to',\n",
       " 'announce',\n",
       " '[quarter]',\n",
       " 'quarter',\n",
       " 'year-end',\n",
       " '[year]',\n",
       " 'financial',\n",
       " 'results',\n",
       " 'host',\n",
       " 'conference',\n",
       " 'call',\n",
       " 'on',\n",
       " '[month]',\n",
       " '[year]']"
      ]
     },
     "execution_count": 54,
     "metadata": {},
     "output_type": "execute_result"
    }
   ],
   "source": [
    "#Check sample.\n",
    "data['preprocessed_tokens'][1000]"
   ]
  },
  {
   "cell_type": "markdown",
   "id": "dfa88897",
   "metadata": {},
   "source": [
    "#### Check Most Common Unigrams Post Preprocessing "
   ]
  },
  {
   "cell_type": "code",
   "execution_count": 55,
   "id": "785f0e52",
   "metadata": {},
   "outputs": [
    {
     "data": {
      "text/html": [
       "<style type=\"text/css\">\n",
       "#T_7d69e_row0_col0, #T_7d69e_row0_col1, #T_7d69e_row0_col2, #T_7d69e_row0_col3, #T_7d69e_row0_col4, #T_7d69e_row0_col5, #T_7d69e_row1_col0, #T_7d69e_row1_col1, #T_7d69e_row1_col2, #T_7d69e_row1_col3, #T_7d69e_row1_col4, #T_7d69e_row1_col5, #T_7d69e_row2_col0, #T_7d69e_row2_col1, #T_7d69e_row2_col2, #T_7d69e_row2_col3, #T_7d69e_row2_col4, #T_7d69e_row2_col5, #T_7d69e_row3_col0, #T_7d69e_row3_col1, #T_7d69e_row3_col2, #T_7d69e_row3_col3, #T_7d69e_row3_col4, #T_7d69e_row3_col5, #T_7d69e_row4_col0, #T_7d69e_row4_col1, #T_7d69e_row4_col2, #T_7d69e_row4_col3, #T_7d69e_row4_col4, #T_7d69e_row4_col5, #T_7d69e_row5_col0, #T_7d69e_row5_col1, #T_7d69e_row5_col2, #T_7d69e_row5_col3, #T_7d69e_row5_col4, #T_7d69e_row5_col5, #T_7d69e_row6_col0, #T_7d69e_row6_col1, #T_7d69e_row6_col2, #T_7d69e_row6_col3, #T_7d69e_row6_col4, #T_7d69e_row6_col5, #T_7d69e_row7_col0, #T_7d69e_row7_col1, #T_7d69e_row7_col2, #T_7d69e_row7_col3, #T_7d69e_row7_col4, #T_7d69e_row7_col5, #T_7d69e_row8_col0, #T_7d69e_row8_col1, #T_7d69e_row8_col2, #T_7d69e_row8_col3, #T_7d69e_row8_col4, #T_7d69e_row8_col5, #T_7d69e_row9_col0, #T_7d69e_row9_col1, #T_7d69e_row9_col2, #T_7d69e_row9_col3, #T_7d69e_row9_col4, #T_7d69e_row9_col5, #T_7d69e_row10_col0, #T_7d69e_row10_col1, #T_7d69e_row10_col2, #T_7d69e_row10_col3, #T_7d69e_row10_col4, #T_7d69e_row10_col5, #T_7d69e_row11_col0, #T_7d69e_row11_col1, #T_7d69e_row11_col2, #T_7d69e_row11_col3, #T_7d69e_row11_col4, #T_7d69e_row11_col5, #T_7d69e_row12_col0, #T_7d69e_row12_col1, #T_7d69e_row12_col2, #T_7d69e_row12_col3, #T_7d69e_row12_col4, #T_7d69e_row12_col5, #T_7d69e_row13_col0, #T_7d69e_row13_col1, #T_7d69e_row13_col2, #T_7d69e_row13_col3, #T_7d69e_row13_col4, #T_7d69e_row13_col5, #T_7d69e_row14_col0, #T_7d69e_row14_col1, #T_7d69e_row14_col2, #T_7d69e_row14_col3, #T_7d69e_row14_col4, #T_7d69e_row14_col5, #T_7d69e_row15_col0, #T_7d69e_row15_col1, #T_7d69e_row15_col2, #T_7d69e_row15_col3, #T_7d69e_row15_col4, #T_7d69e_row15_col5, #T_7d69e_row16_col0, #T_7d69e_row16_col1, #T_7d69e_row16_col2, #T_7d69e_row16_col3, #T_7d69e_row16_col4, #T_7d69e_row16_col5, #T_7d69e_row17_col0, #T_7d69e_row17_col1, #T_7d69e_row17_col2, #T_7d69e_row17_col3, #T_7d69e_row17_col4, #T_7d69e_row17_col5, #T_7d69e_row18_col0, #T_7d69e_row18_col1, #T_7d69e_row18_col2, #T_7d69e_row18_col3, #T_7d69e_row18_col4, #T_7d69e_row18_col5, #T_7d69e_row19_col0, #T_7d69e_row19_col1, #T_7d69e_row19_col2, #T_7d69e_row19_col3, #T_7d69e_row19_col4, #T_7d69e_row19_col5, #T_7d69e_row20_col0, #T_7d69e_row20_col1, #T_7d69e_row20_col2, #T_7d69e_row20_col3, #T_7d69e_row20_col4, #T_7d69e_row20_col5, #T_7d69e_row21_col0, #T_7d69e_row21_col1, #T_7d69e_row21_col2, #T_7d69e_row21_col3, #T_7d69e_row21_col4, #T_7d69e_row21_col5, #T_7d69e_row22_col0, #T_7d69e_row22_col1, #T_7d69e_row22_col2, #T_7d69e_row22_col3, #T_7d69e_row22_col4, #T_7d69e_row22_col5, #T_7d69e_row23_col0, #T_7d69e_row23_col1, #T_7d69e_row23_col2, #T_7d69e_row23_col3, #T_7d69e_row23_col4, #T_7d69e_row23_col5, #T_7d69e_row24_col0, #T_7d69e_row24_col1, #T_7d69e_row24_col2, #T_7d69e_row24_col3, #T_7d69e_row24_col4, #T_7d69e_row24_col5, #T_7d69e_row25_col0, #T_7d69e_row25_col1, #T_7d69e_row25_col2, #T_7d69e_row25_col3, #T_7d69e_row25_col4, #T_7d69e_row25_col5, #T_7d69e_row26_col0, #T_7d69e_row26_col1, #T_7d69e_row26_col2, #T_7d69e_row26_col3, #T_7d69e_row26_col4, #T_7d69e_row26_col5, #T_7d69e_row27_col0, #T_7d69e_row27_col1, #T_7d69e_row27_col2, #T_7d69e_row27_col3, #T_7d69e_row27_col4, #T_7d69e_row27_col5, #T_7d69e_row28_col0, #T_7d69e_row28_col1, #T_7d69e_row28_col2, #T_7d69e_row28_col3, #T_7d69e_row28_col4, #T_7d69e_row28_col5, #T_7d69e_row29_col0, #T_7d69e_row29_col1, #T_7d69e_row29_col2, #T_7d69e_row29_col3, #T_7d69e_row29_col4, #T_7d69e_row29_col5 {\n",
       "  text-align: Center;\n",
       "  border: 1.3px solid black;\n",
       "}\n",
       "</style>\n",
       "<table id=\"T_7d69e_\">\n",
       "  <thead>\n",
       "    <tr>\n",
       "      <th class=\"blank level0\" >&nbsp;</th>\n",
       "      <th class=\"col_heading level0 col0\" >Financials</th>\n",
       "      <th class=\"col_heading level0 col1\" >Earnings Announcement</th>\n",
       "      <th class=\"col_heading level0 col2\" >Dividends</th>\n",
       "      <th class=\"col_heading level0 col3\" >Increased Dividend</th>\n",
       "      <th class=\"col_heading level0 col4\" >Acquisition</th>\n",
       "      <th class=\"col_heading level0 col5\" >Misc</th>\n",
       "    </tr>\n",
       "  </thead>\n",
       "  <tbody>\n",
       "    <tr>\n",
       "      <th id=\"T_7d69e_level0_row0\" class=\"row_heading level0 row0\" >0</th>\n",
       "      <td id=\"T_7d69e_row0_col0\" class=\"data row0 col0\" >Results</td>\n",
       "      <td id=\"T_7d69e_row0_col1\" class=\"data row0 col1\" >Quarter</td>\n",
       "      <td id=\"T_7d69e_row0_col2\" class=\"data row0 col2\" >Dividend</td>\n",
       "      <td id=\"T_7d69e_row0_col3\" class=\"data row0 col3\" >Dividend</td>\n",
       "      <td id=\"T_7d69e_row0_col4\" class=\"data row0 col4\" >of</td>\n",
       "      <td id=\"T_7d69e_row0_col5\" class=\"data row0 col5\" >of</td>\n",
       "    </tr>\n",
       "    <tr>\n",
       "      <th id=\"T_7d69e_level0_row1\" class=\"row_heading level0 row1\" >1</th>\n",
       "      <td id=\"T_7d69e_row1_col0\" class=\"data row1 col0\" >Quarter</td>\n",
       "      <td id=\"T_7d69e_row1_col1\" class=\"data row1 col1\" >and</td>\n",
       "      <td id=\"T_7d69e_row1_col2\" class=\"data row1 col2\" >Declares</td>\n",
       "      <td id=\"T_7d69e_row1_col3\" class=\"data row1 col3\" >Increase</td>\n",
       "      <td id=\"T_7d69e_row1_col4\" class=\"data row1 col4\" >to</td>\n",
       "      <td id=\"T_7d69e_row1_col5\" class=\"data row1 col5\" >,</td>\n",
       "    </tr>\n",
       "    <tr>\n",
       "      <th id=\"T_7d69e_level0_row2\" class=\"row_heading level0 row2\" >2</th>\n",
       "      <td id=\"T_7d69e_row2_col0\" class=\"data row2 col0\" >and</td>\n",
       "      <td id=\"T_7d69e_row2_col1\" class=\"data row2 col1\" >,</td>\n",
       "      <td id=\"T_7d69e_row2_col2\" class=\"data row2 col2\" >Announces</td>\n",
       "      <td id=\"T_7d69e_row2_col3\" class=\"data row2 col3\" >%</td>\n",
       "      <td id=\"T_7d69e_row2_col4\" class=\"data row2 col4\" >,</td>\n",
       "      <td id=\"T_7d69e_row2_col5\" class=\"data row2 col5\" >to</td>\n",
       "    </tr>\n",
       "    <tr>\n",
       "      <th id=\"T_7d69e_level0_row3\" class=\"row_heading level0 row3\" >3</th>\n",
       "      <td id=\"T_7d69e_row3_col0\" class=\"data row3 col0\" >Reports</td>\n",
       "      <td id=\"T_7d69e_row3_col1\" class=\"data row3 col1\" >2021</td>\n",
       "      <td id=\"T_7d69e_row3_col2\" class=\"data row3 col2\" >Quarterly</td>\n",
       "      <td id=\"T_7d69e_row3_col3\" class=\"data row3 col3\" >Announces</td>\n",
       "      <td id=\"T_7d69e_row3_col4\" class=\"data row3 col4\" >Acquire</td>\n",
       "      <td id=\"T_7d69e_row3_col5\" class=\"data row3 col5\" >and</td>\n",
       "    </tr>\n",
       "    <tr>\n",
       "      <th id=\"T_7d69e_level0_row4\" class=\"row_heading level0 row4\" >4</th>\n",
       "      <td id=\"T_7d69e_row4_col0\" class=\"data row4 col0\" >2020</td>\n",
       "      <td id=\"T_7d69e_row4_col1\" class=\"data row4 col1\" >Results</td>\n",
       "      <td id=\"T_7d69e_row4_col2\" class=\"data row4 col2\" >Cash</td>\n",
       "      <td id=\"T_7d69e_row4_col3\" class=\"data row4 col3\" >Quarterly</td>\n",
       "      <td id=\"T_7d69e_row4_col4\" class=\"data row4 col4\" >Acquisition</td>\n",
       "      <td id=\"T_7d69e_row4_col5\" class=\"data row4 col5\" >the</td>\n",
       "    </tr>\n",
       "    <tr>\n",
       "      <th id=\"T_7d69e_level0_row5\" class=\"row_heading level0 row5\" >5</th>\n",
       "      <td id=\"T_7d69e_row5_col0\" class=\"data row5 col0\" >Financial</td>\n",
       "      <td id=\"T_7d69e_row5_col1\" class=\"data row5 col1\" >2020</td>\n",
       "      <td id=\"T_7d69e_row5_col2\" class=\"data row5 col2\" >2021</td>\n",
       "      <td id=\"T_7d69e_row5_col3\" class=\"data row5 col3\" >and</td>\n",
       "      <td id=\"T_7d69e_row5_col4\" class=\"data row5 col4\" >Announces</td>\n",
       "      <td id=\"T_7d69e_row5_col5\" class=\"data row5 col5\" >Announces</td>\n",
       "    </tr>\n",
       "    <tr>\n",
       "      <th id=\"T_7d69e_level0_row6\" class=\"row_heading level0 row6\" >6</th>\n",
       "      <td id=\"T_7d69e_row6_col0\" class=\"data row6 col0\" >Fourth</td>\n",
       "      <td id=\"T_7d69e_row6_col1\" class=\"data row6 col1\" >to</td>\n",
       "      <td id=\"T_7d69e_row6_col2\" class=\"data row6 col2\" >,</td>\n",
       "      <td id=\"T_7d69e_row6_col3\" class=\"data row6 col3\" >Increases</td>\n",
       "      <td id=\"T_7d69e_row6_col4\" class=\"data row6 col4\" >and</td>\n",
       "      <td id=\"T_7d69e_row6_col5\" class=\"data row6 col5\" >in</td>\n",
       "    </tr>\n",
       "    <tr>\n",
       "      <th id=\"T_7d69e_level0_row7\" class=\"row_heading level0 row7\" >7</th>\n",
       "      <td id=\"T_7d69e_row7_col0\" class=\"data row7 col0\" >2021</td>\n",
       "      <td id=\"T_7d69e_row7_col1\" class=\"data row7 col1\" >Fourth</td>\n",
       "      <td id=\"T_7d69e_row7_col2\" class=\"data row7 col2\" >February</td>\n",
       "      <td id=\"T_7d69e_row7_col3\" class=\"data row7 col3\" >in</td>\n",
       "      <td id=\"T_7d69e_row7_col4\" class=\"data row7 col4\" >.</td>\n",
       "      <td id=\"T_7d69e_row7_col5\" class=\"data row7 col5\" >:</td>\n",
       "    </tr>\n",
       "    <tr>\n",
       "      <th id=\"T_7d69e_level0_row8\" class=\"row_heading level0 row8\" >8</th>\n",
       "      <td id=\"T_7d69e_row8_col0\" class=\"data row8 col0\" >Year</td>\n",
       "      <td id=\"T_7d69e_row8_col1\" class=\"data row8 col1\" >Financial</td>\n",
       "      <td id=\"T_7d69e_row8_col2\" class=\"data row8 col2\" >of</td>\n",
       "      <td id=\"T_7d69e_row8_col3\" class=\"data row8 col3\" >to</td>\n",
       "      <td id=\"T_7d69e_row8_col4\" class=\"data row8 col4\" >in</td>\n",
       "      <td id=\"T_7d69e_row8_col5\" class=\"data row8 col5\" >Investors</td>\n",
       "    </tr>\n",
       "    <tr>\n",
       "      <th id=\"T_7d69e_level0_row9\" class=\"row_heading level0 row9\" >9</th>\n",
       "      <td id=\"T_7d69e_row9_col0\" class=\"data row9 col0\" >Announces</td>\n",
       "      <td id=\"T_7d69e_row9_col1\" class=\"data row9 col1\" >on</td>\n",
       "      <td id=\"T_7d69e_row9_col2\" class=\"data row9 col2\" >Distribution</td>\n",
       "      <td id=\"T_7d69e_row9_col3\" class=\"data row9 col3\" >,</td>\n",
       "      <td id=\"T_7d69e_row9_col4\" class=\"data row9 col4\" >$</td>\n",
       "      <td id=\"T_7d69e_row9_col5\" class=\"data row9 col5\" >with</td>\n",
       "    </tr>\n",
       "    <tr>\n",
       "      <th id=\"T_7d69e_level0_row10\" class=\"row_heading level0 row10\" >10</th>\n",
       "      <td id=\"T_7d69e_row10_col0\" class=\"data row10 col0\" >,</td>\n",
       "      <td id=\"T_7d69e_row10_col1\" class=\"data row10 col1\" >Call</td>\n",
       "      <td id=\"T_7d69e_row10_col2\" class=\"data row10 col2\" >for</td>\n",
       "      <td id=\"T_7d69e_row10_col3\" class=\"data row10 col3\" >Declares</td>\n",
       "      <td id=\"T_7d69e_row10_col4\" class=\"data row10 col4\" >Agreement</td>\n",
       "      <td id=\"T_7d69e_row10_col5\" class=\"data row10 col5\" >for</td>\n",
       "    </tr>\n",
       "    <tr>\n",
       "      <th id=\"T_7d69e_level0_row11\" class=\"row_heading level0 row11\" >11</th>\n",
       "      <td id=\"T_7d69e_row11_col0\" class=\"data row11 col0\" >Third</td>\n",
       "      <td id=\"T_7d69e_row11_col1\" class=\"data row11 col1\" >Conference</td>\n",
       "      <td id=\"T_7d69e_row11_col2\" class=\"data row11 col2\" >.</td>\n",
       "      <td id=\"T_7d69e_row11_col3\" class=\"data row11 col3\" >Cash</td>\n",
       "      <td id=\"T_7d69e_row11_col4\" class=\"data row11 col4\" >the</td>\n",
       "      <td id=\"T_7d69e_row11_col5\" class=\"data row11 col5\" >Class</td>\n",
       "    </tr>\n",
       "    <tr>\n",
       "      <th id=\"T_7d69e_level0_row12\" class=\"row_heading level0 row12\" >12</th>\n",
       "      <td id=\"T_7d69e_row12_col0\" class=\"data row12 col0\" >Full</td>\n",
       "      <td id=\"T_7d69e_row12_col1\" class=\"data row12 col1\" >Year</td>\n",
       "      <td id=\"T_7d69e_row12_col2\" class=\"data row12 col2\" >Share</td>\n",
       "      <td id=\"T_7d69e_row12_col3\" class=\"data row12 col3\" >for</td>\n",
       "      <td id=\"T_7d69e_row12_col4\" class=\"data row12 col4\" >Acquires</td>\n",
       "      <td id=\"T_7d69e_row12_col5\" class=\"data row12 col5\" >Firm</td>\n",
       "    </tr>\n",
       "    <tr>\n",
       "      <th id=\"T_7d69e_level0_row13\" class=\"row_heading level0 row13\" >13</th>\n",
       "      <td id=\"T_7d69e_row13_col0\" class=\"data row13 col0\" >Fiscal</td>\n",
       "      <td id=\"T_7d69e_row13_col1\" class=\"data row13 col1\" >Full</td>\n",
       "      <td id=\"T_7d69e_row13_col2\" class=\"data row13 col2\" >Monthly</td>\n",
       "      <td id=\"T_7d69e_row13_col3\" class=\"data row13 col3\" >dividend</td>\n",
       "      <td id=\"T_7d69e_row13_col4\" class=\"data row13 col4\" >Inc</td>\n",
       "      <td id=\"T_7d69e_row13_col5\" class=\"data row13 col5\" >Inc.</td>\n",
       "    </tr>\n",
       "    <tr>\n",
       "      <th id=\"T_7d69e_level0_row14\" class=\"row_heading level0 row14\" >14</th>\n",
       "      <td id=\"T_7d69e_row14_col0\" class=\"data row14 col0\" >for</td>\n",
       "      <td id=\"T_7d69e_row14_col1\" class=\"data row14 col1\" >February</td>\n",
       "      <td id=\"T_7d69e_row14_col2\" class=\"data row14 col2\" >Inc.</td>\n",
       "      <td id=\"T_7d69e_row14_col3\" class=\"data row14 col3\" >.</td>\n",
       "      <td id=\"T_7d69e_row14_col4\" class=\"data row14 col4\" >a</td>\n",
       "      <td id=\"T_7d69e_row14_col5\" class=\"data row14 col5\" >a</td>\n",
       "    </tr>\n",
       "    <tr>\n",
       "      <th id=\"T_7d69e_level0_row15\" class=\"row_heading level0 row15\" >15</th>\n",
       "      <td id=\"T_7d69e_row15_col0\" class=\"data row15 col0\" >of</td>\n",
       "      <td id=\"T_7d69e_row15_col1\" class=\"data row15 col1\" >Report</td>\n",
       "      <td id=\"T_7d69e_row15_col2\" class=\"data row15 col2\" >$</td>\n",
       "      <td id=\"T_7d69e_row15_col3\" class=\"data row15 col3\" >by</td>\n",
       "      <td id=\"T_7d69e_row15_col4\" class=\"data row15 col4\" >Completes</td>\n",
       "      <td id=\"T_7d69e_row15_col5\" class=\"data row15 col5\" >Action</td>\n",
       "    </tr>\n",
       "    <tr>\n",
       "      <th id=\"T_7d69e_level0_row16\" class=\"row_heading level0 row16\" >16</th>\n",
       "      <td id=\"T_7d69e_row16_col0\" class=\"data row16 col0\" >Provides</td>\n",
       "      <td id=\"T_7d69e_row16_col1\" class=\"data row16 col1\" >Earnings</td>\n",
       "      <td id=\"T_7d69e_row16_col2\" class=\"data row16 col2\" >and</td>\n",
       "      <td id=\"T_7d69e_row16_col3\" class=\"data row16 col3\" >of</td>\n",
       "      <td id=\"T_7d69e_row16_col4\" class=\"data row16 col4\" >for</td>\n",
       "      <td id=\"T_7d69e_row16_col5\" class=\"data row16 col5\" >$</td>\n",
       "    </tr>\n",
       "    <tr>\n",
       "      <th id=\"T_7d69e_level0_row17\" class=\"row_heading level0 row17\" >17</th>\n",
       "      <td id=\"T_7d69e_row17_col0\" class=\"data row17 col0\" >$</td>\n",
       "      <td id=\"T_7d69e_row17_col1\" class=\"data row17 col1\" >Release</td>\n",
       "      <td id=\"T_7d69e_row17_col2\" class=\"data row17 col2\" >Corporation</td>\n",
       "      <td id=\"T_7d69e_row17_col3\" class=\"data row17 col3\" >$</td>\n",
       "      <td id=\"T_7d69e_row17_col4\" class=\"data row17 col4\" >Corporation</td>\n",
       "      <td id=\"T_7d69e_row17_col5\" class=\"data row17 col5\" >&</td>\n",
       "    </tr>\n",
       "    <tr>\n",
       "      <th id=\"T_7d69e_level0_row18\" class=\"row_heading level0 row18\" >18</th>\n",
       "      <td id=\"T_7d69e_row18_col0\" class=\"data row18 col0\" >Update</td>\n",
       "      <td id=\"T_7d69e_row18_col1\" class=\"data row18 col1\" >March</td>\n",
       "      <td id=\"T_7d69e_row18_col2\" class=\"data row18 col2\" >Preferred</td>\n",
       "      <td id=\"T_7d69e_row18_col3\" class=\"data row18 col3\" >Share</td>\n",
       "      <td id=\"T_7d69e_row18_col4\" class=\"data row18 col4\" >Inc.</td>\n",
       "      <td id=\"T_7d69e_row18_col5\" class=\"data row18 col5\" >2021</td>\n",
       "    </tr>\n",
       "    <tr>\n",
       "      <th id=\"T_7d69e_level0_row19\" class=\"row_heading level0 row19\" >19</th>\n",
       "      <td id=\"T_7d69e_row19_col0\" class=\"data row19 col0\" >Inc.</td>\n",
       "      <td id=\"T_7d69e_row19_col1\" class=\"data row19 col1\" >Third</td>\n",
       "      <td id=\"T_7d69e_row19_col2\" class=\"data row19 col2\" >Quarter</td>\n",
       "      <td id=\"T_7d69e_row19_col3\" class=\"data row19 col3\" >2021</td>\n",
       "      <td id=\"T_7d69e_row19_col4\" class=\"data row19 col4\" >Transaction</td>\n",
       "      <td id=\"T_7d69e_row19_col5\" class=\"data row19 col5\" >ALERT</td>\n",
       "    </tr>\n",
       "    <tr>\n",
       "      <th id=\"T_7d69e_level0_row20\" class=\"row_heading level0 row20\" >20</th>\n",
       "      <td id=\"T_7d69e_row20_col0\" class=\"data row20 col0\" >First</td>\n",
       "      <td id=\"T_7d69e_row20_col1\" class=\"data row20 col1\" >Fiscal</td>\n",
       "      <td id=\"T_7d69e_row20_col2\" class=\"data row20 col2\" >Distributions</td>\n",
       "      <td id=\"T_7d69e_row20_col3\" class=\"data row20 col3\" >Consecutive</td>\n",
       "      <td id=\"T_7d69e_row20_col4\" class=\"data row20 col4\" >Group</td>\n",
       "      <td id=\"T_7d69e_row20_col5\" class=\"data row20 col5\" >Law</td>\n",
       "    </tr>\n",
       "    <tr>\n",
       "      <th id=\"T_7d69e_level0_row21\" class=\"row_heading level0 row21\" >21</th>\n",
       "      <td id=\"T_7d69e_row21_col0\" class=\"data row21 col0\" >Record</td>\n",
       "      <td id=\"T_7d69e_row21_col1\" class=\"data row21 col1\" >Announces</td>\n",
       "      <td id=\"T_7d69e_row21_col2\" class=\"data row21 col2\" >on</td>\n",
       "      <td id=\"T_7d69e_row21_col3\" class=\"data row21 col3\" >a</td>\n",
       "      <td id=\"T_7d69e_row21_col4\" class=\"data row21 col4\" >Definitive</td>\n",
       "      <td id=\"T_7d69e_row21_col5\" class=\"data row21 col5\" >.</td>\n",
       "    </tr>\n",
       "    <tr>\n",
       "      <th id=\"T_7d69e_level0_row22\" class=\"row_heading level0 row22\" >22</th>\n",
       "      <td id=\"T_7d69e_row22_col0\" class=\"data row22 col0\" >the</td>\n",
       "      <td id=\"T_7d69e_row22_col1\" class=\"data row22 col1\" >Announce</td>\n",
       "      <td id=\"T_7d69e_row22_col2\" class=\"data row22 col2\" >Financial</td>\n",
       "      <td id=\"T_7d69e_row22_col3\" class=\"data row22 col3\" >Common</td>\n",
       "      <td id=\"T_7d69e_row22_col4\" class=\"data row22 col4\" >'s</td>\n",
       "      <td id=\"T_7d69e_row22_col5\" class=\"data row22 col5\" >Lawsuit</td>\n",
       "    </tr>\n",
       "    <tr>\n",
       "      <th id=\"T_7d69e_level0_row23\" class=\"row_heading level0 row23\" >23</th>\n",
       "      <td id=\"T_7d69e_row23_col0\" class=\"data row23 col0\" >Business</td>\n",
       "      <td id=\"T_7d69e_row23_col1\" class=\"data row23 col1\" >for</td>\n",
       "      <td id=\"T_7d69e_row23_col2\" class=\"data row23 col2\" >Stock</td>\n",
       "      <td id=\"T_7d69e_row23_col3\" class=\"data row23 col3\" >Stock</td>\n",
       "      <td id=\"T_7d69e_row23_col4\" class=\"data row23 col4\" >by</td>\n",
       "      <td id=\"T_7d69e_row23_col5\" class=\"data row23 col5\" >at</td>\n",
       "    </tr>\n",
       "    <tr>\n",
       "      <th id=\"T_7d69e_level0_row24\" class=\"row_heading level0 row24\" >24</th>\n",
       "      <td id=\"T_7d69e_row24_col0\" class=\"data row24 col0\" >.</td>\n",
       "      <td id=\"T_7d69e_row24_col1\" class=\"data row24 col1\" >Host</td>\n",
       "      <td id=\"T_7d69e_row24_col2\" class=\"data row24 col2\" >Common</td>\n",
       "      <td id=\"T_7d69e_row24_col3\" class=\"data row24 col3\" >Quarter</td>\n",
       "      <td id=\"T_7d69e_row24_col4\" class=\"data row24 col4\" >Million</td>\n",
       "      <td id=\"T_7d69e_row24_col5\" class=\"data row24 col5\" >(</td>\n",
       "    </tr>\n",
       "    <tr>\n",
       "      <th id=\"T_7d69e_level0_row25\" class=\"row_heading level0 row25\" >25</th>\n",
       "      <td id=\"T_7d69e_row25_col0\" class=\"data row25 col0\" >Full-Year</td>\n",
       "      <td id=\"T_7d69e_row25_col1\" class=\"data row25 col1\" >.</td>\n",
       "      <td id=\"T_7d69e_row25_col2\" class=\"data row25 col2\" >Group</td>\n",
       "      <td id=\"T_7d69e_row25_col3\" class=\"data row25 col3\" >Energy</td>\n",
       "      <td id=\"T_7d69e_row25_col4\" class=\"data row25 col4\" >%</td>\n",
       "      <td id=\"T_7d69e_row25_col5\" class=\"data row25 col5\" >)</td>\n",
       "    </tr>\n",
       "    <tr>\n",
       "      <th id=\"T_7d69e_level0_row26\" class=\"row_heading level0 row26\" >26</th>\n",
       "      <td id=\"T_7d69e_row26_col0\" class=\"data row26 col0\" >Earnings</td>\n",
       "      <td id=\"T_7d69e_row26_col1\" class=\"data row26 col1\" >November</td>\n",
       "      <td id=\"T_7d69e_row26_col2\" class=\"data row26 col2\" >First</td>\n",
       "      <td id=\"T_7d69e_row26_col3\" class=\"data row26 col3\" >Financial</td>\n",
       "      <td id=\"T_7d69e_row26_col4\" class=\"data row26 col4\" >Leading</td>\n",
       "      <td id=\"T_7d69e_row26_col5\" class=\"data row26 col5\" >Deadline</td>\n",
       "    </tr>\n",
       "    <tr>\n",
       "      <th id=\"T_7d69e_level0_row27\" class=\"row_heading level0 row27\" >27</th>\n",
       "      <td id=\"T_7d69e_row27_col0\" class=\"data row27 col0\" >Second</td>\n",
       "      <td id=\"T_7d69e_row27_col1\" class=\"data row27 col1\" >Inc.</td>\n",
       "      <td id=\"T_7d69e_row27_col2\" class=\"data row27 col2\" >Inc</td>\n",
       "      <td id=\"T_7d69e_row27_col3\" class=\"data row27 col3\" >First</td>\n",
       "      <td id=\"T_7d69e_row27_col4\" class=\"data row27 col4\" >Income</td>\n",
       "      <td id=\"T_7d69e_row27_col5\" class=\"data row27 col5\" >on</td>\n",
       "    </tr>\n",
       "    <tr>\n",
       "      <th id=\"T_7d69e_level0_row28\" class=\"row_heading level0 row28\" >28</th>\n",
       "      <td id=\"T_7d69e_row28_col0\" class=\"data row28 col0\" >Inc</td>\n",
       "      <td id=\"T_7d69e_row28_col1\" class=\"data row28 col1\" >Webcast</td>\n",
       "      <td id=\"T_7d69e_row28_col2\" class=\"data row28 col2\" >Per</td>\n",
       "      <td id=\"T_7d69e_row28_col3\" class=\"data row28 col3\" >Corporation</td>\n",
       "      <td id=\"T_7d69e_row28_col4\" class=\"data row28 col4\" >Enters</td>\n",
       "      <td id=\"T_7d69e_row28_col5\" class=\"data row28 col5\" >Encourages</td>\n",
       "    </tr>\n",
       "    <tr>\n",
       "      <th id=\"T_7d69e_level0_row29\" class=\"row_heading level0 row29\" >29</th>\n",
       "      <td id=\"T_7d69e_row29_col0\" class=\"data row29 col0\" >Ended</td>\n",
       "      <td id=\"T_7d69e_row29_col1\" class=\"data row29 col1\" >Date</td>\n",
       "      <td id=\"T_7d69e_row29_col2\" class=\"data row29 col2\" >Income</td>\n",
       "      <td id=\"T_7d69e_row29_col3\" class=\"data row29 col3\" >the</td>\n",
       "      <td id=\"T_7d69e_row29_col4\" class=\"data row29 col4\" >;</td>\n",
       "      <td id=\"T_7d69e_row29_col5\" class=\"data row29 col5\" >-</td>\n",
       "    </tr>\n",
       "  </tbody>\n",
       "</table>\n"
      ],
      "text/plain": [
       "<pandas.io.formats.style.Styler at 0x1de9f15e730>"
      ]
     },
     "execution_count": 55,
     "metadata": {},
     "output_type": "execute_result"
    }
   ],
   "source": [
    "#Check unigrams\n",
    "most_common_table(ngram=1, num_most_common=30)"
   ]
  },
  {
   "cell_type": "markdown",
   "id": "4169f1d3",
   "metadata": {},
   "source": [
    "#### Check Most Common Bigrams Post Preprocessing "
   ]
  },
  {
   "cell_type": "code",
   "execution_count": 56,
   "id": "b363b39c",
   "metadata": {},
   "outputs": [
    {
     "data": {
      "text/html": [
       "<style type=\"text/css\">\n",
       "#T_35833_row0_col0, #T_35833_row0_col1, #T_35833_row0_col2, #T_35833_row0_col3, #T_35833_row0_col4, #T_35833_row0_col5, #T_35833_row1_col0, #T_35833_row1_col1, #T_35833_row1_col2, #T_35833_row1_col3, #T_35833_row1_col4, #T_35833_row1_col5, #T_35833_row2_col0, #T_35833_row2_col1, #T_35833_row2_col2, #T_35833_row2_col3, #T_35833_row2_col4, #T_35833_row2_col5, #T_35833_row3_col0, #T_35833_row3_col1, #T_35833_row3_col2, #T_35833_row3_col3, #T_35833_row3_col4, #T_35833_row3_col5, #T_35833_row4_col0, #T_35833_row4_col1, #T_35833_row4_col2, #T_35833_row4_col3, #T_35833_row4_col4, #T_35833_row4_col5, #T_35833_row5_col0, #T_35833_row5_col1, #T_35833_row5_col2, #T_35833_row5_col3, #T_35833_row5_col4, #T_35833_row5_col5, #T_35833_row6_col0, #T_35833_row6_col1, #T_35833_row6_col2, #T_35833_row6_col3, #T_35833_row6_col4, #T_35833_row6_col5, #T_35833_row7_col0, #T_35833_row7_col1, #T_35833_row7_col2, #T_35833_row7_col3, #T_35833_row7_col4, #T_35833_row7_col5, #T_35833_row8_col0, #T_35833_row8_col1, #T_35833_row8_col2, #T_35833_row8_col3, #T_35833_row8_col4, #T_35833_row8_col5, #T_35833_row9_col0, #T_35833_row9_col1, #T_35833_row9_col2, #T_35833_row9_col3, #T_35833_row9_col4, #T_35833_row9_col5, #T_35833_row10_col0, #T_35833_row10_col1, #T_35833_row10_col2, #T_35833_row10_col3, #T_35833_row10_col4, #T_35833_row10_col5, #T_35833_row11_col0, #T_35833_row11_col1, #T_35833_row11_col2, #T_35833_row11_col3, #T_35833_row11_col4, #T_35833_row11_col5, #T_35833_row12_col0, #T_35833_row12_col1, #T_35833_row12_col2, #T_35833_row12_col3, #T_35833_row12_col4, #T_35833_row12_col5, #T_35833_row13_col0, #T_35833_row13_col1, #T_35833_row13_col2, #T_35833_row13_col3, #T_35833_row13_col4, #T_35833_row13_col5, #T_35833_row14_col0, #T_35833_row14_col1, #T_35833_row14_col2, #T_35833_row14_col3, #T_35833_row14_col4, #T_35833_row14_col5, #T_35833_row15_col0, #T_35833_row15_col1, #T_35833_row15_col2, #T_35833_row15_col3, #T_35833_row15_col4, #T_35833_row15_col5, #T_35833_row16_col0, #T_35833_row16_col1, #T_35833_row16_col2, #T_35833_row16_col3, #T_35833_row16_col4, #T_35833_row16_col5, #T_35833_row17_col0, #T_35833_row17_col1, #T_35833_row17_col2, #T_35833_row17_col3, #T_35833_row17_col4, #T_35833_row17_col5, #T_35833_row18_col0, #T_35833_row18_col1, #T_35833_row18_col2, #T_35833_row18_col3, #T_35833_row18_col4, #T_35833_row18_col5, #T_35833_row19_col0, #T_35833_row19_col1, #T_35833_row19_col2, #T_35833_row19_col3, #T_35833_row19_col4, #T_35833_row19_col5, #T_35833_row20_col0, #T_35833_row20_col1, #T_35833_row20_col2, #T_35833_row20_col3, #T_35833_row20_col4, #T_35833_row20_col5, #T_35833_row21_col0, #T_35833_row21_col1, #T_35833_row21_col2, #T_35833_row21_col3, #T_35833_row21_col4, #T_35833_row21_col5, #T_35833_row22_col0, #T_35833_row22_col1, #T_35833_row22_col2, #T_35833_row22_col3, #T_35833_row22_col4, #T_35833_row22_col5, #T_35833_row23_col0, #T_35833_row23_col1, #T_35833_row23_col2, #T_35833_row23_col3, #T_35833_row23_col4, #T_35833_row23_col5, #T_35833_row24_col0, #T_35833_row24_col1, #T_35833_row24_col2, #T_35833_row24_col3, #T_35833_row24_col4, #T_35833_row24_col5, #T_35833_row25_col0, #T_35833_row25_col1, #T_35833_row25_col2, #T_35833_row25_col3, #T_35833_row25_col4, #T_35833_row25_col5, #T_35833_row26_col0, #T_35833_row26_col1, #T_35833_row26_col2, #T_35833_row26_col3, #T_35833_row26_col4, #T_35833_row26_col5, #T_35833_row27_col0, #T_35833_row27_col1, #T_35833_row27_col2, #T_35833_row27_col3, #T_35833_row27_col4, #T_35833_row27_col5, #T_35833_row28_col0, #T_35833_row28_col1, #T_35833_row28_col2, #T_35833_row28_col3, #T_35833_row28_col4, #T_35833_row28_col5, #T_35833_row29_col0, #T_35833_row29_col1, #T_35833_row29_col2, #T_35833_row29_col3, #T_35833_row29_col4, #T_35833_row29_col5 {\n",
       "  text-align: Center;\n",
       "  border: 1.3px solid black;\n",
       "}\n",
       "</style>\n",
       "<table id=\"T_35833_\">\n",
       "  <thead>\n",
       "    <tr>\n",
       "      <th class=\"blank level0\" >&nbsp;</th>\n",
       "      <th class=\"col_heading level0 col0\" >Financials</th>\n",
       "      <th class=\"col_heading level0 col1\" >Earnings Announcement</th>\n",
       "      <th class=\"col_heading level0 col2\" >Dividends</th>\n",
       "      <th class=\"col_heading level0 col3\" >Increased Dividend</th>\n",
       "      <th class=\"col_heading level0 col4\" >Acquisition</th>\n",
       "      <th class=\"col_heading level0 col5\" >Misc</th>\n",
       "    </tr>\n",
       "  </thead>\n",
       "  <tbody>\n",
       "    <tr>\n",
       "      <th id=\"T_35833_level0_row0\" class=\"row_heading level0 row0\" >0</th>\n",
       "      <td id=\"T_35833_row0_col0\" class=\"data row0 col0\" >Financial Results</td>\n",
       "      <td id=\"T_35833_row0_col1\" class=\"data row0 col1\" >Fourth Quarter</td>\n",
       "      <td id=\"T_35833_row0_col2\" class=\"data row0 col2\" >Cash Dividend</td>\n",
       "      <td id=\"T_35833_row0_col3\" class=\"data row0 col3\" >Dividend Increase</td>\n",
       "      <td id=\"T_35833_row0_col4\" class=\"data row0 col4\" >to Acquire</td>\n",
       "      <td id=\"T_35833_row0_col5\" class=\"data row0 col5\" >Class Action</td>\n",
       "    </tr>\n",
       "    <tr>\n",
       "      <th id=\"T_35833_level0_row1\" class=\"row_heading level0 row1\" >1</th>\n",
       "      <td id=\"T_35833_row1_col0\" class=\"data row1 col0\" >Fourth Quarter</td>\n",
       "      <td id=\"T_35833_row1_col1\" class=\"data row1 col1\" >Financial Results</td>\n",
       "      <td id=\"T_35833_row1_col2\" class=\"data row1 col2\" >Quarterly Dividend</td>\n",
       "      <td id=\"T_35833_row1_col3\" class=\"data row1 col3\" >Quarterly Dividend</td>\n",
       "      <td id=\"T_35833_row1_col4\" class=\"data row1 col4\" >Acquisition of</td>\n",
       "      <td id=\"T_35833_row1_col5\" class=\"data row1 col5\" >, Inc.</td>\n",
       "    </tr>\n",
       "    <tr>\n",
       "      <th id=\"T_35833_level0_row2\" class=\"row_heading level0 row2\" >2</th>\n",
       "      <td id=\"T_35833_row2_col0\" class=\"data row2 col0\" >Quarter and</td>\n",
       "      <td id=\"T_35833_row2_col1\" class=\"data row2 col1\" >, 2021</td>\n",
       "      <td id=\"T_35833_row2_col2\" class=\"data row2 col2\" >Declares Quarterly</td>\n",
       "      <td id=\"T_35833_row2_col3\" class=\"data row2 col3\" >Cash Dividend</td>\n",
       "      <td id=\"T_35833_row2_col4\" class=\"data row2 col4\" >Inc .</td>\n",
       "      <td id=\"T_35833_row2_col5\" class=\"data row2 col5\" >ALERT :</td>\n",
       "    </tr>\n",
       "    <tr>\n",
       "      <th id=\"T_35833_level0_row3\" class=\"row_heading level0 row3\" >3</th>\n",
       "      <td id=\"T_35833_row3_col0\" class=\"data row3 col0\" >Third Quarter</td>\n",
       "      <td id=\"T_35833_row3_col1\" class=\"data row3 col1\" >Conference Call</td>\n",
       "      <td id=\"T_35833_row3_col2\" class=\"data row3 col2\" >February 2021</td>\n",
       "      <td id=\"T_35833_row3_col3\" class=\"data row3 col3\" >Increase in</td>\n",
       "      <td id=\"T_35833_row3_col4\" class=\"data row3 col4\" >Agreement to</td>\n",
       "      <td id=\"T_35833_row3_col5\" class=\"data row3 col5\" >Action Lawsuit</td>\n",
       "    </tr>\n",
       "    <tr>\n",
       "      <th id=\"T_35833_level0_row4\" class=\"row_heading level0 row4\" >4</th>\n",
       "      <td id=\"T_35833_row4_col0\" class=\"data row4 col0\" >Full Year</td>\n",
       "      <td id=\"T_35833_row4_col1\" class=\"data row4 col1\" >Quarter and</td>\n",
       "      <td id=\"T_35833_row4_col2\" class=\"data row4 col2\" >Quarterly Cash</td>\n",
       "      <td id=\"T_35833_row4_col3\" class=\"data row4 col3\" >Increases Dividend</td>\n",
       "      <td id=\"T_35833_row4_col4\" class=\"data row4 col4\" >Completes Acquisition</td>\n",
       "      <td id=\"T_35833_row4_col5\" class=\"data row4 col5\" >Law Firm</td>\n",
       "    </tr>\n",
       "    <tr>\n",
       "      <th id=\"T_35833_level0_row5\" class=\"row_heading level0 row5\" >5</th>\n",
       "      <td id=\"T_35833_row5_col0\" class=\"data row5 col0\" >Year 2020</td>\n",
       "      <td id=\"T_35833_row5_col1\" class=\"data row5 col1\" >Year 2020</td>\n",
       "      <td id=\"T_35833_row5_col2\" class=\"data row5 col2\" >. Announces</td>\n",
       "      <td id=\"T_35833_row5_col3\" class=\"data row5 col3\" >Quarterly Cash</td>\n",
       "      <td id=\"T_35833_row5_col4\" class=\"data row5 col4\" >. Announces</td>\n",
       "      <td id=\"T_35833_row5_col5\" class=\"data row5 col5\" >to Contact</td>\n",
       "    </tr>\n",
       "    <tr>\n",
       "      <th id=\"T_35833_level0_row6\" class=\"row_heading level0 row6\" >6</th>\n",
       "      <td id=\"T_35833_row6_col0\" class=\"data row6 col0\" >and Full</td>\n",
       "      <td id=\"T_35833_row6_col1\" class=\"data row6 col1\" >Results on</td>\n",
       "      <td id=\"T_35833_row6_col2\" class=\"data row6 col2\" >Inc. Declares</td>\n",
       "      <td id=\"T_35833_row6_col3\" class=\"data row6 col3\" >% Increase</td>\n",
       "      <td id=\"T_35833_row6_col4\" class=\"data row6 col4\" >, Inc</td>\n",
       "      <td id=\"T_35833_row6_col5\" class=\"data row6 col5\" >the Firm</td>\n",
       "    </tr>\n",
       "    <tr>\n",
       "      <th id=\"T_35833_level0_row7\" class=\"row_heading level0 row7\" >7</th>\n",
       "      <td id=\"T_35833_row7_col0\" class=\"data row7 col0\" >2020 Financial</td>\n",
       "      <td id=\"T_35833_row7_col1\" class=\"data row7 col1\" >2020 Financial</td>\n",
       "      <td id=\"T_35833_row7_col2\" class=\"data row7 col2\" >Announces February</td>\n",
       "      <td id=\"T_35833_row7_col3\" class=\"data row7 col3\" >to $</td>\n",
       "      <td id=\"T_35833_row7_col4\" class=\"data row7 col4\" >for $</td>\n",
       "      <td id=\"T_35833_row7_col5\" class=\"data row7 col5\" >Contact the</td>\n",
       "    </tr>\n",
       "    <tr>\n",
       "      <th id=\"T_35833_level0_row8\" class=\"row_heading level0 row8\" >8</th>\n",
       "      <td id=\"T_35833_row8_col0\" class=\"data row8 col0\" >Reports Fourth</td>\n",
       "      <td id=\"T_35833_row8_col1\" class=\"data row8 col1\" >Full Year</td>\n",
       "      <td id=\"T_35833_row8_col2\" class=\"data row8 col2\" >, Inc.</td>\n",
       "      <td id=\"T_35833_row8_col3\" class=\"data row8 col3\" >Increases Quarterly</td>\n",
       "      <td id=\"T_35833_row8_col4\" class=\"data row8 col4\" >Announces Acquisition</td>\n",
       "      <td id=\"T_35833_row8_col5\" class=\"data row8 col5\" >Investors with</td>\n",
       "    </tr>\n",
       "    <tr>\n",
       "      <th id=\"T_35833_level0_row9\" class=\"row_heading level0 row9\" >9</th>\n",
       "      <td id=\"T_35833_row9_col0\" class=\"data row9 col0\" >Quarter 2021</td>\n",
       "      <td id=\"T_35833_row9_col1\" class=\"data row9 col1\" >and Full</td>\n",
       "      <td id=\"T_35833_row9_col2\" class=\"data row9 col2\" >Announces Quarterly</td>\n",
       "      <td id=\"T_35833_row9_col3\" class=\"data row9 col3\" >. Announces</td>\n",
       "      <td id=\"T_35833_row9_col4\" class=\"data row9 col4\" >, Inc.</td>\n",
       "      <td id=\"T_35833_row9_col5\" class=\"data row9 col5\" >of $</td>\n",
       "    </tr>\n",
       "    <tr>\n",
       "      <th id=\"T_35833_level0_row10\" class=\"row_heading level0 row10\" >10</th>\n",
       "      <td id=\"T_35833_row10_col0\" class=\"data row10 col0\" >2020 Results</td>\n",
       "      <td id=\"T_35833_row10_col1\" class=\"data row10 col1\" >to Report</td>\n",
       "      <td id=\"T_35833_row10_col2\" class=\"data row10 col2\" >of $</td>\n",
       "      <td id=\"T_35833_row10_col3\" class=\"data row10 col3\" >% Dividend</td>\n",
       "      <td id=\"T_35833_row10_col4\" class=\"data row10 col4\" >Definitive Agreement</td>\n",
       "      <td id=\"T_35833_row10_col5\" class=\"data row10 col5\" >with Losses</td>\n",
       "    </tr>\n",
       "    <tr>\n",
       "      <th id=\"T_35833_level0_row11\" class=\"row_heading level0 row11\" >11</th>\n",
       "      <td id=\"T_35833_row11_col0\" class=\"data row11 col0\" >2021 Financial</td>\n",
       "      <td id=\"T_35833_row11_col1\" class=\"data row11 col1\" >Third Quarter</td>\n",
       "      <td id=\"T_35833_row11_col2\" class=\"data row11 col2\" >Dividend of</td>\n",
       "      <td id=\"T_35833_row11_col3\" class=\"data row11 col3\" >Dividend by</td>\n",
       "      <td id=\"T_35833_row11_col4\" class=\"data row11 col4\" >, a</td>\n",
       "      <td id=\"T_35833_row11_col5\" class=\"data row11 col5\" >Lawsuit Against</td>\n",
       "    </tr>\n",
       "    <tr>\n",
       "      <th id=\"T_35833_level0_row12\" class=\"row_heading level0 row12\" >12</th>\n",
       "      <td id=\"T_35833_row12_col0\" class=\"data row12 col0\" >Results and</td>\n",
       "      <td id=\"T_35833_row12_col1\" class=\"data row12 col1\" >on February</td>\n",
       "      <td id=\"T_35833_row12_col2\" class=\"data row12 col2\" >Inc .</td>\n",
       "      <td id=\"T_35833_row12_col3\" class=\"data row12 col3\" >Dividend and</td>\n",
       "      <td id=\"T_35833_row12_col4\" class=\"data row12 col4\" >Exchange Income</td>\n",
       "      <td id=\"T_35833_row12_col5\" class=\"data row12 col5\" >and Encourages</td>\n",
       "    </tr>\n",
       "    <tr>\n",
       "      <th id=\"T_35833_level0_row13\" class=\"row_heading level0 row13\" >13</th>\n",
       "      <td id=\"T_35833_row13_col0\" class=\"data row13 col0\" >Reports Third</td>\n",
       "      <td id=\"T_35833_row13_col1\" class=\"data row13 col1\" >to Announce</td>\n",
       "      <td id=\"T_35833_row13_col2\" class=\"data row13 col2\" >Per Share</td>\n",
       "      <td id=\"T_35833_row13_col3\" class=\"data row13 col3\" >Increase and</td>\n",
       "      <td id=\"T_35833_row13_col4\" class=\"data row13 col4\" >Income Corporation</td>\n",
       "      <td id=\"T_35833_row13_col5\" class=\"data row13 col5\" >: The</td>\n",
       "    </tr>\n",
       "    <tr>\n",
       "      <th id=\"T_35833_level0_row14\" class=\"row_heading level0 row14\" >14</th>\n",
       "      <td id=\"T_35833_row14_col0\" class=\"data row14 col0\" >Announces Fourth</td>\n",
       "      <td id=\"T_35833_row14_col1\" class=\"data row14 col1\" >Quarter 2021</td>\n",
       "      <td id=\"T_35833_row14_col2\" class=\"data row14 col2\" >Monthly Dividend</td>\n",
       "      <td id=\"T_35833_row14_col3\" class=\"data row14 col3\" >25 %</td>\n",
       "      <td id=\"T_35833_row14_col4\" class=\"data row14 col4\" >Brookfield Infrastructure</td>\n",
       "      <td id=\"T_35833_row14_col5\" class=\"data row14 col5\" >of a</td>\n",
       "    </tr>\n",
       "    <tr>\n",
       "      <th id=\"T_35833_level0_row15\" class=\"row_heading level0 row15\" >15</th>\n",
       "      <td id=\"T_35833_row15_col0\" class=\"data row15 col0\" >Results for</td>\n",
       "      <td id=\"T_35833_row15_col1\" class=\"data row15 col1\" >Report Fourth</td>\n",
       "      <td id=\"T_35833_row15_col2\" class=\"data row15 col2\" >Declares Dividend</td>\n",
       "      <td id=\"T_35833_row15_col3\" class=\"data row15 col3\" >quarterly dividend</td>\n",
       "      <td id=\"T_35833_row15_col4\" class=\"data row15 col4\" >of the</td>\n",
       "      <td id=\"T_35833_row15_col5\" class=\"data row15 col5\" >Encourages Investors</td>\n",
       "    </tr>\n",
       "    <tr>\n",
       "      <th id=\"T_35833_level0_row16\" class=\"row_heading level0 row16\" >16</th>\n",
       "      <td id=\"T_35833_row16_col0\" class=\"data row16 col0\" >Inc. Reports</td>\n",
       "      <td id=\"T_35833_row16_col1\" class=\"data row16 col1\" >Results and</td>\n",
       "      <td id=\"T_35833_row16_col2\" class=\"data row16 col2\" >Corporation Announces</td>\n",
       "      <td id=\"T_35833_row16_col3\" class=\"data row16 col3\" >Announces Dividend</td>\n",
       "      <td id=\"T_35833_row16_col4\" class=\"data row16 col4\" >Announces Agreement</td>\n",
       "      <td id=\"T_35833_row16_col5\" class=\"data row16 col5\" >a Class</td>\n",
       "    </tr>\n",
       "    <tr>\n",
       "      <th id=\"T_35833_level0_row17\" class=\"row_heading level0 row17\" >17</th>\n",
       "      <td id=\"T_35833_row17_col0\" class=\"data row17 col0\" >2021 Results</td>\n",
       "      <td id=\"T_35833_row17_col1\" class=\"data row17 col1\" >on March</td>\n",
       "      <td id=\"T_35833_row17_col2\" class=\"data row17 col2\" >2021 Dividend</td>\n",
       "      <td id=\"T_35833_row17_col3\" class=\"data row17 col3\" >and Declares</td>\n",
       "      <td id=\"T_35833_row17_col4\" class=\"data row17 col4\" >Interest in</td>\n",
       "      <td id=\"T_35833_row17_col5\" class=\"data row17 col5\" >Inc .</td>\n",
       "    </tr>\n",
       "    <tr>\n",
       "      <th id=\"T_35833_level0_row18\" class=\"row_heading level0 row18\" >18</th>\n",
       "      <td id=\"T_35833_row18_col0\" class=\"data row18 col0\" >and Provides</td>\n",
       "      <td id=\"T_35833_row18_col1\" class=\"data row18 col1\" >Quarter 2020</td>\n",
       "      <td id=\"T_35833_row18_col2\" class=\"data row18 col2\" >, Inc</td>\n",
       "      <td id=\"T_35833_row18_col3\" class=\"data row18 col3\" >Declares Dividend</td>\n",
       "      <td id=\"T_35833_row18_col4\" class=\"data row18 col4\" >Inc. ,</td>\n",
       "      <td id=\"T_35833_row18_col5\" class=\"data row18 col5\" >. Announces</td>\n",
       "    </tr>\n",
       "    <tr>\n",
       "      <th id=\"T_35833_level0_row19\" class=\"row_heading level0 row19\" >19</th>\n",
       "      <td id=\"T_35833_row19_col0\" class=\"data row19 col0\" >Fiscal 2021</td>\n",
       "      <td id=\"T_35833_row19_col1\" class=\"data row19 col1\" >2021 Financial</td>\n",
       "      <td id=\"T_35833_row19_col2\" class=\"data row19 col2\" >Announces Cash</td>\n",
       "      <td id=\"T_35833_row19_col3\" class=\"data row19 col3\" >% to</td>\n",
       "      <td id=\"T_35833_row19_col4\" class=\"data row19 col4\" >in the</td>\n",
       "      <td id=\"T_35833_row19_col5\" class=\"data row19 col5\" >Investors of</td>\n",
       "    </tr>\n",
       "    <tr>\n",
       "      <th id=\"T_35833_level0_row20\" class=\"row_heading level0 row20\" >20</th>\n",
       "      <td id=\"T_35833_row20_col0\" class=\"data row20 col0\" >, Inc.</td>\n",
       "      <td id=\"T_35833_row20_col1\" class=\"data row20 col1\" >2020 Results</td>\n",
       "      <td id=\"T_35833_row20_col2\" class=\"data row20 col2\" >Corp .</td>\n",
       "      <td id=\"T_35833_row20_col3\" class=\"data row20 col3\" >Common Stock</td>\n",
       "      <td id=\"T_35833_row20_col4\" class=\"data row20 col4\" >C $</td>\n",
       "      <td id=\"T_35833_row20_col5\" class=\"data row20 col5\" >to Present</td>\n",
       "    </tr>\n",
       "    <tr>\n",
       "      <th id=\"T_35833_level0_row21\" class=\"row_heading level0 row21\" >21</th>\n",
       "      <td id=\"T_35833_row21_col0\" class=\"data row21 col0\" >Quarter 2020</td>\n",
       "      <td id=\"T_35833_row21_col1\" class=\"data row21 col1\" >and Conference</td>\n",
       "      <td id=\"T_35833_row21_col2\" class=\"data row21 col2\" >Dividend on</td>\n",
       "      <td id=\"T_35833_row21_col3\" class=\"data row21 col3\" >9 %</td>\n",
       "      <td id=\"T_35833_row21_col4\" class=\"data row21 col4\" >Inter Pipeline</td>\n",
       "      <td id=\"T_35833_row21_col5\" class=\"data row21 col5\" >Firm Announces</td>\n",
       "    </tr>\n",
       "    <tr>\n",
       "      <th id=\"T_35833_level0_row22\" class=\"row_heading level0 row22\" >22</th>\n",
       "      <td id=\"T_35833_row22_col0\" class=\"data row22 col0\" >for the</td>\n",
       "      <td id=\"T_35833_row22_col1\" class=\"data row22 col1\" >2020 Earnings</td>\n",
       "      <td id=\"T_35833_row22_col2\" class=\"data row22 col2\" >Preferred Stock</td>\n",
       "      <td id=\"T_35833_row22_col3\" class=\"data row22 col3\" >Inc .</td>\n",
       "      <td id=\"T_35833_row22_col4\" class=\"data row22 col4\" >to acquire</td>\n",
       "      <td id=\"T_35833_row22_col5\" class=\"data row22 col5\" >Present at</td>\n",
       "    </tr>\n",
       "    <tr>\n",
       "      <th id=\"T_35833_level0_row23\" class=\"row_heading level0 row23\" >23</th>\n",
       "      <td id=\"T_35833_row23_col0\" class=\"data row23 col0\" >Fiscal Year</td>\n",
       "      <td id=\"T_35833_row23_col1\" class=\"data row23 col1\" >Earnings Release</td>\n",
       "      <td id=\"T_35833_row23_col2\" class=\"data row23 col2\" >Monthly Distribution</td>\n",
       "      <td id=\"T_35833_row23_col3\" class=\"data row23 col3\" >in Quarterly</td>\n",
       "      <td id=\"T_35833_row23_col4\" class=\"data row23 col4\" >Castor Maritime</td>\n",
       "      <td id=\"T_35833_row23_col5\" class=\"data row23 col5\" >Announces the</td>\n",
       "    </tr>\n",
       "    <tr>\n",
       "      <th id=\"T_35833_level0_row24\" class=\"row_heading level0 row24\" >24</th>\n",
       "      <td id=\"T_35833_row24_col0\" class=\"data row24 col0\" >First Quarter</td>\n",
       "      <td id=\"T_35833_row24_col1\" class=\"data row24 col1\" >Fiscal Year</td>\n",
       "      <td id=\"T_35833_row24_col2\" class=\"data row24 col2\" >Corporation Declares</td>\n",
       "      <td id=\"T_35833_row24_col3\" class=\"data row24 col3\" >dividend by</td>\n",
       "      <td id=\"T_35833_row24_col4\" class=\"data row24 col4\" >Maritime Inc</td>\n",
       "      <td id=\"T_35833_row24_col5\" class=\"data row24 col5\" >SHAREHOLDER ALERT</td>\n",
       "    </tr>\n",
       "    <tr>\n",
       "      <th id=\"T_35833_level0_row25\" class=\"row_heading level0 row25\" >25</th>\n",
       "      <td id=\"T_35833_row25_col0\" class=\"data row25 col0\" >. Announces</td>\n",
       "      <td id=\"T_35833_row25_col1\" class=\"data row25 col1\" >Call on</td>\n",
       "      <td id=\"T_35833_row25_col2\" class=\"data row25 col2\" >First Quarter</td>\n",
       "      <td id=\"T_35833_row25_col3\" class=\"data row25 col3\" >Increase of</td>\n",
       "      <td id=\"T_35833_row25_col4\" class=\"data row25 col4\" >, Creating</td>\n",
       "      <td id=\"T_35833_row25_col5\" class=\"data row25 col5\" >, 2021</td>\n",
       "    </tr>\n",
       "    <tr>\n",
       "      <th id=\"T_35833_level0_row26\" class=\"row_heading level0 row26\" >26</th>\n",
       "      <td id=\"T_35833_row26_col0\" class=\"data row26 col0\" >of $</td>\n",
       "      <td id=\"T_35833_row26_col1\" class=\"data row26 col1\" >Announce Fourth</td>\n",
       "      <td id=\"T_35833_row26_col2\" class=\"data row26 col2\" >Distributions for</td>\n",
       "      <td id=\"T_35833_row26_col3\" class=\"data row26 col3\" >Increase to</td>\n",
       "      <td id=\"T_35833_row26_col4\" class=\"data row26 col4\" >of Acquisition</td>\n",
       "      <td id=\"T_35833_row26_col5\" class=\"data row26 col5\" >Public Offering</td>\n",
       "    </tr>\n",
       "    <tr>\n",
       "      <th id=\"T_35833_level0_row27\" class=\"row_heading level0 row27\" >27</th>\n",
       "      <td id=\"T_35833_row27_col0\" class=\"data row27 col0\" >Quarter Fiscal</td>\n",
       "      <td id=\"T_35833_row27_col1\" class=\"data row27 col1\" >and Fiscal</td>\n",
       "      <td id=\"T_35833_row27_col2\" class=\"data row27 col2\" >Declares Cash</td>\n",
       "      <td id=\"T_35833_row27_col3\" class=\"data row27 col3\" >and Announces</td>\n",
       "      <td id=\"T_35833_row27_col4\" class=\"data row27 col4\" >Agrees to</td>\n",
       "      <td id=\"T_35833_row27_col5\" class=\"data row27 col5\" >in the</td>\n",
       "    </tr>\n",
       "    <tr>\n",
       "      <th id=\"T_35833_level0_row28\" class=\"row_heading level0 row28\" >28</th>\n",
       "      <td id=\"T_35833_row28_col0\" class=\"data row28 col0\" >Inc .</td>\n",
       "      <td id=\"T_35833_row28_col1\" class=\"data row28 col1\" >Inc. to</td>\n",
       "      <td id=\"T_35833_row28_col2\" class=\"data row28 col2\" >2021 Distribution</td>\n",
       "      <td id=\"T_35833_row28_col3\" class=\"data row28 col3\" >Repurchase Program</td>\n",
       "      <td id=\"T_35833_row28_col4\" class=\"data row28 col4\" >Corporation Completes</td>\n",
       "      <td id=\"T_35833_row28_col5\" class=\"data row28 col5\" >The Schall</td>\n",
       "    </tr>\n",
       "    <tr>\n",
       "      <th id=\"T_35833_level0_row29\" class=\"row_heading level0 row29\" >29</th>\n",
       "      <td id=\"T_35833_row29_col0\" class=\"data row29 col0\" >Second Quarter</td>\n",
       "      <td id=\"T_35833_row29_col1\" class=\"data row29 col1\" >February 25</td>\n",
       "      <td id=\"T_35833_row29_col2\" class=\"data row29 col2\" >Income Fund</td>\n",
       "      <td id=\"T_35833_row29_col3\" class=\"data row29 col3\" >Per Share</td>\n",
       "      <td id=\"T_35833_row29_col4\" class=\"data row29 col4\" >to Sell</td>\n",
       "      <td id=\"T_35833_row29_col5\" class=\"data row29 col5\" >Schall Law</td>\n",
       "    </tr>\n",
       "  </tbody>\n",
       "</table>\n"
      ],
      "text/plain": [
       "<pandas.io.formats.style.Styler at 0x1de9f142310>"
      ]
     },
     "execution_count": 56,
     "metadata": {},
     "output_type": "execute_result"
    }
   ],
   "source": [
    "#Check bigrams\n",
    "most_common_table(ngram=2, num_most_common=30)"
   ]
  },
  {
   "cell_type": "markdown",
   "id": "fe4c9d80",
   "metadata": {},
   "source": [
    "### Check Most Common Trigrams Post Preprocessing "
   ]
  },
  {
   "cell_type": "code",
   "execution_count": 57,
   "id": "1b0e6ec8",
   "metadata": {},
   "outputs": [
    {
     "data": {
      "text/html": [
       "<style type=\"text/css\">\n",
       "#T_a6a56_row0_col0, #T_a6a56_row0_col1, #T_a6a56_row0_col2, #T_a6a56_row0_col3, #T_a6a56_row0_col4, #T_a6a56_row0_col5, #T_a6a56_row1_col0, #T_a6a56_row1_col1, #T_a6a56_row1_col2, #T_a6a56_row1_col3, #T_a6a56_row1_col4, #T_a6a56_row1_col5, #T_a6a56_row2_col0, #T_a6a56_row2_col1, #T_a6a56_row2_col2, #T_a6a56_row2_col3, #T_a6a56_row2_col4, #T_a6a56_row2_col5, #T_a6a56_row3_col0, #T_a6a56_row3_col1, #T_a6a56_row3_col2, #T_a6a56_row3_col3, #T_a6a56_row3_col4, #T_a6a56_row3_col5, #T_a6a56_row4_col0, #T_a6a56_row4_col1, #T_a6a56_row4_col2, #T_a6a56_row4_col3, #T_a6a56_row4_col4, #T_a6a56_row4_col5, #T_a6a56_row5_col0, #T_a6a56_row5_col1, #T_a6a56_row5_col2, #T_a6a56_row5_col3, #T_a6a56_row5_col4, #T_a6a56_row5_col5, #T_a6a56_row6_col0, #T_a6a56_row6_col1, #T_a6a56_row6_col2, #T_a6a56_row6_col3, #T_a6a56_row6_col4, #T_a6a56_row6_col5, #T_a6a56_row7_col0, #T_a6a56_row7_col1, #T_a6a56_row7_col2, #T_a6a56_row7_col3, #T_a6a56_row7_col4, #T_a6a56_row7_col5, #T_a6a56_row8_col0, #T_a6a56_row8_col1, #T_a6a56_row8_col2, #T_a6a56_row8_col3, #T_a6a56_row8_col4, #T_a6a56_row8_col5, #T_a6a56_row9_col0, #T_a6a56_row9_col1, #T_a6a56_row9_col2, #T_a6a56_row9_col3, #T_a6a56_row9_col4, #T_a6a56_row9_col5, #T_a6a56_row10_col0, #T_a6a56_row10_col1, #T_a6a56_row10_col2, #T_a6a56_row10_col3, #T_a6a56_row10_col4, #T_a6a56_row10_col5, #T_a6a56_row11_col0, #T_a6a56_row11_col1, #T_a6a56_row11_col2, #T_a6a56_row11_col3, #T_a6a56_row11_col4, #T_a6a56_row11_col5, #T_a6a56_row12_col0, #T_a6a56_row12_col1, #T_a6a56_row12_col2, #T_a6a56_row12_col3, #T_a6a56_row12_col4, #T_a6a56_row12_col5, #T_a6a56_row13_col0, #T_a6a56_row13_col1, #T_a6a56_row13_col2, #T_a6a56_row13_col3, #T_a6a56_row13_col4, #T_a6a56_row13_col5, #T_a6a56_row14_col0, #T_a6a56_row14_col1, #T_a6a56_row14_col2, #T_a6a56_row14_col3, #T_a6a56_row14_col4, #T_a6a56_row14_col5, #T_a6a56_row15_col0, #T_a6a56_row15_col1, #T_a6a56_row15_col2, #T_a6a56_row15_col3, #T_a6a56_row15_col4, #T_a6a56_row15_col5, #T_a6a56_row16_col0, #T_a6a56_row16_col1, #T_a6a56_row16_col2, #T_a6a56_row16_col3, #T_a6a56_row16_col4, #T_a6a56_row16_col5, #T_a6a56_row17_col0, #T_a6a56_row17_col1, #T_a6a56_row17_col2, #T_a6a56_row17_col3, #T_a6a56_row17_col4, #T_a6a56_row17_col5, #T_a6a56_row18_col0, #T_a6a56_row18_col1, #T_a6a56_row18_col2, #T_a6a56_row18_col3, #T_a6a56_row18_col4, #T_a6a56_row18_col5, #T_a6a56_row19_col0, #T_a6a56_row19_col1, #T_a6a56_row19_col2, #T_a6a56_row19_col3, #T_a6a56_row19_col4, #T_a6a56_row19_col5, #T_a6a56_row20_col0, #T_a6a56_row20_col1, #T_a6a56_row20_col2, #T_a6a56_row20_col3, #T_a6a56_row20_col4, #T_a6a56_row20_col5, #T_a6a56_row21_col0, #T_a6a56_row21_col1, #T_a6a56_row21_col2, #T_a6a56_row21_col3, #T_a6a56_row21_col4, #T_a6a56_row21_col5, #T_a6a56_row22_col0, #T_a6a56_row22_col1, #T_a6a56_row22_col2, #T_a6a56_row22_col3, #T_a6a56_row22_col4, #T_a6a56_row22_col5, #T_a6a56_row23_col0, #T_a6a56_row23_col1, #T_a6a56_row23_col2, #T_a6a56_row23_col3, #T_a6a56_row23_col4, #T_a6a56_row23_col5, #T_a6a56_row24_col0, #T_a6a56_row24_col1, #T_a6a56_row24_col2, #T_a6a56_row24_col3, #T_a6a56_row24_col4, #T_a6a56_row24_col5, #T_a6a56_row25_col0, #T_a6a56_row25_col1, #T_a6a56_row25_col2, #T_a6a56_row25_col3, #T_a6a56_row25_col4, #T_a6a56_row25_col5, #T_a6a56_row26_col0, #T_a6a56_row26_col1, #T_a6a56_row26_col2, #T_a6a56_row26_col3, #T_a6a56_row26_col4, #T_a6a56_row26_col5, #T_a6a56_row27_col0, #T_a6a56_row27_col1, #T_a6a56_row27_col2, #T_a6a56_row27_col3, #T_a6a56_row27_col4, #T_a6a56_row27_col5, #T_a6a56_row28_col0, #T_a6a56_row28_col1, #T_a6a56_row28_col2, #T_a6a56_row28_col3, #T_a6a56_row28_col4, #T_a6a56_row28_col5, #T_a6a56_row29_col0, #T_a6a56_row29_col1, #T_a6a56_row29_col2, #T_a6a56_row29_col3, #T_a6a56_row29_col4, #T_a6a56_row29_col5 {\n",
       "  text-align: Center;\n",
       "  border: 1.3px solid black;\n",
       "}\n",
       "</style>\n",
       "<table id=\"T_a6a56_\">\n",
       "  <thead>\n",
       "    <tr>\n",
       "      <th class=\"blank level0\" >&nbsp;</th>\n",
       "      <th class=\"col_heading level0 col0\" >Financials</th>\n",
       "      <th class=\"col_heading level0 col1\" >Earnings Announcement</th>\n",
       "      <th class=\"col_heading level0 col2\" >Dividends</th>\n",
       "      <th class=\"col_heading level0 col3\" >Increased Dividend</th>\n",
       "      <th class=\"col_heading level0 col4\" >Acquisition</th>\n",
       "      <th class=\"col_heading level0 col5\" >Misc</th>\n",
       "    </tr>\n",
       "  </thead>\n",
       "  <tbody>\n",
       "    <tr>\n",
       "      <th id=\"T_a6a56_level0_row0\" class=\"row_heading level0 row0\" >0</th>\n",
       "      <td id=\"T_a6a56_row0_col0\" class=\"data row0 col0\" >Fourth Quarter and</td>\n",
       "      <td id=\"T_a6a56_row0_col1\" class=\"data row0 col1\" >Fourth Quarter and</td>\n",
       "      <td id=\"T_a6a56_row0_col2\" class=\"data row0 col2\" >Quarterly Cash Dividend</td>\n",
       "      <td id=\"T_a6a56_row0_col3\" class=\"data row0 col3\" >Quarterly Cash Dividend</td>\n",
       "      <td id=\"T_a6a56_row0_col4\" class=\"data row0 col4\" >Agreement to Acquire</td>\n",
       "      <td id=\"T_a6a56_row0_col5\" class=\"data row0 col5\" >Class Action Lawsuit</td>\n",
       "    </tr>\n",
       "    <tr>\n",
       "      <th id=\"T_a6a56_level0_row1\" class=\"row_heading level0 row1\" >1</th>\n",
       "      <td id=\"T_a6a56_row1_col0\" class=\"data row1 col0\" >and Full Year</td>\n",
       "      <td id=\"T_a6a56_row1_col1\" class=\"data row1 col1\" >2020 Financial Results</td>\n",
       "      <td id=\"T_a6a56_row1_col2\" class=\"data row1 col2\" >Announces February 2021</td>\n",
       "      <td id=\"T_a6a56_row1_col3\" class=\"data row1 col3\" >% Increase in</td>\n",
       "      <td id=\"T_a6a56_row1_col4\" class=\"data row1 col4\" >Completes Acquisition of</td>\n",
       "      <td id=\"T_a6a56_row1_col5\" class=\"data row1 col5\" >Contact the Firm</td>\n",
       "    </tr>\n",
       "    <tr>\n",
       "      <th id=\"T_a6a56_level0_row2\" class=\"row_heading level0 row2\" >2</th>\n",
       "      <td id=\"T_a6a56_row2_col0\" class=\"data row2 col0\" >Full Year 2020</td>\n",
       "      <td id=\"T_a6a56_row2_col1\" class=\"data row2 col1\" >and Full Year</td>\n",
       "      <td id=\"T_a6a56_row2_col2\" class=\"data row2 col2\" >Declares Quarterly Dividend</td>\n",
       "      <td id=\"T_a6a56_row2_col3\" class=\"data row2 col3\" >% Dividend Increase</td>\n",
       "      <td id=\"T_a6a56_row2_col4\" class=\"data row2 col4\" >, Inc .</td>\n",
       "      <td id=\"T_a6a56_row2_col5\" class=\"data row2 col5\" >to Contact the</td>\n",
       "    </tr>\n",
       "    <tr>\n",
       "      <th id=\"T_a6a56_level0_row3\" class=\"row_heading level0 row3\" >3</th>\n",
       "      <td id=\"T_a6a56_row3_col0\" class=\"data row3 col0\" >Reports Fourth Quarter</td>\n",
       "      <td id=\"T_a6a56_row3_col1\" class=\"data row3 col1\" >Quarter and Full</td>\n",
       "      <td id=\"T_a6a56_row3_col2\" class=\"data row3 col2\" >, Inc. Declares</td>\n",
       "      <td id=\"T_a6a56_row3_col3\" class=\"data row3 col3\" >Dividend Increase and</td>\n",
       "      <td id=\"T_a6a56_row3_col4\" class=\"data row3 col4\" >Inc . Announces</td>\n",
       "      <td id=\"T_a6a56_row3_col5\" class=\"data row3 col5\" >Action Lawsuit Against</td>\n",
       "    </tr>\n",
       "    <tr>\n",
       "      <th id=\"T_a6a56_level0_row4\" class=\"row_heading level0 row4\" >4</th>\n",
       "      <td id=\"T_a6a56_row4_col0\" class=\"data row4 col0\" >Quarter and Full</td>\n",
       "      <td id=\"T_a6a56_row4_col1\" class=\"data row4 col1\" >Full Year 2020</td>\n",
       "      <td id=\"T_a6a56_row4_col2\" class=\"data row4 col2\" >Inc . Announces</td>\n",
       "      <td id=\"T_a6a56_row4_col3\" class=\"data row4 col3\" >Announces Dividend Increase</td>\n",
       "      <td id=\"T_a6a56_row4_col4\" class=\"data row4 col4\" >Announces Acquisition of</td>\n",
       "      <td id=\"T_a6a56_row4_col5\" class=\"data row4 col5\" >a Class Action</td>\n",
       "    </tr>\n",
       "    <tr>\n",
       "      <th id=\"T_a6a56_level0_row5\" class=\"row_heading level0 row5\" >5</th>\n",
       "      <td id=\"T_a6a56_row5_col0\" class=\"data row5 col0\" >2020 Financial Results</td>\n",
       "      <td id=\"T_a6a56_row5_col1\" class=\"data row5 col1\" >Financial Results on</td>\n",
       "      <td id=\"T_a6a56_row5_col2\" class=\"data row5 col2\" >Dividend of $</td>\n",
       "      <td id=\"T_a6a56_row5_col3\" class=\"data row5 col3\" >Inc . Announces</td>\n",
       "      <td id=\"T_a6a56_row5_col4\" class=\"data row5 col4\" >Definitive Agreement to</td>\n",
       "      <td id=\"T_a6a56_row5_col5\" class=\"data row5 col5\" >Investors with Losses</td>\n",
       "    </tr>\n",
       "    <tr>\n",
       "      <th id=\"T_a6a56_level0_row6\" class=\"row_heading level0 row6\" >6</th>\n",
       "      <td id=\"T_a6a56_row6_col0\" class=\"data row6 col0\" >Third Quarter 2021</td>\n",
       "      <td id=\"T_a6a56_row6_col1\" class=\"data row6 col1\" >Year 2020 Financial</td>\n",
       "      <td id=\"T_a6a56_row6_col2\" class=\"data row6 col2\" >Declares Quarterly Cash</td>\n",
       "      <td id=\"T_a6a56_row6_col3\" class=\"data row6 col3\" >in Quarterly Dividend</td>\n",
       "      <td id=\"T_a6a56_row6_col4\" class=\"data row6 col4\" >Exchange Income Corporation</td>\n",
       "      <td id=\"T_a6a56_row6_col5\" class=\"data row6 col5\" >and Encourages Investors</td>\n",
       "    </tr>\n",
       "    <tr>\n",
       "      <th id=\"T_a6a56_level0_row7\" class=\"row_heading level0 row7\" >7</th>\n",
       "      <td id=\"T_a6a56_row7_col0\" class=\"data row7 col0\" >2021 Financial Results</td>\n",
       "      <td id=\"T_a6a56_row7_col1\" class=\"data row7 col1\" >Report Fourth Quarter</td>\n",
       "      <td id=\"T_a6a56_row7_col2\" class=\"data row7 col2\" >, Inc .</td>\n",
       "      <td id=\"T_a6a56_row7_col3\" class=\"data row7 col3\" >Dividend to $</td>\n",
       "      <td id=\"T_a6a56_row7_col4\" class=\"data row7 col4\" >Announces Agreement to</td>\n",
       "      <td id=\"T_a6a56_row7_col5\" class=\"data row7 col5\" >of a Class</td>\n",
       "    </tr>\n",
       "    <tr>\n",
       "      <th id=\"T_a6a56_level0_row8\" class=\"row_heading level0 row8\" >8</th>\n",
       "      <td id=\"T_a6a56_row8_col0\" class=\"data row8 col0\" >Reports Third Quarter</td>\n",
       "      <td id=\"T_a6a56_row8_col1\" class=\"data row8 col1\" >to Report Fourth</td>\n",
       "      <td id=\"T_a6a56_row8_col2\" class=\"data row8 col2\" >Announces Quarterly Dividend</td>\n",
       "      <td id=\"T_a6a56_row8_col3\" class=\"data row8 col3\" >Announces 9 %</td>\n",
       "      <td id=\"T_a6a56_row8_col4\" class=\"data row8 col4\" >Castor Maritime Inc</td>\n",
       "      <td id=\"T_a6a56_row8_col5\" class=\"data row8 col5\" >Law Firm Announces</td>\n",
       "    </tr>\n",
       "    <tr>\n",
       "      <th id=\"T_a6a56_level0_row9\" class=\"row_heading level0 row9\" >9</th>\n",
       "      <td id=\"T_a6a56_row9_col0\" class=\"data row9 col0\" >Year 2020 Financial</td>\n",
       "      <td id=\"T_a6a56_row9_col1\" class=\"data row9 col1\" >Third Quarter 2021</td>\n",
       "      <td id=\"T_a6a56_row9_col2\" class=\"data row9 col2\" >Inc. Declares Quarterly</td>\n",
       "      <td id=\"T_a6a56_row9_col3\" class=\"data row9 col3\" >, Inc .</td>\n",
       "      <td id=\"T_a6a56_row9_col4\" class=\"data row9 col4\" >Maritime Inc .</td>\n",
       "      <td id=\"T_a6a56_row9_col5\" class=\"data row9 col5\" >to Present at</td>\n",
       "    </tr>\n",
       "    <tr>\n",
       "      <th id=\"T_a6a56_level0_row10\" class=\"row_heading level0 row10\" >10</th>\n",
       "      <td id=\"T_a6a56_row10_col0\" class=\"data row10 col0\" >Quarter 2021 Financial</td>\n",
       "      <td id=\"T_a6a56_row10_col1\" class=\"data row10 col1\" >Fourth Quarter 2020</td>\n",
       "      <td id=\"T_a6a56_row10_col2\" class=\"data row10 col2\" >. Announces Quarterly</td>\n",
       "      <td id=\"T_a6a56_row10_col3\" class=\"data row10 col3\" >Increase in Quarterly</td>\n",
       "      <td id=\"T_a6a56_row10_col4\" class=\"data row10 col4\" >Corporation Completes Acquisition</td>\n",
       "      <td id=\"T_a6a56_row10_col5\" class=\"data row10 col5\" >Encourages Investors with</td>\n",
       "    </tr>\n",
       "    <tr>\n",
       "      <th id=\"T_a6a56_level0_row11\" class=\"row_heading level0 row11\" >11</th>\n",
       "      <td id=\"T_a6a56_row11_col0\" class=\"data row11 col0\" >Financial Results and</td>\n",
       "      <td id=\"T_a6a56_row11_col1\" class=\"data row11 col1\" >2021 Financial Results</td>\n",
       "      <td id=\"T_a6a56_row11_col2\" class=\"data row11 col2\" >Declares Cash Dividend</td>\n",
       "      <td id=\"T_a6a56_row11_col3\" class=\"data row11 col3\" >Increases Quarterly Cash</td>\n",
       "      <td id=\"T_a6a56_row11_col4\" class=\"data row11 col4\" >Announces Sale of</td>\n",
       "      <td id=\"T_a6a56_row11_col5\" class=\"data row11 col5\" >SHAREHOLDER ALERT :</td>\n",
       "    </tr>\n",
       "    <tr>\n",
       "      <th id=\"T_a6a56_level0_row12\" class=\"row_heading level0 row12\" >12</th>\n",
       "      <td id=\"T_a6a56_row12_col0\" class=\"data row12 col0\" >Announces Fourth Quarter</td>\n",
       "      <td id=\"T_a6a56_row12_col1\" class=\"data row12 col1\" >Results on February</td>\n",
       "      <td id=\"T_a6a56_row12_col2\" class=\"data row12 col2\" >Quarterly Dividend of</td>\n",
       "      <td id=\"T_a6a56_row12_col3\" class=\"data row12 col3\" >Increase to Quarterly</td>\n",
       "      <td id=\"T_a6a56_row12_col4\" class=\"data row12 col4\" >Announces Closing of</td>\n",
       "      <td id=\"T_a6a56_row12_col5\" class=\"data row12 col5\" >: The Schall</td>\n",
       "    </tr>\n",
       "    <tr>\n",
       "      <th id=\"T_a6a56_level0_row13\" class=\"row_heading level0 row13\" >13</th>\n",
       "      <td id=\"T_a6a56_row13_col0\" class=\"data row13 col0\" >Year 2020 Results</td>\n",
       "      <td id=\"T_a6a56_row13_col1\" class=\"data row13 col1\" >Financial Results and</td>\n",
       "      <td id=\"T_a6a56_row13_col2\" class=\"data row13 col2\" >February 2021 Distribution</td>\n",
       "      <td id=\"T_a6a56_row13_col3\" class=\"data row13 col3\" >Dividend U.S .</td>\n",
       "      <td id=\"T_a6a56_row13_col4\" class=\"data row13 col4\" >the United States</td>\n",
       "      <td id=\"T_a6a56_row13_col5\" class=\"data row13 col5\" >The Schall Law</td>\n",
       "    </tr>\n",
       "    <tr>\n",
       "      <th id=\"T_a6a56_level0_row14\" class=\"row_heading level0 row14\" >14</th>\n",
       "      <td id=\"T_a6a56_row14_col0\" class=\"data row14 col0\" >Results and Provides</td>\n",
       "      <td id=\"T_a6a56_row14_col1\" class=\"data row14 col1\" >and Conference Call</td>\n",
       "      <td id=\"T_a6a56_row14_col2\" class=\"data row14 col2\" >Announces Cash Dividend</td>\n",
       "      <td id=\"T_a6a56_row14_col3\" class=\"data row14 col3\" >U.S . Global</td>\n",
       "      <td id=\"T_a6a56_row14_col4\" class=\"data row14 col4\" >, a Leading</td>\n",
       "      <td id=\"T_a6a56_row14_col5\" class=\"data row14 col5\" >Schall Law Firm</td>\n",
       "    </tr>\n",
       "    <tr>\n",
       "      <th id=\"T_a6a56_level0_row15\" class=\"row_heading level0 row15\" >15</th>\n",
       "      <td id=\"T_a6a56_row15_col0\" class=\"data row15 col0\" >, Inc. Reports</td>\n",
       "      <td id=\"T_a6a56_row15_col1\" class=\"data row15 col1\" >Results on March</td>\n",
       "      <td id=\"T_a6a56_row15_col2\" class=\"data row15 col2\" >Announces Quarterly Cash</td>\n",
       "      <td id=\"T_a6a56_row15_col3\" class=\"data row15 col3\" >. Global Investors</td>\n",
       "      <td id=\"T_a6a56_row15_col4\" class=\"data row15 col4\" >. Announces Vessel</td>\n",
       "      <td id=\"T_a6a56_row15_col5\" class=\"data row15 col5\" >Announces the Filing</td>\n",
       "    </tr>\n",
       "    <tr>\n",
       "      <th id=\"T_a6a56_level0_row16\" class=\"row_heading level0 row16\" >16</th>\n",
       "      <td id=\"T_a6a56_row16_col0\" class=\"data row16 col0\" >Fourth Quarter 2020</td>\n",
       "      <td id=\"T_a6a56_row16_col1\" class=\"data row16 col1\" >Quarter 2021 Financial</td>\n",
       "      <td id=\"T_a6a56_row16_col2\" class=\"data row16 col2\" >Corporation Announces Quarterly</td>\n",
       "      <td id=\"T_a6a56_row16_col3\" class=\"data row16 col3\" >Dividend and Announces</td>\n",
       "      <td id=\"T_a6a56_row16_col4\" class=\"data row16 col4\" >Announces Vessel Acquisition</td>\n",
       "      <td id=\"T_a6a56_row16_col5\" class=\"data row16 col5\" >the Filing of</td>\n",
       "    </tr>\n",
       "    <tr>\n",
       "      <th id=\"T_a6a56_level0_row17\" class=\"row_heading level0 row17\" >17</th>\n",
       "      <td id=\"T_a6a56_row17_col0\" class=\"data row17 col0\" >Quarter 2021 Results</td>\n",
       "      <td id=\"T_a6a56_row17_col1\" class=\"data row17 col1\" >Announce Fourth Quarter</td>\n",
       "      <td id=\"T_a6a56_row17_col2\" class=\"data row17 col2\" >Income Fund Announces</td>\n",
       "      <td id=\"T_a6a56_row17_col3\" class=\"data row17 col3\" >Share Repurchase Program</td>\n",
       "      <td id=\"T_a6a56_row17_col4\" class=\"data row17 col4\" >to Acquire Coherent</td>\n",
       "      <td id=\"T_a6a56_row17_col5\" class=\"data row17 col5\" >Filing of a</td>\n",
       "    </tr>\n",
       "    <tr>\n",
       "      <th id=\"T_a6a56_level0_row18\" class=\"row_heading level0 row18\" >18</th>\n",
       "      <td id=\"T_a6a56_row18_col0\" class=\"data row18 col0\" >Results for the</td>\n",
       "      <td id=\"T_a6a56_row18_col1\" class=\"data row18 col1\" >Quarter and Fiscal</td>\n",
       "      <td id=\"T_a6a56_row18_col2\" class=\"data row18 col2\" >for Class A</td>\n",
       "      <td id=\"T_a6a56_row18_col3\" class=\"data row18 col3\" >Increase and Declares</td>\n",
       "      <td id=\"T_a6a56_row18_col4\" class=\"data row18 col4\" >Intent to Acquire</td>\n",
       "      <td id=\"T_a6a56_row18_col5\" class=\"data row18 col5\" >in Excess of</td>\n",
       "    </tr>\n",
       "    <tr>\n",
       "      <th id=\"T_a6a56_level0_row19\" class=\"row_heading level0 row19\" >19</th>\n",
       "      <td id=\"T_a6a56_row19_col0\" class=\"data row19 col0\" >Inc . Announces</td>\n",
       "      <td id=\"T_a6a56_row19_col1\" class=\"data row19 col1\" >to Announce Fourth</td>\n",
       "      <td id=\"T_a6a56_row19_col2\" class=\"data row19 col2\" >Announces Monthly Distribution</td>\n",
       "      <td id=\"T_a6a56_row19_col3\" class=\"data row19 col3\" >Increases Dividend by</td>\n",
       "      <td id=\"T_a6a56_row19_col4\" class=\"data row19 col4\" >Oasis Midstream Partners</td>\n",
       "      <td id=\"T_a6a56_row19_col5\" class=\"data row19 col5\" >Excess of $</td>\n",
       "    </tr>\n",
       "    <tr>\n",
       "      <th id=\"T_a6a56_level0_row20\" class=\"row_heading level0 row20\" >20</th>\n",
       "      <td id=\"T_a6a56_row20_col0\" class=\"data row20 col0\" >Financial Results for</td>\n",
       "      <td id=\"T_a6a56_row20_col1\" class=\"data row20 col1\" >Conference Call on</td>\n",
       "      <td id=\"T_a6a56_row20_col2\" class=\"data row20 col2\" >February 2021 Dividend</td>\n",
       "      <td id=\"T_a6a56_row20_col3\" class=\"data row20 col3\" >by 25 %</td>\n",
       "      <td id=\"T_a6a56_row20_col4\" class=\"data row20 col4\" >Closes Acquisition of</td>\n",
       "      <td id=\"T_a6a56_row20_col5\" class=\"data row20 col5\" >Losses in Excess</td>\n",
       "    </tr>\n",
       "    <tr>\n",
       "      <th id=\"T_a6a56_level0_row21\" class=\"row_heading level0 row21\" >21</th>\n",
       "      <td id=\"T_a6a56_row21_col0\" class=\"data row21 col0\" >Quarter and Fiscal</td>\n",
       "      <td id=\"T_a6a56_row21_col1\" class=\"data row21 col1\" >Host Conference Call</td>\n",
       "      <td id=\"T_a6a56_row21_col2\" class=\"data row21 col2\" >Declares First Quarter</td>\n",
       "      <td id=\"T_a6a56_row21_col3\" class=\"data row21 col3\" >Cash Dividend to</td>\n",
       "      <td id=\"T_a6a56_row21_col4\" class=\"data row21 col4\" >Group to Acquire</td>\n",
       "      <td id=\"T_a6a56_row21_col5\" class=\"data row21 col5\" >with Losses in</td>\n",
       "    </tr>\n",
       "    <tr>\n",
       "      <th id=\"T_a6a56_level0_row22\" class=\"row_heading level0 row22\" >22</th>\n",
       "      <td id=\"T_a6a56_row22_col0\" class=\"data row22 col0\" >Announces Third Quarter</td>\n",
       "      <td id=\"T_a6a56_row22_col1\" class=\"data row22 col1\" >February 25 ,</td>\n",
       "      <td id=\"T_a6a56_row22_col2\" class=\"data row22 col2\" >REIT Announces February</td>\n",
       "      <td id=\"T_a6a56_row22_col3\" class=\"data row22 col3\" >Increases Quarterly Dividend</td>\n",
       "      <td id=\"T_a6a56_row22_col4\" class=\"data row22 col4\" >to Acquire Cominar</td>\n",
       "      <td id=\"T_a6a56_row22_col5\" class=\"data row22 col5\" >, Inc .</td>\n",
       "    </tr>\n",
       "    <tr>\n",
       "      <th id=\"T_a6a56_level0_row23\" class=\"row_heading level0 row23\" >23</th>\n",
       "      <td id=\"T_a6a56_row23_col0\" class=\"data row23 col0\" >31 , 2020</td>\n",
       "      <td id=\"T_a6a56_row23_col1\" class=\"data row23 col1\" >25 , 2021</td>\n",
       "      <td id=\"T_a6a56_row23_col2\" class=\"data row23 col2\" >First Quarter 2021</td>\n",
       "      <td id=\"T_a6a56_row23_col3\" class=\"data row23 col3\" >Cash Dividend Increase</td>\n",
       "      <td id=\"T_a6a56_row23_col4\" class=\"data row23 col4\" >Agrees to Sell</td>\n",
       "      <td id=\"T_a6a56_row23_col5\" class=\"data row23 col5\" >of $ 100,000</td>\n",
       "    </tr>\n",
       "    <tr>\n",
       "      <th id=\"T_a6a56_level0_row24\" class=\"row_heading level0 row24\" >24</th>\n",
       "      <td id=\"T_a6a56_row24_col0\" class=\"data row24 col0\" >December 31 ,</td>\n",
       "      <td id=\"T_a6a56_row24_col1\" class=\"data row24 col1\" >Results Conference Call</td>\n",
       "      <td id=\"T_a6a56_row24_col2\" class=\"data row24 col2\" >Monthly Dividend Declaration</td>\n",
       "      <td id=\"T_a6a56_row24_col3\" class=\"data row24 col3\" >Viatris Announces 9</td>\n",
       "      <td id=\"T_a6a56_row24_col4\" class=\"data row24 col4\" >to Acquire a</td>\n",
       "      <td id=\"T_a6a56_row24_col5\" class=\"data row24 col5\" >Inc. and Encourages</td>\n",
       "    </tr>\n",
       "    <tr>\n",
       "      <th id=\"T_a6a56_level0_row25\" class=\"row_heading level0 row25\" >25</th>\n",
       "      <td id=\"T_a6a56_row25_col0\" class=\"data row25 col0\" >Quarter Fiscal 2021</td>\n",
       "      <td id=\"T_a6a56_row25_col1\" class=\"data row25 col1\" >and Fiscal Year</td>\n",
       "      <td id=\"T_a6a56_row25_col2\" class=\"data row25 col2\" >Dividend Declaration for</td>\n",
       "      <td id=\"T_a6a56_row25_col3\" class=\"data row25 col3\" >9 % Dividend</td>\n",
       "      <td id=\"T_a6a56_row25_col4\" class=\"data row25 col4\" >Interest in AES-100</td>\n",
       "      <td id=\"T_a6a56_row25_col5\" class=\"data row25 col5\" >Firm Announces the</td>\n",
       "    </tr>\n",
       "    <tr>\n",
       "      <th id=\"T_a6a56_level0_row26\" class=\"row_heading level0 row26\" >26</th>\n",
       "      <td id=\"T_a6a56_row26_col0\" class=\"data row26 col0\" >, Inc .</td>\n",
       "      <td id=\"T_a6a56_row26_col1\" class=\"data row26 col1\" >Fiscal Year 2020</td>\n",
       "      <td id=\"T_a6a56_row26_col2\" class=\"data row26 col2\" >Split Corp .</td>\n",
       "      <td id=\"T_a6a56_row26_col3\" class=\"data row26 col3\" >Dividend Increase ,</td>\n",
       "      <td id=\"T_a6a56_row26_col4\" class=\"data row26 col4\" >in AES-100 Inc.</td>\n",
       "      <td id=\"T_a6a56_row26_col5\" class=\"data row26 col5\" >$ 100,000 to</td>\n",
       "    </tr>\n",
       "    <tr>\n",
       "      <th id=\"T_a6a56_level0_row27\" class=\"row_heading level0 row27\" >27</th>\n",
       "      <td id=\"T_a6a56_row27_col0\" class=\"data row27 col0\" >Ended December 31</td>\n",
       "      <td id=\"T_a6a56_row27_col1\" class=\"data row27 col1\" >Conference Call and</td>\n",
       "      <td id=\"T_a6a56_row27_col2\" class=\"data row27 col2\" >Corporation Declares Quarterly</td>\n",
       "      <td id=\"T_a6a56_row27_col3\" class=\"data row27 col3\" >Increase , Fourth</td>\n",
       "      <td id=\"T_a6a56_row27_col4\" class=\"data row27 col4\" >AES-100 Inc. ,</td>\n",
       "      <td id=\"T_a6a56_row27_col5\" class=\"data row27 col5\" >100,000 to Contact</td>\n",
       "    </tr>\n",
       "    <tr>\n",
       "      <th id=\"T_a6a56_level0_row28\" class=\"row_heading level0 row28\" >28</th>\n",
       "      <td id=\"T_a6a56_row28_col0\" class=\"data row28 col0\" >and Full-Year 2020</td>\n",
       "      <td id=\"T_a6a56_row28_col1\" class=\"data row28 col1\" >Call and Webcast</td>\n",
       "      <td id=\"T_a6a56_row28_col2\" class=\"data row28 col2\" >Cash Dividend of</td>\n",
       "      <td id=\"T_a6a56_row28_col3\" class=\"data row28 col3\" >, Fourth Consecutive</td>\n",
       "      <td id=\"T_a6a56_row28_col4\" class=\"data row28 col4\" >Inc. , the</td>\n",
       "      <td id=\"T_a6a56_row28_col5\" class=\"data row28 col5\" >Lead Plaintiff Deadline</td>\n",
       "    </tr>\n",
       "    <tr>\n",
       "      <th id=\"T_a6a56_level0_row29\" class=\"row_heading level0 row29\" >29</th>\n",
       "      <td id=\"T_a6a56_row29_col0\" class=\"data row29 col0\" >Quarter and Year</td>\n",
       "      <td id=\"T_a6a56_row29_col1\" class=\"data row29 col1\" >Year 2020 Results</td>\n",
       "      <td id=\"T_a6a56_row29_col2\" class=\"data row29 col2\" >Corp . Announces</td>\n",
       "      <td id=\"T_a6a56_row29_col3\" class=\"data row29 col3\" >Fourth Consecutive Quarterly</td>\n",
       "      <td id=\"T_a6a56_row29_col4\" class=\"data row29 col4\" >, the World</td>\n",
       "      <td id=\"T_a6a56_row29_col5\" class=\"data row29 col5\" >Inc . Announces</td>\n",
       "    </tr>\n",
       "  </tbody>\n",
       "</table>\n"
      ],
      "text/plain": [
       "<pandas.io.formats.style.Styler at 0x1de9f142520>"
      ]
     },
     "execution_count": 57,
     "metadata": {},
     "output_type": "execute_result"
    }
   ],
   "source": [
    "#Check trigrams\n",
    "most_common_table(ngram=3, num_most_common=30)"
   ]
  },
  {
   "cell_type": "markdown",
   "id": "c79c2cac",
   "metadata": {},
   "source": [
    "#### Transform text tokens to str "
   ]
  },
  {
   "cell_type": "code",
   "execution_count": 58,
   "id": "f2c6fd4a",
   "metadata": {},
   "outputs": [],
   "source": [
    "#Create new feature column preprocessed_text which converts preprocessed_tokens in single str.\n",
    "data['preprocessed_text'] = data.preprocessed_tokens.apply(lambda x: \" \".join(word for word in x))"
   ]
  },
  {
   "cell_type": "code",
   "execution_count": 59,
   "id": "ed59b922",
   "metadata": {},
   "outputs": [
    {
     "data": {
      "text/plain": [
       "'adamas to announce [quarter] quarter year-end [year] financial results host conference call on [month] [year]'"
      ]
     },
     "execution_count": 59,
     "metadata": {},
     "output_type": "execute_result"
    }
   ],
   "source": [
    "#Check preprocessed sample.\n",
    "data['preprocessed_text'][1000]"
   ]
  },
  {
   "cell_type": "code",
   "execution_count": 60,
   "id": "89d39825",
   "metadata": {},
   "outputs": [
    {
     "data": {
      "text/html": [
       "<div>\n",
       "<style scoped>\n",
       "    .dataframe tbody tr th:only-of-type {\n",
       "        vertical-align: middle;\n",
       "    }\n",
       "\n",
       "    .dataframe tbody tr th {\n",
       "        vertical-align: top;\n",
       "    }\n",
       "\n",
       "    .dataframe thead th {\n",
       "        text-align: right;\n",
       "    }\n",
       "</style>\n",
       "<table border=\"1\" class=\"dataframe\">\n",
       "  <thead>\n",
       "    <tr style=\"text-align: right;\">\n",
       "      <th></th>\n",
       "      <th>Category</th>\n",
       "      <th>Title</th>\n",
       "      <th>tokenized_text</th>\n",
       "      <th>text_length</th>\n",
       "      <th>special_tokens</th>\n",
       "      <th>special_token_length</th>\n",
       "      <th>dollar_symbol</th>\n",
       "      <th>percentage_symbol</th>\n",
       "      <th>preprocessed_tokens</th>\n",
       "      <th>preprocessed_text</th>\n",
       "    </tr>\n",
       "  </thead>\n",
       "  <tbody>\n",
       "    <tr>\n",
       "      <th>0</th>\n",
       "      <td>Misc</td>\n",
       "      <td>SHAREHOLDER ALERT: Pomerantz Law Firm Reminds ...</td>\n",
       "      <td>[SHAREHOLDER, ALERT, :, Pomerantz, Law, Firm, ...</td>\n",
       "      <td>25</td>\n",
       "      <td>[:, Inc., -]</td>\n",
       "      <td>3</td>\n",
       "      <td>0</td>\n",
       "      <td>0</td>\n",
       "      <td>[shareholder, alert, pomerantz, law, firm, rem...</td>\n",
       "      <td>shareholder alert pomerantz law firm reminds s...</td>\n",
       "    </tr>\n",
       "    <tr>\n",
       "      <th>1</th>\n",
       "      <td>Misc</td>\n",
       "      <td>Rosen, A Highly Recognized Law Firm, Encourage...</td>\n",
       "      <td>[Rosen, ,, A, Highly, Recognized, Law, Firm, ,...</td>\n",
       "      <td>27</td>\n",
       "      <td>[,, ,, 9F, Inc., -]</td>\n",
       "      <td>5</td>\n",
       "      <td>0</td>\n",
       "      <td>0</td>\n",
       "      <td>[rosen, highly, recognized, law, firm, encoura...</td>\n",
       "      <td>rosen highly recognized law firm encourages in...</td>\n",
       "    </tr>\n",
       "    <tr>\n",
       "      <th>2</th>\n",
       "      <td>Misc</td>\n",
       "      <td>Albireo to Participate in Cowen and H.C. Wainw...</td>\n",
       "      <td>[Albireo, to, Participate, in, Cowen, and, H.C...</td>\n",
       "      <td>11</td>\n",
       "      <td>[H.C.]</td>\n",
       "      <td>1</td>\n",
       "      <td>0</td>\n",
       "      <td>0</td>\n",
       "      <td>[albireo, to, participate, cowen, h.c., wainwr...</td>\n",
       "      <td>albireo to participate cowen h.c. wainwright g...</td>\n",
       "    </tr>\n",
       "    <tr>\n",
       "      <th>3</th>\n",
       "      <td>Misc</td>\n",
       "      <td>SHAREHOLDER ALERT: Block &amp; Leviton LLP Has Fil...</td>\n",
       "      <td>[SHAREHOLDER, ALERT, :, Block, &amp;, Leviton, LLP...</td>\n",
       "      <td>27</td>\n",
       "      <td>[:, &amp;, ;]</td>\n",
       "      <td>3</td>\n",
       "      <td>0</td>\n",
       "      <td>0</td>\n",
       "      <td>[shareholder, alert, block, leviton, llp, file...</td>\n",
       "      <td>shareholder alert block leviton llp filed laws...</td>\n",
       "    </tr>\n",
       "    <tr>\n",
       "      <th>4</th>\n",
       "      <td>Earnings Announcement</td>\n",
       "      <td>Ekso Bionics® to Report Fourth Quarter and Ful...</td>\n",
       "      <td>[Ekso, Bionics®, to, Report, Fourth, Quarter, ...</td>\n",
       "      <td>17</td>\n",
       "      <td>[Bionics®, 2020, 25, ,, 2021]</td>\n",
       "      <td>5</td>\n",
       "      <td>0</td>\n",
       "      <td>0</td>\n",
       "      <td>[ekso, bionics®, to, report, [quarter], quarte...</td>\n",
       "      <td>ekso bionics® to report [quarter] quarter full...</td>\n",
       "    </tr>\n",
       "  </tbody>\n",
       "</table>\n",
       "</div>"
      ],
      "text/plain": [
       "                Category                                              Title  \\\n",
       "0                   Misc  SHAREHOLDER ALERT: Pomerantz Law Firm Reminds ...   \n",
       "1                   Misc  Rosen, A Highly Recognized Law Firm, Encourage...   \n",
       "2                   Misc  Albireo to Participate in Cowen and H.C. Wainw...   \n",
       "3                   Misc  SHAREHOLDER ALERT: Block & Leviton LLP Has Fil...   \n",
       "4  Earnings Announcement  Ekso Bionics® to Report Fourth Quarter and Ful...   \n",
       "\n",
       "                                      tokenized_text  text_length  \\\n",
       "0  [SHAREHOLDER, ALERT, :, Pomerantz, Law, Firm, ...           25   \n",
       "1  [Rosen, ,, A, Highly, Recognized, Law, Firm, ,...           27   \n",
       "2  [Albireo, to, Participate, in, Cowen, and, H.C...           11   \n",
       "3  [SHAREHOLDER, ALERT, :, Block, &, Leviton, LLP...           27   \n",
       "4  [Ekso, Bionics®, to, Report, Fourth, Quarter, ...           17   \n",
       "\n",
       "                  special_tokens  special_token_length  dollar_symbol  \\\n",
       "0                   [:, Inc., -]                     3              0   \n",
       "1            [,, ,, 9F, Inc., -]                     5              0   \n",
       "2                         [H.C.]                     1              0   \n",
       "3                      [:, &, ;]                     3              0   \n",
       "4  [Bionics®, 2020, 25, ,, 2021]                     5              0   \n",
       "\n",
       "   percentage_symbol                                preprocessed_tokens  \\\n",
       "0                  0  [shareholder, alert, pomerantz, law, firm, rem...   \n",
       "1                  0  [rosen, highly, recognized, law, firm, encoura...   \n",
       "2                  0  [albireo, to, participate, cowen, h.c., wainwr...   \n",
       "3                  0  [shareholder, alert, block, leviton, llp, file...   \n",
       "4                  0  [ekso, bionics®, to, report, [quarter], quarte...   \n",
       "\n",
       "                                   preprocessed_text  \n",
       "0  shareholder alert pomerantz law firm reminds s...  \n",
       "1  rosen highly recognized law firm encourages in...  \n",
       "2  albireo to participate cowen h.c. wainwright g...  \n",
       "3  shareholder alert block leviton llp filed laws...  \n",
       "4  ekso bionics® to report [quarter] quarter full...  "
      ]
     },
     "execution_count": 60,
     "metadata": {},
     "output_type": "execute_result"
    }
   ],
   "source": [
    "#Shuffle dataset\n",
    "data = data.sample(frac=1, random_state=42, ).reset_index(drop=True)\n",
    "data.head()"
   ]
  },
  {
   "cell_type": "markdown",
   "id": "c4147a03",
   "metadata": {},
   "source": [
    "## Feature Engineering and Selection "
   ]
  },
  {
   "cell_type": "markdown",
   "id": "a821dc30",
   "metadata": {},
   "source": [
    "#### Transform category labels to numeric values. "
   ]
  },
  {
   "cell_type": "code",
   "execution_count": 61,
   "id": "7b85e119",
   "metadata": {
    "scrolled": true
   },
   "outputs": [
    {
     "data": {
      "text/plain": [
       "count    11896.000000\n",
       "mean         0.822125\n",
       "std          1.689012\n",
       "min          0.000000\n",
       "25%          0.000000\n",
       "50%          0.000000\n",
       "75%          1.000000\n",
       "max          5.000000\n",
       "Name: labels, dtype: float64"
      ]
     },
     "execution_count": 61,
     "metadata": {},
     "output_type": "execute_result"
    }
   ],
   "source": [
    "#Convert Categories to numberic labels\n",
    "label_map = {'Misc': 0, 'Earnings Announcement': 1, 'Dividends': 2, 'Increased Dividend': 3, 'Acquisition': 4, 'Financials': 5}\n",
    "\n",
    "data['labels'] = data.Category.apply(lambda x: label_map[x])\n",
    "data['labels'].describe()"
   ]
  },
  {
   "cell_type": "markdown",
   "id": "33841bb1",
   "metadata": {},
   "source": [
    "#### Create Training, Validation and Testing Datasets"
   ]
  },
  {
   "cell_type": "code",
   "execution_count": 62,
   "id": "1ae21b19",
   "metadata": {},
   "outputs": [
    {
     "name": "stdout",
     "output_type": "stream",
     "text": [
      "(8327, 11)\n",
      "(8327,)\n",
      "(1784, 11)\n",
      "(1784,)\n",
      "(1785, 11)\n",
      "(1785,)\n"
     ]
    }
   ],
   "source": [
    "#Split data\n",
    "\n",
    "train_X, test_X, train_y, test_y = train_test_split(data, data.labels, test_size=0.3, random_state=42, stratify=data.labels)\n",
    "val_X, test_X, val_y, test_y = train_test_split(test_X, test_y, test_size=0.5,  random_state=42, stratify=test_y)\n",
    "\n",
    "#Check sizes of train, val and test data.\n",
    "print(train_X.shape)\n",
    "print(train_y.shape)\n",
    "\n",
    "print(val_X.shape)\n",
    "print(val_y.shape)\n",
    "\n",
    "print(test_X.shape)\n",
    "print(test_y.shape)"
   ]
  },
  {
   "cell_type": "markdown",
   "id": "285b5ee2",
   "metadata": {},
   "source": [
    "#### Undersampling of Data in Misc Category "
   ]
  },
  {
   "cell_type": "markdown",
   "id": "da76b435",
   "metadata": {},
   "source": [
    "The Misc class will be undersampled (remove 80% of samples). This will reduce but not eliminate the imbalance. The undersampling will be applied to the training data. The validation and testing data will retain the original class imbalance. "
   ]
  },
  {
   "cell_type": "code",
   "execution_count": 63,
   "id": "592cdd26",
   "metadata": {},
   "outputs": [],
   "source": [
    "#Remove 80% of samples in Misc category from training data.\n",
    "data_subset = train_X[train_X.Category == 'Misc'].sample(frac=0.8, random_state=42)\n",
    "train_X = train_X.drop(data_subset.index)"
   ]
  },
  {
   "cell_type": "code",
   "execution_count": 64,
   "id": "a1f1271d",
   "metadata": {},
   "outputs": [
    {
     "data": {
      "image/png": "[encoded data removed]",
      "text/plain": [
       "<Figure size 432x288 with 1 Axes>"
      ]
     },
     "metadata": {
      "needs_background": "light"
     },
     "output_type": "display_data"
    }
   ],
   "source": [
    "#Check new class distribution after undersampling.\n",
    "train_X.groupby('Category').count()['preprocessed_text'].plot(kind='bar', title='New Class Distribution After Undersampling')\n",
    "plt.ylabel(\"Samples per Category\")\n",
    "plt.xticks(rotation=30, horizontalalignment=\"right\")\n",
    "plt.show()"
   ]
  },
  {
   "cell_type": "code",
   "execution_count": 65,
   "id": "4f22eb40",
   "metadata": {},
   "outputs": [
    {
     "data": {
      "text/plain": [
       "Category\n",
       "Acquisition               106\n",
       "Dividends                 220\n",
       "Earnings Announcement     673\n",
       "Financials               1020\n",
       "Increased Dividend         69\n",
       "Misc                     1248\n",
       "Name: preprocessed_text, dtype: int64"
      ]
     },
     "execution_count": 65,
     "metadata": {},
     "output_type": "execute_result"
    }
   ],
   "source": [
    "#Training sample counts by Category. \n",
    "train_X.groupby('Category').count()['preprocessed_text']"
   ]
  },
  {
   "cell_type": "markdown",
   "id": "d7da1c98",
   "metadata": {},
   "source": [
    "After rebalancing, the number of training data samples declines from 8327 to 3336. The largest class (Misc) still accounts for 37% of the training data and the smallest class (Increased Dividend) accounts for only 2% of the training data. "
   ]
  },
  {
   "cell_type": "markdown",
   "id": "167feb3d",
   "metadata": {},
   "source": [
    "#### Transform Text Data to Count Vectors "
   ]
  },
  {
   "cell_type": "markdown",
   "id": "90c6f7ff",
   "metadata": {},
   "source": [
    "The input data will be count vectors with unigrams and bigrams. "
   ]
  },
  {
   "cell_type": "code",
   "execution_count": 66,
   "id": "b6dd7c84",
   "metadata": {},
   "outputs": [],
   "source": [
    "#Transform data samples to count vectors.\n",
    "\n",
    "cv = CountVectorizer(ngram_range=(1, 2)) #sklearn CountVectorizer with unigrams and bigrams.\n",
    "\n",
    "train_X_count = cv.fit_transform(train_X.preprocessed_text)\n",
    "train_y = train_X.labels\n",
    "\n",
    "val_X_count = cv.transform(val_X.preprocessed_text)\n",
    "val_y = val_y.values\n",
    "\n",
    "test_X_count = cv.transform(test_X.preprocessed_text)\n",
    "test_y = test_y.values\n"
   ]
  },
  {
   "cell_type": "code",
   "execution_count": 67,
   "id": "97646362",
   "metadata": {},
   "outputs": [
    {
     "data": {
      "text/plain": [
       "(3336, 18558)"
      ]
     },
     "execution_count": 67,
     "metadata": {},
     "output_type": "execute_result"
    }
   ],
   "source": [
    "#Shape of all count vectors\n",
    "train_X_count.shape"
   ]
  },
  {
   "cell_type": "markdown",
   "id": "7132ad93",
   "metadata": {},
   "source": [
    "The vectorized input data consists of 18558 features (unigrams and bigrams). "
   ]
  },
  {
   "cell_type": "code",
   "execution_count": 68,
   "id": "e35d56c7",
   "metadata": {},
   "outputs": [
    {
     "name": "stdout",
     "output_type": "stream",
     "text": [
      "(3336, 18558)\n",
      "(1784, 18558)\n",
      "(1785, 18558)\n",
      "(3336,)\n",
      "(1784,)\n",
      "(1785,)\n"
     ]
    }
   ],
   "source": [
    "#Check lengths of train, val and test data.\n",
    "\n",
    "print(train_X_count.shape)\n",
    "print(val_X_count.shape)\n",
    "print(test_X_count.shape)\n",
    "print(train_y.shape)\n",
    "print(val_y.shape)\n",
    "print(test_y.shape)"
   ]
  },
  {
   "cell_type": "markdown",
   "id": "3174f22c",
   "metadata": {},
   "source": [
    "## Model Selection and Validation "
   ]
  },
  {
   "cell_type": "markdown",
   "id": "b2f28594",
   "metadata": {},
   "source": [
    "### Functions to View Validation Data for Models "
   ]
  },
  {
   "cell_type": "code",
   "execution_count": 69,
   "id": "3f6c8edb",
   "metadata": {},
   "outputs": [],
   "source": [
    "#Function to print classification/validation report with categories/labels.\n",
    "def print_classification_report(true_y, preds):\n",
    "    \"\"\"\n",
    "    true_y is array containing true values of labels.\n",
    "    preds is array containing predicted values of labels.\n",
    "    \n",
    "    Returns\n",
    "        class_report is a pandas df with validation data.\n",
    "        classifcation_dict is dict with validation data.\n",
    "    \"\"\"\n",
    "    \n",
    "    #Categories of dataset.\n",
    "    categories = ['Misc', 'Earnings Announcement', 'Dividends', \n",
    "                  'Increased Dividend', 'Acquisition', 'Financials']\n",
    "    \n",
    "    #sklearn classification report dictionary.\n",
    "    classification_dict = classification_report(true_y, preds, target_names=categories, zero_division=0, output_dict=True)\n",
    "    \n",
    "    #Transform dict to pandas dataframe and transpose.\n",
    "    class_report = pd.DataFrame(classification_dict).T\n",
    "    \n",
    "    return class_report, classification_dict  \n",
    "\n",
    "\n",
    "\n",
    "def compare_models(class_report_dicts):\n",
    "    \"\"\"\n",
    "    class_report_dict is a dict of dict containing classification / validation data dicts \n",
    "    for each model (from print_classification_report function)\n",
    "    \n",
    "    list_of_classifiers is a list of strs containing names of classification models used.\n",
    "    \n",
    "    \"\"\"\n",
    "    \n",
    "    #Print Weighed Average Precision, Recall and F1 for all models.\n",
    "    \n",
    "    models = list(class_report_dicts.keys())\n",
    "\n",
    "    score_data = []\n",
    "\n",
    "    for model in models:\n",
    "        scores = class_report_dicts[model]['weighted avg']\n",
    "        index = list(scores.keys())[:-1]\n",
    "        row = list(scores.values())[:-1]\n",
    "        score_data.append(row)\n",
    "\n",
    "    report = pd.DataFrame(score_data, columns=models, index=index)\n",
    "    return report\n",
    "\n",
    "\n",
    "#Function to print formatted sklearn confusion matrix.\n",
    "def print_confusion_matrix(true_y, preds):\n",
    "    \"\"\"\n",
    "    true_y is array containing true values of labels.\n",
    "    preds is array containing predicted values of labels.\n",
    "    \"\"\"\n",
    "    \n",
    "    categories = ['Misc', 'Earnings Announcement', 'Dividends', \n",
    "                  'Increased Dividend', 'Acquisition', 'Financials']\n",
    "    \n",
    "    #sklearn confusion matrix\n",
    "    cm = ConfusionMatrixDisplay.from_predictions(true_y, preds, \n",
    "                                                 display_labels=categories, \n",
    "                                                 xticks_rotation='vertical', cmap='gray_r', colorbar=False)\n",
    "    \n",
    "    return cm\n",
    "    "
   ]
  },
  {
   "cell_type": "markdown",
   "id": "3bf4995d",
   "metadata": {},
   "source": [
    "### AdaBoost Classifier"
   ]
  },
  {
   "cell_type": "code",
   "execution_count": 70,
   "id": "d3657876",
   "metadata": {},
   "outputs": [],
   "source": [
    "#Create and Train AdaBoost Classifier and Make Predictions on Validation Set.\n",
    "clf_ada = AdaBoostClassifier(base_estimator=DecisionTreeClassifier(max_depth=10, \n",
    "                                                                   min_samples_split=6),\n",
    "                                                                   n_estimators=75, \n",
    "                                                                   random_state=42, \n",
    "                                                                   learning_rate=1.0).fit(train_X_count, train_y)\n",
    "\n",
    "preds_ada = clf_ada.predict(val_X_count)"
   ]
  },
  {
   "cell_type": "markdown",
   "id": "40035fd6",
   "metadata": {},
   "source": [
    "#### Adaboost Classification Report "
   ]
  },
  {
   "cell_type": "code",
   "execution_count": 71,
   "id": "c660d584",
   "metadata": {},
   "outputs": [
    {
     "data": {
      "text/html": [
       "<div>\n",
       "<style scoped>\n",
       "    .dataframe tbody tr th:only-of-type {\n",
       "        vertical-align: middle;\n",
       "    }\n",
       "\n",
       "    .dataframe tbody tr th {\n",
       "        vertical-align: top;\n",
       "    }\n",
       "\n",
       "    .dataframe thead th {\n",
       "        text-align: right;\n",
       "    }\n",
       "</style>\n",
       "<table border=\"1\" class=\"dataframe\">\n",
       "  <thead>\n",
       "    <tr style=\"text-align: right;\">\n",
       "      <th></th>\n",
       "      <th>precision</th>\n",
       "      <th>recall</th>\n",
       "      <th>f1-score</th>\n",
       "      <th>support</th>\n",
       "    </tr>\n",
       "  </thead>\n",
       "  <tbody>\n",
       "    <tr>\n",
       "      <th>Misc</th>\n",
       "      <td>0.993750</td>\n",
       "      <td>0.951384</td>\n",
       "      <td>0.972105</td>\n",
       "      <td>1337.000000</td>\n",
       "    </tr>\n",
       "    <tr>\n",
       "      <th>Earnings Announcement</th>\n",
       "      <td>0.908497</td>\n",
       "      <td>0.965278</td>\n",
       "      <td>0.936027</td>\n",
       "      <td>144.000000</td>\n",
       "    </tr>\n",
       "    <tr>\n",
       "      <th>Dividends</th>\n",
       "      <td>0.781818</td>\n",
       "      <td>0.914894</td>\n",
       "      <td>0.843137</td>\n",
       "      <td>47.000000</td>\n",
       "    </tr>\n",
       "    <tr>\n",
       "      <th>Increased Dividend</th>\n",
       "      <td>0.857143</td>\n",
       "      <td>0.800000</td>\n",
       "      <td>0.827586</td>\n",
       "      <td>15.000000</td>\n",
       "    </tr>\n",
       "    <tr>\n",
       "      <th>Acquisition</th>\n",
       "      <td>0.466667</td>\n",
       "      <td>0.954545</td>\n",
       "      <td>0.626866</td>\n",
       "      <td>22.000000</td>\n",
       "    </tr>\n",
       "    <tr>\n",
       "      <th>Financials</th>\n",
       "      <td>0.881857</td>\n",
       "      <td>0.954338</td>\n",
       "      <td>0.916667</td>\n",
       "      <td>219.000000</td>\n",
       "    </tr>\n",
       "    <tr>\n",
       "      <th>accuracy</th>\n",
       "      <td>0.950673</td>\n",
       "      <td>0.950673</td>\n",
       "      <td>0.950673</td>\n",
       "      <td>0.950673</td>\n",
       "    </tr>\n",
       "    <tr>\n",
       "      <th>macro avg</th>\n",
       "      <td>0.814955</td>\n",
       "      <td>0.923406</td>\n",
       "      <td>0.853731</td>\n",
       "      <td>1784.000000</td>\n",
       "    </tr>\n",
       "    <tr>\n",
       "      <th>weighted avg</th>\n",
       "      <td>0.959901</td>\n",
       "      <td>0.950673</td>\n",
       "      <td>0.953517</td>\n",
       "      <td>1784.000000</td>\n",
       "    </tr>\n",
       "  </tbody>\n",
       "</table>\n",
       "</div>"
      ],
      "text/plain": [
       "                       precision    recall  f1-score      support\n",
       "Misc                    0.993750  0.951384  0.972105  1337.000000\n",
       "Earnings Announcement   0.908497  0.965278  0.936027   144.000000\n",
       "Dividends               0.781818  0.914894  0.843137    47.000000\n",
       "Increased Dividend      0.857143  0.800000  0.827586    15.000000\n",
       "Acquisition             0.466667  0.954545  0.626866    22.000000\n",
       "Financials              0.881857  0.954338  0.916667   219.000000\n",
       "accuracy                0.950673  0.950673  0.950673     0.950673\n",
       "macro avg               0.814955  0.923406  0.853731  1784.000000\n",
       "weighted avg            0.959901  0.950673  0.953517  1784.000000"
      ]
     },
     "execution_count": 71,
     "metadata": {},
     "output_type": "execute_result"
    }
   ],
   "source": [
    "class_report_ada, class_dict_ada = print_classification_report(val_y, preds_ada)\n",
    "class_report_ada"
   ]
  },
  {
   "cell_type": "markdown",
   "id": "624bad56",
   "metadata": {},
   "source": [
    "#### Adaboost Confusion Matrix "
   ]
  },
  {
   "cell_type": "code",
   "execution_count": 72,
   "id": "376aeff8",
   "metadata": {},
   "outputs": [
    {
     "data": {
      "text/plain": [
       "<sklearn.metrics._plot.confusion_matrix.ConfusionMatrixDisplay at 0x1de9f142910>"
      ]
     },
     "execution_count": 72,
     "metadata": {},
     "output_type": "execute_result"
    },
    {
     "data": {
      "image/png": "[encoded data removed]",
      "text/plain": [
       "<Figure size 432x288 with 1 Axes>"
      ]
     },
     "metadata": {
      "needs_background": "light"
     },
     "output_type": "display_data"
    }
   ],
   "source": [
    "print_confusion_matrix(val_y, preds_ada)"
   ]
  },
  {
   "cell_type": "markdown",
   "id": "1ca6c8db",
   "metadata": {},
   "source": [
    "### Logistic Regression "
   ]
  },
  {
   "cell_type": "code",
   "execution_count": 73,
   "id": "a6e070ce",
   "metadata": {},
   "outputs": [],
   "source": [
    "##Create and Train Logistic Regression and Make Predictions on Validation Set.\n",
    "log_clf = LogisticRegression(penalty='l1', multi_class='multinomial', \n",
    "                             random_state=42, solver='saga', max_iter=1500).fit(train_X_count, train_y)\n",
    "\n",
    "preds_log = log_clf.predict(val_X_count)"
   ]
  },
  {
   "cell_type": "markdown",
   "id": "c122b1db",
   "metadata": {},
   "source": [
    "#### Logistic Regression Classification Report "
   ]
  },
  {
   "cell_type": "code",
   "execution_count": 74,
   "id": "ad19403a",
   "metadata": {},
   "outputs": [
    {
     "data": {
      "text/html": [
       "<div>\n",
       "<style scoped>\n",
       "    .dataframe tbody tr th:only-of-type {\n",
       "        vertical-align: middle;\n",
       "    }\n",
       "\n",
       "    .dataframe tbody tr th {\n",
       "        vertical-align: top;\n",
       "    }\n",
       "\n",
       "    .dataframe thead th {\n",
       "        text-align: right;\n",
       "    }\n",
       "</style>\n",
       "<table border=\"1\" class=\"dataframe\">\n",
       "  <thead>\n",
       "    <tr style=\"text-align: right;\">\n",
       "      <th></th>\n",
       "      <th>precision</th>\n",
       "      <th>recall</th>\n",
       "      <th>f1-score</th>\n",
       "      <th>support</th>\n",
       "    </tr>\n",
       "  </thead>\n",
       "  <tbody>\n",
       "    <tr>\n",
       "      <th>Misc</th>\n",
       "      <td>0.992343</td>\n",
       "      <td>0.969334</td>\n",
       "      <td>0.980704</td>\n",
       "      <td>1337.000000</td>\n",
       "    </tr>\n",
       "    <tr>\n",
       "      <th>Earnings Announcement</th>\n",
       "      <td>0.907895</td>\n",
       "      <td>0.958333</td>\n",
       "      <td>0.932432</td>\n",
       "      <td>144.000000</td>\n",
       "    </tr>\n",
       "    <tr>\n",
       "      <th>Dividends</th>\n",
       "      <td>0.814815</td>\n",
       "      <td>0.936170</td>\n",
       "      <td>0.871287</td>\n",
       "      <td>47.000000</td>\n",
       "    </tr>\n",
       "    <tr>\n",
       "      <th>Increased Dividend</th>\n",
       "      <td>0.866667</td>\n",
       "      <td>0.866667</td>\n",
       "      <td>0.866667</td>\n",
       "      <td>15.000000</td>\n",
       "    </tr>\n",
       "    <tr>\n",
       "      <th>Acquisition</th>\n",
       "      <td>0.571429</td>\n",
       "      <td>0.909091</td>\n",
       "      <td>0.701754</td>\n",
       "      <td>22.000000</td>\n",
       "    </tr>\n",
       "    <tr>\n",
       "      <th>Financials</th>\n",
       "      <td>0.923423</td>\n",
       "      <td>0.936073</td>\n",
       "      <td>0.929705</td>\n",
       "      <td>219.000000</td>\n",
       "    </tr>\n",
       "    <tr>\n",
       "      <th>accuracy</th>\n",
       "      <td>0.961883</td>\n",
       "      <td>0.961883</td>\n",
       "      <td>0.961883</td>\n",
       "      <td>0.961883</td>\n",
       "    </tr>\n",
       "    <tr>\n",
       "      <th>macro avg</th>\n",
       "      <td>0.846095</td>\n",
       "      <td>0.929278</td>\n",
       "      <td>0.880425</td>\n",
       "      <td>1784.000000</td>\n",
       "    </tr>\n",
       "    <tr>\n",
       "      <th>weighted avg</th>\n",
       "      <td>0.966142</td>\n",
       "      <td>0.961883</td>\n",
       "      <td>0.963266</td>\n",
       "      <td>1784.000000</td>\n",
       "    </tr>\n",
       "  </tbody>\n",
       "</table>\n",
       "</div>"
      ],
      "text/plain": [
       "                       precision    recall  f1-score      support\n",
       "Misc                    0.992343  0.969334  0.980704  1337.000000\n",
       "Earnings Announcement   0.907895  0.958333  0.932432   144.000000\n",
       "Dividends               0.814815  0.936170  0.871287    47.000000\n",
       "Increased Dividend      0.866667  0.866667  0.866667    15.000000\n",
       "Acquisition             0.571429  0.909091  0.701754    22.000000\n",
       "Financials              0.923423  0.936073  0.929705   219.000000\n",
       "accuracy                0.961883  0.961883  0.961883     0.961883\n",
       "macro avg               0.846095  0.929278  0.880425  1784.000000\n",
       "weighted avg            0.966142  0.961883  0.963266  1784.000000"
      ]
     },
     "execution_count": 74,
     "metadata": {},
     "output_type": "execute_result"
    }
   ],
   "source": [
    "class_report_log, class_dict_log = print_classification_report(val_y, preds_log)\n",
    "class_report_log"
   ]
  },
  {
   "cell_type": "markdown",
   "id": "991f9e40",
   "metadata": {},
   "source": [
    "#### Logistic Regression Confusion Matrix  "
   ]
  },
  {
   "cell_type": "code",
   "execution_count": 75,
   "id": "d0e24ce3",
   "metadata": {},
   "outputs": [
    {
     "data": {
      "text/plain": [
       "<sklearn.metrics._plot.confusion_matrix.ConfusionMatrixDisplay at 0x1de9f204160>"
      ]
     },
     "execution_count": 75,
     "metadata": {},
     "output_type": "execute_result"
    },
    {
     "data": {
      "image/png": "[encoded data removed]",
      "text/plain": [
       "<Figure size 432x288 with 1 Axes>"
      ]
     },
     "metadata": {
      "needs_background": "light"
     },
     "output_type": "display_data"
    }
   ],
   "source": [
    "print_confusion_matrix(val_y, preds_log)"
   ]
  },
  {
   "cell_type": "markdown",
   "id": "624254d8",
   "metadata": {},
   "source": [
    "### Support Vector Machine "
   ]
  },
  {
   "cell_type": "code",
   "execution_count": 76,
   "id": "e9711d30",
   "metadata": {},
   "outputs": [],
   "source": [
    "##Create and Train Support Vector Machine and Make Predictions on Validation Set.\n",
    "svc_clf = SVC(C=1.0, kernel='linear', random_state=42, decision_function_shape='ovo').fit(train_X_count, train_y)\n",
    "\n",
    "preds_svc = svc_clf.predict(val_X_count)"
   ]
  },
  {
   "cell_type": "markdown",
   "id": "3990a238",
   "metadata": {},
   "source": [
    "#### Support Vector Machine Classification Report "
   ]
  },
  {
   "cell_type": "code",
   "execution_count": 77,
   "id": "b6e70f23",
   "metadata": {},
   "outputs": [
    {
     "data": {
      "text/html": [
       "<div>\n",
       "<style scoped>\n",
       "    .dataframe tbody tr th:only-of-type {\n",
       "        vertical-align: middle;\n",
       "    }\n",
       "\n",
       "    .dataframe tbody tr th {\n",
       "        vertical-align: top;\n",
       "    }\n",
       "\n",
       "    .dataframe thead th {\n",
       "        text-align: right;\n",
       "    }\n",
       "</style>\n",
       "<table border=\"1\" class=\"dataframe\">\n",
       "  <thead>\n",
       "    <tr style=\"text-align: right;\">\n",
       "      <th></th>\n",
       "      <th>precision</th>\n",
       "      <th>recall</th>\n",
       "      <th>f1-score</th>\n",
       "      <th>support</th>\n",
       "    </tr>\n",
       "  </thead>\n",
       "  <tbody>\n",
       "    <tr>\n",
       "      <th>Misc</th>\n",
       "      <td>0.990129</td>\n",
       "      <td>0.975318</td>\n",
       "      <td>0.982668</td>\n",
       "      <td>1337.000000</td>\n",
       "    </tr>\n",
       "    <tr>\n",
       "      <th>Earnings Announcement</th>\n",
       "      <td>0.914474</td>\n",
       "      <td>0.965278</td>\n",
       "      <td>0.939189</td>\n",
       "      <td>144.000000</td>\n",
       "    </tr>\n",
       "    <tr>\n",
       "      <th>Dividends</th>\n",
       "      <td>0.758621</td>\n",
       "      <td>0.936170</td>\n",
       "      <td>0.838095</td>\n",
       "      <td>47.000000</td>\n",
       "    </tr>\n",
       "    <tr>\n",
       "      <th>Increased Dividend</th>\n",
       "      <td>0.909091</td>\n",
       "      <td>0.666667</td>\n",
       "      <td>0.769231</td>\n",
       "      <td>15.000000</td>\n",
       "    </tr>\n",
       "    <tr>\n",
       "      <th>Acquisition</th>\n",
       "      <td>0.680000</td>\n",
       "      <td>0.772727</td>\n",
       "      <td>0.723404</td>\n",
       "      <td>22.000000</td>\n",
       "    </tr>\n",
       "    <tr>\n",
       "      <th>Financials</th>\n",
       "      <td>0.927602</td>\n",
       "      <td>0.936073</td>\n",
       "      <td>0.931818</td>\n",
       "      <td>219.000000</td>\n",
       "    </tr>\n",
       "    <tr>\n",
       "      <th>accuracy</th>\n",
       "      <td>0.963565</td>\n",
       "      <td>0.963565</td>\n",
       "      <td>0.963565</td>\n",
       "      <td>0.963565</td>\n",
       "    </tr>\n",
       "    <tr>\n",
       "      <th>macro avg</th>\n",
       "      <td>0.863319</td>\n",
       "      <td>0.875372</td>\n",
       "      <td>0.864068</td>\n",
       "      <td>1784.000000</td>\n",
       "    </tr>\n",
       "    <tr>\n",
       "      <th>weighted avg</th>\n",
       "      <td>0.965742</td>\n",
       "      <td>0.963565</td>\n",
       "      <td>0.964115</td>\n",
       "      <td>1784.000000</td>\n",
       "    </tr>\n",
       "  </tbody>\n",
       "</table>\n",
       "</div>"
      ],
      "text/plain": [
       "                       precision    recall  f1-score      support\n",
       "Misc                    0.990129  0.975318  0.982668  1337.000000\n",
       "Earnings Announcement   0.914474  0.965278  0.939189   144.000000\n",
       "Dividends               0.758621  0.936170  0.838095    47.000000\n",
       "Increased Dividend      0.909091  0.666667  0.769231    15.000000\n",
       "Acquisition             0.680000  0.772727  0.723404    22.000000\n",
       "Financials              0.927602  0.936073  0.931818   219.000000\n",
       "accuracy                0.963565  0.963565  0.963565     0.963565\n",
       "macro avg               0.863319  0.875372  0.864068  1784.000000\n",
       "weighted avg            0.965742  0.963565  0.964115  1784.000000"
      ]
     },
     "execution_count": 77,
     "metadata": {},
     "output_type": "execute_result"
    }
   ],
   "source": [
    "class_report_svc, class_dict_svc = print_classification_report(val_y, preds_svc)\n",
    "class_report_svc"
   ]
  },
  {
   "cell_type": "markdown",
   "id": "13a83f74",
   "metadata": {},
   "source": [
    "#### Support Vector Machine Confusion Matrix  "
   ]
  },
  {
   "cell_type": "code",
   "execution_count": 78,
   "id": "a89ad5d5",
   "metadata": {},
   "outputs": [
    {
     "data": {
      "text/plain": [
       "<sklearn.metrics._plot.confusion_matrix.ConfusionMatrixDisplay at 0x1de9f25aa30>"
      ]
     },
     "execution_count": 78,
     "metadata": {},
     "output_type": "execute_result"
    },
    {
     "data": {
      "image/png": "[encoded data removed]",
      "text/plain": [
       "<Figure size 432x288 with 1 Axes>"
      ]
     },
     "metadata": {
      "needs_background": "light"
     },
     "output_type": "display_data"
    }
   ],
   "source": [
    "print_confusion_matrix(val_y, preds_svc)"
   ]
  },
  {
   "cell_type": "markdown",
   "id": "d2aec5f8",
   "metadata": {},
   "source": [
    "### Compare Model Performance"
   ]
  },
  {
   "cell_type": "code",
   "execution_count": 79,
   "id": "1c9ee363",
   "metadata": {},
   "outputs": [
    {
     "data": {
      "text/html": [
       "<div>\n",
       "<style scoped>\n",
       "    .dataframe tbody tr th:only-of-type {\n",
       "        vertical-align: middle;\n",
       "    }\n",
       "\n",
       "    .dataframe tbody tr th {\n",
       "        vertical-align: top;\n",
       "    }\n",
       "\n",
       "    .dataframe thead th {\n",
       "        text-align: right;\n",
       "    }\n",
       "</style>\n",
       "<table border=\"1\" class=\"dataframe\">\n",
       "  <thead>\n",
       "    <tr style=\"text-align: right;\">\n",
       "      <th></th>\n",
       "      <th>AdaBoost</th>\n",
       "      <th>Logistic Regression</th>\n",
       "      <th>Support Vector</th>\n",
       "    </tr>\n",
       "  </thead>\n",
       "  <tbody>\n",
       "    <tr>\n",
       "      <th>precision</th>\n",
       "      <td>0.959901</td>\n",
       "      <td>0.950673</td>\n",
       "      <td>0.953517</td>\n",
       "    </tr>\n",
       "    <tr>\n",
       "      <th>recall</th>\n",
       "      <td>0.966142</td>\n",
       "      <td>0.961883</td>\n",
       "      <td>0.963266</td>\n",
       "    </tr>\n",
       "    <tr>\n",
       "      <th>f1-score</th>\n",
       "      <td>0.965742</td>\n",
       "      <td>0.963565</td>\n",
       "      <td>0.964115</td>\n",
       "    </tr>\n",
       "  </tbody>\n",
       "</table>\n",
       "</div>"
      ],
      "text/plain": [
       "           AdaBoost  Logistic Regression  Support Vector\n",
       "precision  0.959901             0.950673        0.953517\n",
       "recall     0.966142             0.961883        0.963266\n",
       "f1-score   0.965742             0.963565        0.964115"
      ]
     },
     "execution_count": 79,
     "metadata": {},
     "output_type": "execute_result"
    }
   ],
   "source": [
    "#Comparison Performance of Models\n",
    "class_report_dicts = {'AdaBoost': class_dict_ada, 'Logistic Regression': class_dict_log, 'Support Vector': class_dict_svc}\n",
    "\n",
    "compare_models(class_report_dicts)"
   ]
  },
  {
   "cell_type": "markdown",
   "id": "996ede07",
   "metadata": {},
   "source": [
    "All 3 of the models perform reasonably well with precision, recall and f1 scores all above 95%.\n",
    "\n",
    "AdaBoost outperforms Logistic Regression and Support Vector Classification on precision, recall and f1 by a small margin. \n",
    "\n",
    "AdaBoost performs particularly well on the classes that would contain the most useful information (Financials, Acquisitions, and Increased Dividend). AdaBoost correctly classifies 94.5% of the validation samples in these 3 classes compared to 93.0% for Logistic Regression and 90.6% for Support Vector Classification.  "
   ]
  },
  {
   "cell_type": "markdown",
   "id": "89db53cc",
   "metadata": {},
   "source": [
    "## Model Selection and Testing"
   ]
  },
  {
   "cell_type": "markdown",
   "id": "edef8282",
   "metadata": {},
   "source": [
    "##### AdaBoost will be selected as the final model for testing. "
   ]
  },
  {
   "cell_type": "code",
   "execution_count": 80,
   "id": "0a12a530",
   "metadata": {},
   "outputs": [],
   "source": [
    "#AdaBoost Performance on Test Set\n",
    "test_preds = clf_ada.predict(test_X_count)"
   ]
  },
  {
   "cell_type": "code",
   "execution_count": 81,
   "id": "55c36b47",
   "metadata": {},
   "outputs": [
    {
     "data": {
      "text/html": [
       "<div>\n",
       "<style scoped>\n",
       "    .dataframe tbody tr th:only-of-type {\n",
       "        vertical-align: middle;\n",
       "    }\n",
       "\n",
       "    .dataframe tbody tr th {\n",
       "        vertical-align: top;\n",
       "    }\n",
       "\n",
       "    .dataframe thead th {\n",
       "        text-align: right;\n",
       "    }\n",
       "</style>\n",
       "<table border=\"1\" class=\"dataframe\">\n",
       "  <thead>\n",
       "    <tr style=\"text-align: right;\">\n",
       "      <th></th>\n",
       "      <th>precision</th>\n",
       "      <th>recall</th>\n",
       "      <th>f1-score</th>\n",
       "      <th>support</th>\n",
       "    </tr>\n",
       "  </thead>\n",
       "  <tbody>\n",
       "    <tr>\n",
       "      <th>Misc</th>\n",
       "      <td>0.989028</td>\n",
       "      <td>0.943904</td>\n",
       "      <td>0.965940</td>\n",
       "      <td>1337.000000</td>\n",
       "    </tr>\n",
       "    <tr>\n",
       "      <th>Earnings Announcement</th>\n",
       "      <td>0.889610</td>\n",
       "      <td>0.951389</td>\n",
       "      <td>0.919463</td>\n",
       "      <td>144.000000</td>\n",
       "    </tr>\n",
       "    <tr>\n",
       "      <th>Dividends</th>\n",
       "      <td>0.733333</td>\n",
       "      <td>0.936170</td>\n",
       "      <td>0.822430</td>\n",
       "      <td>47.000000</td>\n",
       "    </tr>\n",
       "    <tr>\n",
       "      <th>Increased Dividend</th>\n",
       "      <td>0.764706</td>\n",
       "      <td>0.866667</td>\n",
       "      <td>0.812500</td>\n",
       "      <td>15.000000</td>\n",
       "    </tr>\n",
       "    <tr>\n",
       "      <th>Acquisition</th>\n",
       "      <td>0.428571</td>\n",
       "      <td>0.782609</td>\n",
       "      <td>0.553846</td>\n",
       "      <td>23.000000</td>\n",
       "    </tr>\n",
       "    <tr>\n",
       "      <th>Financials</th>\n",
       "      <td>0.898305</td>\n",
       "      <td>0.968037</td>\n",
       "      <td>0.931868</td>\n",
       "      <td>219.000000</td>\n",
       "    </tr>\n",
       "    <tr>\n",
       "      <th>accuracy</th>\n",
       "      <td>0.944538</td>\n",
       "      <td>0.944538</td>\n",
       "      <td>0.944538</td>\n",
       "      <td>0.944538</td>\n",
       "    </tr>\n",
       "    <tr>\n",
       "      <th>macro avg</th>\n",
       "      <td>0.783926</td>\n",
       "      <td>0.908129</td>\n",
       "      <td>0.834341</td>\n",
       "      <td>1785.000000</td>\n",
       "    </tr>\n",
       "    <tr>\n",
       "      <th>weighted avg</th>\n",
       "      <td>0.954038</td>\n",
       "      <td>0.944538</td>\n",
       "      <td>0.947632</td>\n",
       "      <td>1785.000000</td>\n",
       "    </tr>\n",
       "  </tbody>\n",
       "</table>\n",
       "</div>"
      ],
      "text/plain": [
       "                       precision    recall  f1-score      support\n",
       "Misc                    0.989028  0.943904  0.965940  1337.000000\n",
       "Earnings Announcement   0.889610  0.951389  0.919463   144.000000\n",
       "Dividends               0.733333  0.936170  0.822430    47.000000\n",
       "Increased Dividend      0.764706  0.866667  0.812500    15.000000\n",
       "Acquisition             0.428571  0.782609  0.553846    23.000000\n",
       "Financials              0.898305  0.968037  0.931868   219.000000\n",
       "accuracy                0.944538  0.944538  0.944538     0.944538\n",
       "macro avg               0.783926  0.908129  0.834341  1785.000000\n",
       "weighted avg            0.954038  0.944538  0.947632  1785.000000"
      ]
     },
     "execution_count": 81,
     "metadata": {},
     "output_type": "execute_result"
    }
   ],
   "source": [
    "#Classification report for final model (AdaBoost)\n",
    "class_report_ada_test, _ = print_classification_report(test_y, test_preds)\n",
    "class_report_ada_test"
   ]
  },
  {
   "cell_type": "code",
   "execution_count": 82,
   "id": "2b4418e3",
   "metadata": {},
   "outputs": [
    {
     "data": {
      "text/plain": [
       "<sklearn.metrics._plot.confusion_matrix.ConfusionMatrixDisplay at 0x1de9f0ad550>"
      ]
     },
     "execution_count": 82,
     "metadata": {},
     "output_type": "execute_result"
    },
    {
     "data": {
      "image/png": "[encoded data removed]",
      "text/plain": [
       "<Figure size 432x288 with 1 Axes>"
      ]
     },
     "metadata": {
      "needs_background": "light"
     },
     "output_type": "display_data"
    }
   ],
   "source": [
    "#Confusion Matrix for Final model\n",
    "print_confusion_matrix(test_y, test_preds)"
   ]
  },
  {
   "cell_type": "markdown",
   "id": "22158b53",
   "metadata": {},
   "source": [
    "The performance of the AdaBoost classifier on the test set was comparable (although slightly lower) to the performance on the validation data. \n",
    "\n",
    "The AdaBoost classifier correctly classified 94.5% of the testing samples in the 3 categories of greatest interest (Financials, Acquisition, and Increased Dividend)."
   ]
  },
  {
   "cell_type": "markdown",
   "id": "a99527b3",
   "metadata": {},
   "source": [
    "## Feature Importances "
   ]
  },
  {
   "cell_type": "code",
   "execution_count": 83,
   "id": "7b304322",
   "metadata": {},
   "outputs": [],
   "source": [
    "#Function to display chart or table of most important features in model. \n",
    "\n",
    "def display_feature__importances(num_top_features=20, output='chart'):\n",
    "    \"\"\"\n",
    "    num_top_features is an int which specifies the number of top feature importances to display.\n",
    "    output is a str (chart, table) which specifies if the output will be a chart or a table.\n",
    "    \n",
    "    Returns chart or table of feature importances.\n",
    "    \"\"\"\n",
    "    \n",
    "    df = pd.DataFrame(clf_ada.feature_importances_, columns=['Importance']) #Feature importances from model in pandas df format.\n",
    "    df = df.sort_values('Importance', ascending=False).head(num_top_features) #Sort feature importances descending.\n",
    "    \n",
    "    word_idxs = df.index.values #Get index values for features which will correspond to indices in count vec vocabulary.\n",
    "    \n",
    "    cv_vocab = cv.vocabulary_ #CountVectorizer vocabulary dict.\n",
    "    vocab_importance_map = {cv_vocab[key]: key for key in cv_vocab} #Invert dict some vocab can be retrieved by index.\n",
    "    \n",
    "    #Pandas df of vocab terms and indices from CountVectorizer\n",
    "    importance_words = pd.DataFrame([vocab_importance_map[idx] for idx in word_idxs],\n",
    "                                     index=word_idxs, columns=['Terms'])\n",
    "    \n",
    "    df['Terms'] = importance_words #Add words/features to corresponding importance values. \n",
    "    \n",
    "    #Output results as either bar chart or table.\n",
    "    if output == 'chart':\n",
    "        title = 'Top %s Features' % (num_top_features)\n",
    "        return df.plot('Terms', kind='barh', figsize=(8, num_top_features/4), title=title).invert_yaxis()\n",
    "    \n",
    "    elif output == 'table':\n",
    "        return df  "
   ]
  },
  {
   "cell_type": "markdown",
   "id": "05b137a5",
   "metadata": {},
   "source": [
    "#### Display Most Importance Features "
   ]
  },
  {
   "cell_type": "code",
   "execution_count": 89,
   "id": "74f402ff",
   "metadata": {},
   "outputs": [
    {
     "data": {
      "image/png": "[encoded data removed]",
      "text/plain": [
       "<Figure size 576x540 with 1 Axes>"
      ]
     },
     "metadata": {
      "needs_background": "light"
     },
     "output_type": "display_data"
    }
   ],
   "source": [
    "#Top 30 Features\n",
    "display_feature__importances(num_top_features=30)"
   ]
  },
  {
   "cell_type": "markdown",
   "id": "dbbb2829",
   "metadata": {},
   "source": [
    "The feature importances are largely as expected. Most of the terms in the top 30 features are financial terms related to the categories (such as dividend, acquires, distribution increase, revenues, etc.). Few relavant bigrams made the list of most important features. "
   ]
  },
  {
   "cell_type": "markdown",
   "id": "57381f60",
   "metadata": {},
   "source": [
    "## Financial News Classifier App "
   ]
  },
  {
   "cell_type": "markdown",
   "id": "5ecf9abd",
   "metadata": {},
   "source": [
    "The make_prediction function below can be used to test the trained classifier on new data. This function could be used in an API or application that would classify news release headlines (inputed as raw text) into 1 of the categories. "
   ]
  },
  {
   "cell_type": "code",
   "execution_count": 85,
   "id": "c204c98f",
   "metadata": {},
   "outputs": [],
   "source": [
    "#Text Preprocessing Function\n",
    "\n",
    "def preprocess_text(text):\n",
    "    \"\"\"\n",
    "    text is a str that will be preprocessed and count vectorized for classification.\n",
    "    Returns a count vector representing the input text.\n",
    "    \"\"\"\n",
    "    tokens = word_tokenize(text) #Word Tokenize str.\n",
    "    tokens = [token for token in tokens if token not in modified_puncuation] #Remove punctuation.\n",
    "    tokens = [token.lower() for token in tokens] #Convert to lower case.\n",
    "    tokens = [token if token not in words_to_replace else '[quarter]' for token in tokens] #Replace select words.\n",
    "    tokens = [token if token not in months else '[month]' for token in tokens] #Replace select words.\n",
    "    tokens = [token for token in tokens if token not in stops] #Remove stopwords.\n",
    "    tokens = [token if re.match(r'[0-9]{4}$', token) == None else '[year]' for token in tokens] #Covert 4 digits numbers to str [year]\n",
    "    tokens = [token for token in tokens if re.match(r'[0-9]+', token) == None] #Remove all non 4 digit numbers.\n",
    "    text_processed = \" \".join(word for word in tokens) #Combine list of tokens into str.\n",
    "    \n",
    "    count_vector = cv.transform([text_processed]) #Transform str into count vector.\n",
    "    \n",
    "    return count_vector\n",
    "    \n",
    "    "
   ]
  },
  {
   "cell_type": "markdown",
   "id": "aa0a0e48",
   "metadata": {},
   "source": [
    "### Prediction Function "
   ]
  },
  {
   "cell_type": "code",
   "execution_count": 86,
   "id": "98296797",
   "metadata": {},
   "outputs": [],
   "source": [
    "#Function to classify raw input text.\n",
    "\n",
    "def make_prediction(text):\n",
    "    \"\"\"\n",
    "    text is a str which the function will preprocess and classify.\n",
    "    Returns the prediction for the category that the text belongs to. \n",
    "    \"\"\"\n",
    "    count_vector = preprocess_text(text) #Preprocess raw text into count vector.\n",
    "    \n",
    "    pred = clf_ada.predict(count_vector)[0] #Make prediction.\n",
    "    \n",
    "    #Dict to map numeric prediction to Category.\n",
    "    class_map = {0: 'Misc', 1: 'Earnings Announcement', 2: 'Dividends', \n",
    "                 3: 'Increased Dividend', 4: 'Acquisition', 5: 'Financials'}\n",
    "    \n",
    "    return class_map[pred]\n",
    "    \n",
    "    "
   ]
  },
  {
   "cell_type": "markdown",
   "id": "1e77c880",
   "metadata": {},
   "source": [
    "#### Experiment with different text strings (financial news headlines) to see how the model classifies new samples. "
   ]
  },
  {
   "cell_type": "code",
   "execution_count": 87,
   "id": "87121467",
   "metadata": {},
   "outputs": [
    {
     "data": {
      "text/plain": [
       "'Misc'"
      ]
     },
     "execution_count": 87,
     "metadata": {},
     "output_type": "execute_result"
    }
   ],
   "source": [
    "#Test prediction function.\n",
    "text = 'Prince Acquisition Corp. Completes IPO'\n",
    "\n",
    "make_prediction(text)"
   ]
  },
  {
   "cell_type": "code",
   "execution_count": 88,
   "id": "8bd887e9",
   "metadata": {},
   "outputs": [],
   "source": [
    "#SAMPLE NEWS RELEASE HEADLINES TO TEST\n",
    "\n",
    "#VALUE LINE, INC. ANNOUNCES A 13.6% INCREASE IN ITS QUARTERLY CASH DIVIDEND TO $0.25 PER COMMON SHARE; 8TH CONSECUTIVE INCREASE\n",
    "#Bank of the James Announces First Quarter 2022 Financial Results and Declaration of Dividend\n",
    "#METROCITY BANKSHARES, INC. REPORTS EARNINGS FOR FIRST QUARTER 2022\n",
    "#Premier Health Completes the Previously Announced Acquisition of Canadian Health Care Agency\n",
    "#Prince International Corporation Completes Acquisition of Ferro Corporation\n",
    "#Modiv Completes $56 Million Acquisition of Industrial Sale Leaseback Portfolio\n",
    "#Cavco Industries Announces Closing of Acquisition of Manufacturing Facility in North Carolina, Expanding Affordable Home Production Capabilities\n",
    "#SPAC Global Blockchain Acquisition Corp. Files for IPO\n",
    "#SHUAA Partners Acquisition Corp I Announces the Separate Trading of its Class A Ordinary Shares and Warrants, Commencing April 22, 2022"
   ]
  },
  {
   "cell_type": "markdown",
   "id": "4f2163b4",
   "metadata": {},
   "source": [
    "## Final Analysis and Conclusions "
   ]
  },
  {
   "cell_type": "markdown",
   "id": "9034a549",
   "metadata": {},
   "source": [
    "The dataset consists of 11,896 samples of financial news headlines with each sample labelled as 1 of 6 classes/categories (Financials, Acquisition, Increased Dividend, Dividend, Earnings Announcement, and Misc). The Categories are highly imbalanced with the largest category (Misc) accounting for 75% of the data and the smallest category (Increased Dividend) accounting for 0.8% of the data.\n",
    "\n",
    "The final model generates multi-class, classifications of samples into one of the 6 categories. Classifying financial news release headlines can help financial analysts and investors focus on important information (Financials, Acquisition, and Increased Dividend) and filter out noise (Dividend, Earnings Announcement and Misc). \n",
    "\n",
    "Exploratory data analysis indicated that certain special tokens ($ and \\%) and certain stop words (\"on\", \"to\", and \"will\") would likely be useful features to retain. Unigram and bigrams appeared to differentiate the categories and would likely be useful for classification. Trigrams contained several company names which could overfit the model. Sentence length and number of special tokens did not appear to provide good features for classification. \n",
    "\n",
    "Standard text preprocessing was conducted including removal of punctuation and symbols (with the exception of the $ and \\% signs), conversion to lower case, normalization of certain word groups, removal of stop words (with the exception of \"on\", \"to\", and \"will\") and removal of most numeric values. The text samples were transformed to count vectors consisting of unigrams and bigrams.  \n",
    "\n",
    "Training (70%), validation (15%) and testing (15%) datasets were created. The testing data was not used until the final model and all hyperparameters were selected. Undersampling was performed on the training set (not the validation and testing sets) with the removal of 80% of the Misc category samples. This reduced the number of training samples from 8327 to 3336. The class remained highly imbalanced. \n",
    "\n",
    "Three classification algorithms were tested and compared on the training and validation data (AdaBoost, Logistic Regression and Support Vector). These algorithms were chosen because they are standard, widely used, classification techniques that represent a range of approaches to the classification problem. Hyperparameter tuning was conducted to optimize each model’s performance on the validation set. \n",
    "\n",
    "All there models performed well on the validation set. Precision, recall and f1 score were used as validation metrics which was appropriate for the unbalanced classes. AdaBoost did outperform the other two models (although marginally) on precision, recall and f1. AdaBoost performed particularly well on classifying the 3 categories of greatest interest (Financials, Acquisition and Increased Dividend). \n",
    "\n",
    "AdaBoost was selected as the final model and performed well on the testing set with precision of 95.4%, recall of 94.5% and an f1 score of 94.5%. The final model also correctly classified 94.5% of test samples from the Financials, Acquisition and Increased Dividend categories. The performance was impressive, especially considering the class imbalance of the categories and the small number of training samples in the Increased Dividend and Acquisition classes. \n",
    "\n",
    "Feature importances of the final model were visualized. Most of the top terms were related to the financial categories were expected to be useful for classification. There were a small number of relevant bigrams in the top 30 features. \n",
    "\n",
    "Two functions were created (preprocess_text and make_prediction) to test the final model on new financial news headlines. These functions can also be used to power an application which could classify and filter a live stream of news headlines. \n",
    "\n",
    "There are a number of different steps that could be taken to further improve the model. \n",
    "* Add more data to better balance the classes and increase the number of training samples in the smaller categories (Increased Dividend and Acquisition). \n",
    "* Experimenting with additional models (including deep learning and gradient boosting). \n",
    "* Performing hyperparameter tuning with GridSearchCV.\n",
    "* Experimenting with other feature engineering techniques (including TFIDF, word2vec, and doc2vec).\n"
   ]
  }
 ],
 "metadata": {
  "kernelspec": {
   "display_name": "Python 3 (ipykernel)",
   "language": "python",
   "name": "python3"
  },
  "language_info": {
   "codemirror_mode": {
    "name": "ipython",
    "version": 3
   },
   "file_extension": ".py",
   "mimetype": "text/x-python",
   "name": "python",
   "nbconvert_exporter": "python",
   "pygments_lexer": "ipython3",
   "version": "3.9.7"
  }
 },
 "nbformat": 4,
 "nbformat_minor": 5
}
